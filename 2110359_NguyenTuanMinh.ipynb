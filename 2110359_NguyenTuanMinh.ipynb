{
  "cells": [
    {
      "cell_type": "markdown",
      "metadata": {
        "id": "2hvAlyXlBT06"
      },
      "source": [
        "## 1. Import Library\n"
      ]
    },
    {
      "cell_type": "code",
      "execution_count": 63,
      "metadata": {
        "id": "WIUtwYCTBT1F"
      },
      "outputs": [],
      "source": [
        "import numpy as np\n",
        "import matplotlib.pyplot as plt\n",
        "import pandas as pd\n",
        "from sklearn import model_selection, preprocessing\n",
        "from sklearn.feature_extraction.text import TfidfVectorizer\n",
        "\n",
        "np.random.seed(123) #for reprodicible results\n",
        "%matplotlib inline"
      ]
    },
    {
      "cell_type": "markdown",
      "metadata": {
        "id": "amzS6qjLBT1M"
      },
      "source": [
        "## 2. Data Preparation"
      ]
    },
    {
      "cell_type": "code",
      "execution_count": 64,
      "metadata": {
        "id": "yB3NlJn2BT1O"
      },
      "outputs": [],
      "source": [
        "df = pd.read_csv('./Fixed_news_dataset.csv')\n",
        "## Link data: https://www.kaggle.com/datasets/sarahhimeko/vietnamese-online-news-csv-dataset"
      ]
    },
    {
      "cell_type": "code",
      "execution_count": 65,
      "metadata": {
        "colab": {
          "base_uri": "https://localhost:8080/",
          "height": 459
        },
        "id": "15J82NEGBT1P",
        "outputId": "b56f2184-f32e-4472-9876-cab9abfe74c8"
      },
      "outputs": [
        {
          "output_type": "execute_result",
          "data": {
            "text/plain": [
              "   Unnamed: 0.1  Unnamed: 0      id      author  \\\n",
              "0             0           0  218270         NaN   \n",
              "1             1           1  218269  doãn hằng    \n",
              "2             2           2  218268         NaN   \n",
              "3             3           3  218267         NaN   \n",
              "4             4           4  218266      mi lan   \n",
              "\n",
              "                                             content  picture_count  \\\n",
              "0  Chiều 31/7, Công an tỉnh Thừa Thiên - Huế thôn...              3   \n",
              "1  Gần đây, Thứ trưởng Bộ Phát triển Kỹ thuật số,...              1   \n",
              "2  Kết thi nghiệp THPT 2022 trung bình môn toán, ...              3   \n",
              "3  Thống đốc Kentucky Andy Beshear hôm 31/7 đợt m...              1   \n",
              "4  Vụ tai nạn giao thông liên hoàn phố đi Tam Bạc...             12   \n",
              "\n",
              "   processed        source                                              title  \\\n",
              "0          0     docbao.vn  Tên cướp tiệm vàng Huế đại uý công an, công tá...   \n",
              "1          0        vtc.vn                   Bỏ mạng 5G, Nga tiến thẳng 4G 6G   \n",
              "2          0  thanhnien.vn  Địa phương đứng đầu tổng 3 môn văn, toán, ngoạ...   \n",
              "3          0     vnexpress                Người chết mưa lũ 'nghìn một' Mỹ 28   \n",
              "4          0          soha  Hải Phòng: Hình ảnh xe \"điên\" tai nạn liên hoà...   \n",
              "\n",
              "                 topic                                                url  \\\n",
              "0            Pháp luật  https://docbao.vn/phap-luat/ten-cuop-tiem-vang...   \n",
              "1  Sức khỏe - Đời sống  https://vtc.vn/bo-qua-mang-5g-nga-tien-thang-t...   \n",
              "2             Giáo dục  https://thanhnien.vn/dia-phuong-nao-dung-dau-c...   \n",
              "3             Thế giới  https://vnexpress.net/nguoi-chet-trong-mua-lu-...   \n",
              "4              Thời sự  https://soha.vn/hai-phong-hinh-anh-xe-dien-gay...   \n",
              "\n",
              "                   crawled_at  \n",
              "0  2022-08-01 09:09:22.817308  \n",
              "1  2022-08-01 09:09:21.181469  \n",
              "2  2022-08-01 09:09:15.311901  \n",
              "3  2022-08-01 09:09:02.211498  \n",
              "4  2022-08-01 09:09:01.601170  "
            ],
            "text/html": [
              "\n",
              "  <div id=\"df-c12e8ea4-5141-4484-96ad-a7c4903d45d7\" class=\"colab-df-container\">\n",
              "    <div>\n",
              "<style scoped>\n",
              "    .dataframe tbody tr th:only-of-type {\n",
              "        vertical-align: middle;\n",
              "    }\n",
              "\n",
              "    .dataframe tbody tr th {\n",
              "        vertical-align: top;\n",
              "    }\n",
              "\n",
              "    .dataframe thead th {\n",
              "        text-align: right;\n",
              "    }\n",
              "</style>\n",
              "<table border=\"1\" class=\"dataframe\">\n",
              "  <thead>\n",
              "    <tr style=\"text-align: right;\">\n",
              "      <th></th>\n",
              "      <th>Unnamed: 0.1</th>\n",
              "      <th>Unnamed: 0</th>\n",
              "      <th>id</th>\n",
              "      <th>author</th>\n",
              "      <th>content</th>\n",
              "      <th>picture_count</th>\n",
              "      <th>processed</th>\n",
              "      <th>source</th>\n",
              "      <th>title</th>\n",
              "      <th>topic</th>\n",
              "      <th>url</th>\n",
              "      <th>crawled_at</th>\n",
              "    </tr>\n",
              "  </thead>\n",
              "  <tbody>\n",
              "    <tr>\n",
              "      <th>0</th>\n",
              "      <td>0</td>\n",
              "      <td>0</td>\n",
              "      <td>218270</td>\n",
              "      <td>NaN</td>\n",
              "      <td>Chiều 31/7, Công an tỉnh Thừa Thiên - Huế thôn...</td>\n",
              "      <td>3</td>\n",
              "      <td>0</td>\n",
              "      <td>docbao.vn</td>\n",
              "      <td>Tên cướp tiệm vàng Huế đại uý công an, công tá...</td>\n",
              "      <td>Pháp luật</td>\n",
              "      <td>https://docbao.vn/phap-luat/ten-cuop-tiem-vang...</td>\n",
              "      <td>2022-08-01 09:09:22.817308</td>\n",
              "    </tr>\n",
              "    <tr>\n",
              "      <th>1</th>\n",
              "      <td>1</td>\n",
              "      <td>1</td>\n",
              "      <td>218269</td>\n",
              "      <td>doãn hằng</td>\n",
              "      <td>Gần đây, Thứ trưởng Bộ Phát triển Kỹ thuật số,...</td>\n",
              "      <td>1</td>\n",
              "      <td>0</td>\n",
              "      <td>vtc.vn</td>\n",
              "      <td>Bỏ mạng 5G, Nga tiến thẳng 4G 6G</td>\n",
              "      <td>Sức khỏe - Đời sống</td>\n",
              "      <td>https://vtc.vn/bo-qua-mang-5g-nga-tien-thang-t...</td>\n",
              "      <td>2022-08-01 09:09:21.181469</td>\n",
              "    </tr>\n",
              "    <tr>\n",
              "      <th>2</th>\n",
              "      <td>2</td>\n",
              "      <td>2</td>\n",
              "      <td>218268</td>\n",
              "      <td>NaN</td>\n",
              "      <td>Kết thi nghiệp THPT 2022 trung bình môn toán, ...</td>\n",
              "      <td>3</td>\n",
              "      <td>0</td>\n",
              "      <td>thanhnien.vn</td>\n",
              "      <td>Địa phương đứng đầu tổng 3 môn văn, toán, ngoạ...</td>\n",
              "      <td>Giáo dục</td>\n",
              "      <td>https://thanhnien.vn/dia-phuong-nao-dung-dau-c...</td>\n",
              "      <td>2022-08-01 09:09:15.311901</td>\n",
              "    </tr>\n",
              "    <tr>\n",
              "      <th>3</th>\n",
              "      <td>3</td>\n",
              "      <td>3</td>\n",
              "      <td>218267</td>\n",
              "      <td>NaN</td>\n",
              "      <td>Thống đốc Kentucky Andy Beshear hôm 31/7 đợt m...</td>\n",
              "      <td>1</td>\n",
              "      <td>0</td>\n",
              "      <td>vnexpress</td>\n",
              "      <td>Người chết mưa lũ 'nghìn một' Mỹ 28</td>\n",
              "      <td>Thế giới</td>\n",
              "      <td>https://vnexpress.net/nguoi-chet-trong-mua-lu-...</td>\n",
              "      <td>2022-08-01 09:09:02.211498</td>\n",
              "    </tr>\n",
              "    <tr>\n",
              "      <th>4</th>\n",
              "      <td>4</td>\n",
              "      <td>4</td>\n",
              "      <td>218266</td>\n",
              "      <td>mi lan</td>\n",
              "      <td>Vụ tai nạn giao thông liên hoàn phố đi Tam Bạc...</td>\n",
              "      <td>12</td>\n",
              "      <td>0</td>\n",
              "      <td>soha</td>\n",
              "      <td>Hải Phòng: Hình ảnh xe \"điên\" tai nạn liên hoà...</td>\n",
              "      <td>Thời sự</td>\n",
              "      <td>https://soha.vn/hai-phong-hinh-anh-xe-dien-gay...</td>\n",
              "      <td>2022-08-01 09:09:01.601170</td>\n",
              "    </tr>\n",
              "  </tbody>\n",
              "</table>\n",
              "</div>\n",
              "    <div class=\"colab-df-buttons\">\n",
              "\n",
              "  <div class=\"colab-df-container\">\n",
              "    <button class=\"colab-df-convert\" onclick=\"convertToInteractive('df-c12e8ea4-5141-4484-96ad-a7c4903d45d7')\"\n",
              "            title=\"Convert this dataframe to an interactive table.\"\n",
              "            style=\"display:none;\">\n",
              "\n",
              "  <svg xmlns=\"http://www.w3.org/2000/svg\" height=\"24px\" viewBox=\"0 -960 960 960\">\n",
              "    <path d=\"M120-120v-720h720v720H120Zm60-500h600v-160H180v160Zm220 220h160v-160H400v160Zm0 220h160v-160H400v160ZM180-400h160v-160H180v160Zm440 0h160v-160H620v160ZM180-180h160v-160H180v160Zm440 0h160v-160H620v160Z\"/>\n",
              "  </svg>\n",
              "    </button>\n",
              "\n",
              "  <style>\n",
              "    .colab-df-container {\n",
              "      display:flex;\n",
              "      gap: 12px;\n",
              "    }\n",
              "\n",
              "    .colab-df-convert {\n",
              "      background-color: #E8F0FE;\n",
              "      border: none;\n",
              "      border-radius: 50%;\n",
              "      cursor: pointer;\n",
              "      display: none;\n",
              "      fill: #1967D2;\n",
              "      height: 32px;\n",
              "      padding: 0 0 0 0;\n",
              "      width: 32px;\n",
              "    }\n",
              "\n",
              "    .colab-df-convert:hover {\n",
              "      background-color: #E2EBFA;\n",
              "      box-shadow: 0px 1px 2px rgba(60, 64, 67, 0.3), 0px 1px 3px 1px rgba(60, 64, 67, 0.15);\n",
              "      fill: #174EA6;\n",
              "    }\n",
              "\n",
              "    .colab-df-buttons div {\n",
              "      margin-bottom: 4px;\n",
              "    }\n",
              "\n",
              "    [theme=dark] .colab-df-convert {\n",
              "      background-color: #3B4455;\n",
              "      fill: #D2E3FC;\n",
              "    }\n",
              "\n",
              "    [theme=dark] .colab-df-convert:hover {\n",
              "      background-color: #434B5C;\n",
              "      box-shadow: 0px 1px 3px 1px rgba(0, 0, 0, 0.15);\n",
              "      filter: drop-shadow(0px 1px 2px rgba(0, 0, 0, 0.3));\n",
              "      fill: #FFFFFF;\n",
              "    }\n",
              "  </style>\n",
              "\n",
              "    <script>\n",
              "      const buttonEl =\n",
              "        document.querySelector('#df-c12e8ea4-5141-4484-96ad-a7c4903d45d7 button.colab-df-convert');\n",
              "      buttonEl.style.display =\n",
              "        google.colab.kernel.accessAllowed ? 'block' : 'none';\n",
              "\n",
              "      async function convertToInteractive(key) {\n",
              "        const element = document.querySelector('#df-c12e8ea4-5141-4484-96ad-a7c4903d45d7');\n",
              "        const dataTable =\n",
              "          await google.colab.kernel.invokeFunction('convertToInteractive',\n",
              "                                                    [key], {});\n",
              "        if (!dataTable) return;\n",
              "\n",
              "        const docLinkHtml = 'Like what you see? Visit the ' +\n",
              "          '<a target=\"_blank\" href=https://colab.research.google.com/notebooks/data_table.ipynb>data table notebook</a>'\n",
              "          + ' to learn more about interactive tables.';\n",
              "        element.innerHTML = '';\n",
              "        dataTable['output_type'] = 'display_data';\n",
              "        await google.colab.output.renderOutput(dataTable, element);\n",
              "        const docLink = document.createElement('div');\n",
              "        docLink.innerHTML = docLinkHtml;\n",
              "        element.appendChild(docLink);\n",
              "      }\n",
              "    </script>\n",
              "  </div>\n",
              "\n",
              "\n",
              "<div id=\"df-12335cc1-52be-43d2-9eac-da064133f5c5\">\n",
              "  <button class=\"colab-df-quickchart\" onclick=\"quickchart('df-12335cc1-52be-43d2-9eac-da064133f5c5')\"\n",
              "            title=\"Suggest charts\"\n",
              "            style=\"display:none;\">\n",
              "\n",
              "<svg xmlns=\"http://www.w3.org/2000/svg\" height=\"24px\"viewBox=\"0 0 24 24\"\n",
              "     width=\"24px\">\n",
              "    <g>\n",
              "        <path d=\"M19 3H5c-1.1 0-2 .9-2 2v14c0 1.1.9 2 2 2h14c1.1 0 2-.9 2-2V5c0-1.1-.9-2-2-2zM9 17H7v-7h2v7zm4 0h-2V7h2v10zm4 0h-2v-4h2v4z\"/>\n",
              "    </g>\n",
              "</svg>\n",
              "  </button>\n",
              "\n",
              "<style>\n",
              "  .colab-df-quickchart {\n",
              "      --bg-color: #E8F0FE;\n",
              "      --fill-color: #1967D2;\n",
              "      --hover-bg-color: #E2EBFA;\n",
              "      --hover-fill-color: #174EA6;\n",
              "      --disabled-fill-color: #AAA;\n",
              "      --disabled-bg-color: #DDD;\n",
              "  }\n",
              "\n",
              "  [theme=dark] .colab-df-quickchart {\n",
              "      --bg-color: #3B4455;\n",
              "      --fill-color: #D2E3FC;\n",
              "      --hover-bg-color: #434B5C;\n",
              "      --hover-fill-color: #FFFFFF;\n",
              "      --disabled-bg-color: #3B4455;\n",
              "      --disabled-fill-color: #666;\n",
              "  }\n",
              "\n",
              "  .colab-df-quickchart {\n",
              "    background-color: var(--bg-color);\n",
              "    border: none;\n",
              "    border-radius: 50%;\n",
              "    cursor: pointer;\n",
              "    display: none;\n",
              "    fill: var(--fill-color);\n",
              "    height: 32px;\n",
              "    padding: 0;\n",
              "    width: 32px;\n",
              "  }\n",
              "\n",
              "  .colab-df-quickchart:hover {\n",
              "    background-color: var(--hover-bg-color);\n",
              "    box-shadow: 0 1px 2px rgba(60, 64, 67, 0.3), 0 1px 3px 1px rgba(60, 64, 67, 0.15);\n",
              "    fill: var(--button-hover-fill-color);\n",
              "  }\n",
              "\n",
              "  .colab-df-quickchart-complete:disabled,\n",
              "  .colab-df-quickchart-complete:disabled:hover {\n",
              "    background-color: var(--disabled-bg-color);\n",
              "    fill: var(--disabled-fill-color);\n",
              "    box-shadow: none;\n",
              "  }\n",
              "\n",
              "  .colab-df-spinner {\n",
              "    border: 2px solid var(--fill-color);\n",
              "    border-color: transparent;\n",
              "    border-bottom-color: var(--fill-color);\n",
              "    animation:\n",
              "      spin 1s steps(1) infinite;\n",
              "  }\n",
              "\n",
              "  @keyframes spin {\n",
              "    0% {\n",
              "      border-color: transparent;\n",
              "      border-bottom-color: var(--fill-color);\n",
              "      border-left-color: var(--fill-color);\n",
              "    }\n",
              "    20% {\n",
              "      border-color: transparent;\n",
              "      border-left-color: var(--fill-color);\n",
              "      border-top-color: var(--fill-color);\n",
              "    }\n",
              "    30% {\n",
              "      border-color: transparent;\n",
              "      border-left-color: var(--fill-color);\n",
              "      border-top-color: var(--fill-color);\n",
              "      border-right-color: var(--fill-color);\n",
              "    }\n",
              "    40% {\n",
              "      border-color: transparent;\n",
              "      border-right-color: var(--fill-color);\n",
              "      border-top-color: var(--fill-color);\n",
              "    }\n",
              "    60% {\n",
              "      border-color: transparent;\n",
              "      border-right-color: var(--fill-color);\n",
              "    }\n",
              "    80% {\n",
              "      border-color: transparent;\n",
              "      border-right-color: var(--fill-color);\n",
              "      border-bottom-color: var(--fill-color);\n",
              "    }\n",
              "    90% {\n",
              "      border-color: transparent;\n",
              "      border-bottom-color: var(--fill-color);\n",
              "    }\n",
              "  }\n",
              "</style>\n",
              "\n",
              "  <script>\n",
              "    async function quickchart(key) {\n",
              "      const quickchartButtonEl =\n",
              "        document.querySelector('#' + key + ' button');\n",
              "      quickchartButtonEl.disabled = true;  // To prevent multiple clicks.\n",
              "      quickchartButtonEl.classList.add('colab-df-spinner');\n",
              "      try {\n",
              "        const charts = await google.colab.kernel.invokeFunction(\n",
              "            'suggestCharts', [key], {});\n",
              "      } catch (error) {\n",
              "        console.error('Error during call to suggestCharts:', error);\n",
              "      }\n",
              "      quickchartButtonEl.classList.remove('colab-df-spinner');\n",
              "      quickchartButtonEl.classList.add('colab-df-quickchart-complete');\n",
              "    }\n",
              "    (() => {\n",
              "      let quickchartButtonEl =\n",
              "        document.querySelector('#df-12335cc1-52be-43d2-9eac-da064133f5c5 button');\n",
              "      quickchartButtonEl.style.display =\n",
              "        google.colab.kernel.accessAllowed ? 'block' : 'none';\n",
              "    })();\n",
              "  </script>\n",
              "</div>\n",
              "    </div>\n",
              "  </div>\n"
            ]
          },
          "metadata": {},
          "execution_count": 65
        }
      ],
      "source": [
        "df.head()"
      ]
    },
    {
      "cell_type": "code",
      "execution_count": 66,
      "metadata": {
        "id": "busvt_GdBT1R"
      },
      "outputs": [],
      "source": [
        "df = df[['content', 'topic']]"
      ]
    },
    {
      "cell_type": "markdown",
      "metadata": {
        "id": "Tz0pLd1DBT1S"
      },
      "source": [
        "Find all the categories and its length"
      ]
    },
    {
      "cell_type": "code",
      "execution_count": 67,
      "metadata": {
        "colab": {
          "base_uri": "https://localhost:8080/"
        },
        "id": "FjlR36TPBT1S",
        "outputId": "db143cb9-8dbd-449f-9e16-eb7ad0f1d2c7"
      },
      "outputs": [
        {
          "output_type": "stream",
          "name": "stdout",
          "text": [
            "Pháp luật: 10807\n",
            "Sức khỏe - Đời sống: 25578\n",
            "Giáo dục: 8166\n",
            "Thế giới: 17386\n",
            "Thời sự: 16974\n",
            "Văn hóa - Giải trí: 32040\n",
            "Thể thao: 22549\n",
            "Xã hội: 16630\n",
            "Bất động sản: 1532\n",
            "Công nghệ: 4333\n",
            "Kinh tế: 5581\n",
            "Kinh doanh - Tài chính: 11175\n",
            "Bạn đọc: 1820\n",
            "Chính trị: 4113\n",
            "Quốc phòng: 1356\n",
            "Xe: 4496\n",
            "Pháp luật: 3\n"
          ]
        }
      ],
      "source": [
        "topic = df['topic'].unique()\n",
        "\n",
        "for i in range(len(topic)):\n",
        "    print(f\"{topic[i]}: {len(df[df['topic'] == topic[i]])}\")"
      ]
    },
    {
      "cell_type": "code",
      "execution_count": 68,
      "metadata": {
        "id": "gn_Qlpd7BT1U",
        "outputId": "285d8eef-8984-4a8f-b0a5-d6d86d38209f",
        "colab": {
          "base_uri": "https://localhost:8080/"
        }
      },
      "outputs": [
        {
          "output_type": "execute_result",
          "data": {
            "text/plain": [
              "(8166, 10807)"
            ]
          },
          "metadata": {},
          "execution_count": 68
        }
      ],
      "source": [
        "len(df[df['topic'] == \"Giáo dục\"]), len(df[df['topic'] == \"Pháp luật\"])"
      ]
    },
    {
      "cell_type": "code",
      "execution_count": 69,
      "metadata": {
        "id": "smumroLKBT1V"
      },
      "outputs": [],
      "source": [
        "df = pd.concat([df[df['topic'] == \"Giáo dục\"], df[df['topic'] == \"Pháp luật\"]])"
      ]
    },
    {
      "cell_type": "code",
      "source": [
        "df"
      ],
      "metadata": {
        "colab": {
          "base_uri": "https://localhost:8080/",
          "height": 419
        },
        "id": "O-2IAkaRURjo",
        "outputId": "c185f3e0-5954-45d2-8635-94ca0fb00531"
      },
      "execution_count": 70,
      "outputs": [
        {
          "output_type": "execute_result",
          "data": {
            "text/plain": [
              "                                                  content      topic\n",
              "2       Kết thi nghiệp THPT 2022 trung bình môn toán, ...   Giáo dục\n",
              "43      Đối học sinh, lứa đa nghịch ngợm, hiếu động, l...   Giáo dục\n",
              "66      Năm 2008, 24 trường Ivy League, giáo sư Willia...   Giáo dục\n",
              "109                                                   NaN   Giáo dục\n",
              "228     Tối 31.7, Đại học Quốc gia Hà Nội gửi công văn...   Giáo dục\n",
              "...                                                   ...        ...\n",
              "184518  Ngày 7/6, Công an Phú Nhuận phối hợp đơn vị ng...  Pháp luật\n",
              "184520  Ngày 7/6, Cơ quan Cảnh sát tra Bộ Công an quyế...  Pháp luật\n",
              "184522  Công ty CP phát triển Nam Sài Gòn (Sadeco) côn...  Pháp luật\n",
              "184534  Chiều 7/6, Khoa Công an Phú Nhuận phối hợp Côn...  Pháp luật\n",
              "184535  Ngày 7/6, phiên xử phúc thẩm Tất Thành Cang, 5...  Pháp luật\n",
              "\n",
              "[18973 rows x 2 columns]"
            ],
            "text/html": [
              "\n",
              "  <div id=\"df-65c5deab-e18a-4cac-abbd-a71b8e07f390\" class=\"colab-df-container\">\n",
              "    <div>\n",
              "<style scoped>\n",
              "    .dataframe tbody tr th:only-of-type {\n",
              "        vertical-align: middle;\n",
              "    }\n",
              "\n",
              "    .dataframe tbody tr th {\n",
              "        vertical-align: top;\n",
              "    }\n",
              "\n",
              "    .dataframe thead th {\n",
              "        text-align: right;\n",
              "    }\n",
              "</style>\n",
              "<table border=\"1\" class=\"dataframe\">\n",
              "  <thead>\n",
              "    <tr style=\"text-align: right;\">\n",
              "      <th></th>\n",
              "      <th>content</th>\n",
              "      <th>topic</th>\n",
              "    </tr>\n",
              "  </thead>\n",
              "  <tbody>\n",
              "    <tr>\n",
              "      <th>2</th>\n",
              "      <td>Kết thi nghiệp THPT 2022 trung bình môn toán, ...</td>\n",
              "      <td>Giáo dục</td>\n",
              "    </tr>\n",
              "    <tr>\n",
              "      <th>43</th>\n",
              "      <td>Đối học sinh, lứa đa nghịch ngợm, hiếu động, l...</td>\n",
              "      <td>Giáo dục</td>\n",
              "    </tr>\n",
              "    <tr>\n",
              "      <th>66</th>\n",
              "      <td>Năm 2008, 24 trường Ivy League, giáo sư Willia...</td>\n",
              "      <td>Giáo dục</td>\n",
              "    </tr>\n",
              "    <tr>\n",
              "      <th>109</th>\n",
              "      <td>NaN</td>\n",
              "      <td>Giáo dục</td>\n",
              "    </tr>\n",
              "    <tr>\n",
              "      <th>228</th>\n",
              "      <td>Tối 31.7, Đại học Quốc gia Hà Nội gửi công văn...</td>\n",
              "      <td>Giáo dục</td>\n",
              "    </tr>\n",
              "    <tr>\n",
              "      <th>...</th>\n",
              "      <td>...</td>\n",
              "      <td>...</td>\n",
              "    </tr>\n",
              "    <tr>\n",
              "      <th>184518</th>\n",
              "      <td>Ngày 7/6, Công an Phú Nhuận phối hợp đơn vị ng...</td>\n",
              "      <td>Pháp luật</td>\n",
              "    </tr>\n",
              "    <tr>\n",
              "      <th>184520</th>\n",
              "      <td>Ngày 7/6, Cơ quan Cảnh sát tra Bộ Công an quyế...</td>\n",
              "      <td>Pháp luật</td>\n",
              "    </tr>\n",
              "    <tr>\n",
              "      <th>184522</th>\n",
              "      <td>Công ty CP phát triển Nam Sài Gòn (Sadeco) côn...</td>\n",
              "      <td>Pháp luật</td>\n",
              "    </tr>\n",
              "    <tr>\n",
              "      <th>184534</th>\n",
              "      <td>Chiều 7/6, Khoa Công an Phú Nhuận phối hợp Côn...</td>\n",
              "      <td>Pháp luật</td>\n",
              "    </tr>\n",
              "    <tr>\n",
              "      <th>184535</th>\n",
              "      <td>Ngày 7/6, phiên xử phúc thẩm Tất Thành Cang, 5...</td>\n",
              "      <td>Pháp luật</td>\n",
              "    </tr>\n",
              "  </tbody>\n",
              "</table>\n",
              "<p>18973 rows × 2 columns</p>\n",
              "</div>\n",
              "    <div class=\"colab-df-buttons\">\n",
              "\n",
              "  <div class=\"colab-df-container\">\n",
              "    <button class=\"colab-df-convert\" onclick=\"convertToInteractive('df-65c5deab-e18a-4cac-abbd-a71b8e07f390')\"\n",
              "            title=\"Convert this dataframe to an interactive table.\"\n",
              "            style=\"display:none;\">\n",
              "\n",
              "  <svg xmlns=\"http://www.w3.org/2000/svg\" height=\"24px\" viewBox=\"0 -960 960 960\">\n",
              "    <path d=\"M120-120v-720h720v720H120Zm60-500h600v-160H180v160Zm220 220h160v-160H400v160Zm0 220h160v-160H400v160ZM180-400h160v-160H180v160Zm440 0h160v-160H620v160ZM180-180h160v-160H180v160Zm440 0h160v-160H620v160Z\"/>\n",
              "  </svg>\n",
              "    </button>\n",
              "\n",
              "  <style>\n",
              "    .colab-df-container {\n",
              "      display:flex;\n",
              "      gap: 12px;\n",
              "    }\n",
              "\n",
              "    .colab-df-convert {\n",
              "      background-color: #E8F0FE;\n",
              "      border: none;\n",
              "      border-radius: 50%;\n",
              "      cursor: pointer;\n",
              "      display: none;\n",
              "      fill: #1967D2;\n",
              "      height: 32px;\n",
              "      padding: 0 0 0 0;\n",
              "      width: 32px;\n",
              "    }\n",
              "\n",
              "    .colab-df-convert:hover {\n",
              "      background-color: #E2EBFA;\n",
              "      box-shadow: 0px 1px 2px rgba(60, 64, 67, 0.3), 0px 1px 3px 1px rgba(60, 64, 67, 0.15);\n",
              "      fill: #174EA6;\n",
              "    }\n",
              "\n",
              "    .colab-df-buttons div {\n",
              "      margin-bottom: 4px;\n",
              "    }\n",
              "\n",
              "    [theme=dark] .colab-df-convert {\n",
              "      background-color: #3B4455;\n",
              "      fill: #D2E3FC;\n",
              "    }\n",
              "\n",
              "    [theme=dark] .colab-df-convert:hover {\n",
              "      background-color: #434B5C;\n",
              "      box-shadow: 0px 1px 3px 1px rgba(0, 0, 0, 0.15);\n",
              "      filter: drop-shadow(0px 1px 2px rgba(0, 0, 0, 0.3));\n",
              "      fill: #FFFFFF;\n",
              "    }\n",
              "  </style>\n",
              "\n",
              "    <script>\n",
              "      const buttonEl =\n",
              "        document.querySelector('#df-65c5deab-e18a-4cac-abbd-a71b8e07f390 button.colab-df-convert');\n",
              "      buttonEl.style.display =\n",
              "        google.colab.kernel.accessAllowed ? 'block' : 'none';\n",
              "\n",
              "      async function convertToInteractive(key) {\n",
              "        const element = document.querySelector('#df-65c5deab-e18a-4cac-abbd-a71b8e07f390');\n",
              "        const dataTable =\n",
              "          await google.colab.kernel.invokeFunction('convertToInteractive',\n",
              "                                                    [key], {});\n",
              "        if (!dataTable) return;\n",
              "\n",
              "        const docLinkHtml = 'Like what you see? Visit the ' +\n",
              "          '<a target=\"_blank\" href=https://colab.research.google.com/notebooks/data_table.ipynb>data table notebook</a>'\n",
              "          + ' to learn more about interactive tables.';\n",
              "        element.innerHTML = '';\n",
              "        dataTable['output_type'] = 'display_data';\n",
              "        await google.colab.output.renderOutput(dataTable, element);\n",
              "        const docLink = document.createElement('div');\n",
              "        docLink.innerHTML = docLinkHtml;\n",
              "        element.appendChild(docLink);\n",
              "      }\n",
              "    </script>\n",
              "  </div>\n",
              "\n",
              "\n",
              "<div id=\"df-5bb4db13-8292-42a5-a584-e4c3a32b2f63\">\n",
              "  <button class=\"colab-df-quickchart\" onclick=\"quickchart('df-5bb4db13-8292-42a5-a584-e4c3a32b2f63')\"\n",
              "            title=\"Suggest charts\"\n",
              "            style=\"display:none;\">\n",
              "\n",
              "<svg xmlns=\"http://www.w3.org/2000/svg\" height=\"24px\"viewBox=\"0 0 24 24\"\n",
              "     width=\"24px\">\n",
              "    <g>\n",
              "        <path d=\"M19 3H5c-1.1 0-2 .9-2 2v14c0 1.1.9 2 2 2h14c1.1 0 2-.9 2-2V5c0-1.1-.9-2-2-2zM9 17H7v-7h2v7zm4 0h-2V7h2v10zm4 0h-2v-4h2v4z\"/>\n",
              "    </g>\n",
              "</svg>\n",
              "  </button>\n",
              "\n",
              "<style>\n",
              "  .colab-df-quickchart {\n",
              "      --bg-color: #E8F0FE;\n",
              "      --fill-color: #1967D2;\n",
              "      --hover-bg-color: #E2EBFA;\n",
              "      --hover-fill-color: #174EA6;\n",
              "      --disabled-fill-color: #AAA;\n",
              "      --disabled-bg-color: #DDD;\n",
              "  }\n",
              "\n",
              "  [theme=dark] .colab-df-quickchart {\n",
              "      --bg-color: #3B4455;\n",
              "      --fill-color: #D2E3FC;\n",
              "      --hover-bg-color: #434B5C;\n",
              "      --hover-fill-color: #FFFFFF;\n",
              "      --disabled-bg-color: #3B4455;\n",
              "      --disabled-fill-color: #666;\n",
              "  }\n",
              "\n",
              "  .colab-df-quickchart {\n",
              "    background-color: var(--bg-color);\n",
              "    border: none;\n",
              "    border-radius: 50%;\n",
              "    cursor: pointer;\n",
              "    display: none;\n",
              "    fill: var(--fill-color);\n",
              "    height: 32px;\n",
              "    padding: 0;\n",
              "    width: 32px;\n",
              "  }\n",
              "\n",
              "  .colab-df-quickchart:hover {\n",
              "    background-color: var(--hover-bg-color);\n",
              "    box-shadow: 0 1px 2px rgba(60, 64, 67, 0.3), 0 1px 3px 1px rgba(60, 64, 67, 0.15);\n",
              "    fill: var(--button-hover-fill-color);\n",
              "  }\n",
              "\n",
              "  .colab-df-quickchart-complete:disabled,\n",
              "  .colab-df-quickchart-complete:disabled:hover {\n",
              "    background-color: var(--disabled-bg-color);\n",
              "    fill: var(--disabled-fill-color);\n",
              "    box-shadow: none;\n",
              "  }\n",
              "\n",
              "  .colab-df-spinner {\n",
              "    border: 2px solid var(--fill-color);\n",
              "    border-color: transparent;\n",
              "    border-bottom-color: var(--fill-color);\n",
              "    animation:\n",
              "      spin 1s steps(1) infinite;\n",
              "  }\n",
              "\n",
              "  @keyframes spin {\n",
              "    0% {\n",
              "      border-color: transparent;\n",
              "      border-bottom-color: var(--fill-color);\n",
              "      border-left-color: var(--fill-color);\n",
              "    }\n",
              "    20% {\n",
              "      border-color: transparent;\n",
              "      border-left-color: var(--fill-color);\n",
              "      border-top-color: var(--fill-color);\n",
              "    }\n",
              "    30% {\n",
              "      border-color: transparent;\n",
              "      border-left-color: var(--fill-color);\n",
              "      border-top-color: var(--fill-color);\n",
              "      border-right-color: var(--fill-color);\n",
              "    }\n",
              "    40% {\n",
              "      border-color: transparent;\n",
              "      border-right-color: var(--fill-color);\n",
              "      border-top-color: var(--fill-color);\n",
              "    }\n",
              "    60% {\n",
              "      border-color: transparent;\n",
              "      border-right-color: var(--fill-color);\n",
              "    }\n",
              "    80% {\n",
              "      border-color: transparent;\n",
              "      border-right-color: var(--fill-color);\n",
              "      border-bottom-color: var(--fill-color);\n",
              "    }\n",
              "    90% {\n",
              "      border-color: transparent;\n",
              "      border-bottom-color: var(--fill-color);\n",
              "    }\n",
              "  }\n",
              "</style>\n",
              "\n",
              "  <script>\n",
              "    async function quickchart(key) {\n",
              "      const quickchartButtonEl =\n",
              "        document.querySelector('#' + key + ' button');\n",
              "      quickchartButtonEl.disabled = true;  // To prevent multiple clicks.\n",
              "      quickchartButtonEl.classList.add('colab-df-spinner');\n",
              "      try {\n",
              "        const charts = await google.colab.kernel.invokeFunction(\n",
              "            'suggestCharts', [key], {});\n",
              "      } catch (error) {\n",
              "        console.error('Error during call to suggestCharts:', error);\n",
              "      }\n",
              "      quickchartButtonEl.classList.remove('colab-df-spinner');\n",
              "      quickchartButtonEl.classList.add('colab-df-quickchart-complete');\n",
              "    }\n",
              "    (() => {\n",
              "      let quickchartButtonEl =\n",
              "        document.querySelector('#df-5bb4db13-8292-42a5-a584-e4c3a32b2f63 button');\n",
              "      quickchartButtonEl.style.display =\n",
              "        google.colab.kernel.accessAllowed ? 'block' : 'none';\n",
              "    })();\n",
              "  </script>\n",
              "</div>\n",
              "    </div>\n",
              "  </div>\n"
            ]
          },
          "metadata": {},
          "execution_count": 70
        }
      ]
    },
    {
      "cell_type": "code",
      "execution_count": 71,
      "metadata": {
        "id": "UvhaQkdmBT1W",
        "outputId": "12163165-001a-4e71-ee6a-61af09efaad6",
        "colab": {
          "base_uri": "https://localhost:8080/"
        }
      },
      "outputs": [
        {
          "output_type": "stream",
          "name": "stdout",
          "text": [
            "<class 'pandas.core.frame.DataFrame'>\n",
            "Int64Index: 18973 entries, 2 to 184535\n",
            "Data columns (total 2 columns):\n",
            " #   Column   Non-Null Count  Dtype \n",
            "---  ------   --------------  ----- \n",
            " 0   content  18278 non-null  object\n",
            " 1   topic    18973 non-null  object\n",
            "dtypes: object(2)\n",
            "memory usage: 444.7+ KB\n"
          ]
        }
      ],
      "source": [
        "df.info()"
      ]
    },
    {
      "cell_type": "code",
      "execution_count": 72,
      "metadata": {
        "id": "3qoP0FBMBT1X"
      },
      "outputs": [],
      "source": [
        "df = df.dropna()"
      ]
    },
    {
      "cell_type": "code",
      "execution_count": 73,
      "metadata": {
        "id": "Og2wzofyBT1Y",
        "outputId": "425c6824-05f4-48dd-d232-eb88122e0a8e",
        "colab": {
          "base_uri": "https://localhost:8080/"
        }
      },
      "outputs": [
        {
          "output_type": "stream",
          "name": "stdout",
          "text": [
            "<class 'pandas.core.frame.DataFrame'>\n",
            "Int64Index: 18278 entries, 2 to 184535\n",
            "Data columns (total 2 columns):\n",
            " #   Column   Non-Null Count  Dtype \n",
            "---  ------   --------------  ----- \n",
            " 0   content  18278 non-null  object\n",
            " 1   topic    18278 non-null  object\n",
            "dtypes: object(2)\n",
            "memory usage: 428.4+ KB\n"
          ]
        }
      ],
      "source": [
        "df.info()"
      ]
    },
    {
      "cell_type": "code",
      "execution_count": 74,
      "metadata": {
        "id": "ap5bMWEHBT1Z",
        "outputId": "95e8c526-b029-4b4a-e2ad-c1807dfc8633",
        "colab": {
          "base_uri": "https://localhost:8080/"
        }
      },
      "outputs": [
        {
          "output_type": "stream",
          "name": "stdout",
          "text": [
            "Number of edu documents: 7631\n",
            "Number of law documents: 10647\n"
          ]
        }
      ],
      "source": [
        "size_edu = df[df['topic'] == 'Giáo dục'].shape[0]\n",
        "size_law = df[df['topic'] == 'Pháp luật'].shape[0]\n",
        "print('Number of edu documents: %s' %size_edu)\n",
        "print('Number of law documents: %s' %size_law)"
      ]
    },
    {
      "cell_type": "code",
      "execution_count": 75,
      "metadata": {
        "id": "4yeHEjr5BT1b",
        "outputId": "826f5fc8-8afe-480f-bbda-ee7fd0c24a55",
        "colab": {
          "base_uri": "https://localhost:8080/"
        }
      },
      "outputs": [
        {
          "output_type": "stream",
          "name": "stdout",
          "text": [
            "[\"Giáo dục\" \"Pháp luật\"] categories corresponds to [0 1] categories\n"
          ]
        }
      ],
      "source": [
        "# split the dataset into training and test datasets\n",
        "train_x, test_x, train_y, test_y = model_selection.train_test_split(df['content'], df['topic'])\n",
        "\n",
        "# label encode the target variable, encode labels to 0 or 1\n",
        "encoder = preprocessing.LabelEncoder()\n",
        "train_y = encoder.fit_transform(train_y)\n",
        "test_y = encoder.fit_transform(test_y)\n",
        "print('[\"Giáo dục\" \"Pháp luật\"] categories corresponds to %s categories' %encoder.transform([\"Giáo dục\", \"Pháp luật\"]))"
      ]
    },
    {
      "cell_type": "markdown",
      "metadata": {
        "id": "ePxvybrQBT1c"
      },
      "source": [
        "Show the information of the train and test set"
      ]
    },
    {
      "cell_type": "code",
      "execution_count": 76,
      "metadata": {
        "id": "0hUldsN-BT1c",
        "outputId": "a7b5e7cc-0458-40b7-94e7-6402f66fe8fa",
        "colab": {
          "base_uri": "https://localhost:8080/"
        }
      },
      "outputs": [
        {
          "output_type": "stream",
          "name": "stdout",
          "text": [
            "The train_x: (13708,)\n",
            "The train_y: (13708,)\n",
            "The test_x: (4570,)\n",
            "The test_y: (4570,)\n"
          ]
        }
      ],
      "source": [
        "print(f\"The train_x: {train_x.shape}\")\n",
        "print(f\"The train_y: {train_y.shape}\")\n",
        "print(f\"The test_x: {test_x.shape}\")\n",
        "print(f\"The test_y: {test_y.shape}\")"
      ]
    },
    {
      "cell_type": "markdown",
      "metadata": {
        "id": "geuqG3j-BT1d"
      },
      "source": [
        "### 2.4 - TF-IDF embedding"
      ]
    },
    {
      "cell_type": "code",
      "execution_count": 77,
      "metadata": {
        "id": "QQgTun2jBT1d"
      },
      "outputs": [],
      "source": [
        "# word level tf-idf\n",
        "tfidf_vect = TfidfVectorizer(analyzer='word', token_pattern=r'\\w{1,}', max_features=5000)\n",
        "tfidf_vect.fit(df['content'])\n",
        "xtrain_tfidf =  tfidf_vect.transform(train_x)\n",
        "xtest_tfidf =  tfidf_vect.transform(test_x)"
      ]
    },
    {
      "cell_type": "code",
      "execution_count": 78,
      "metadata": {
        "id": "cXEZ6GoKBT1e",
        "outputId": "b97f312e-9502-44bc-cc00-e3d40df5c7a5",
        "colab": {
          "base_uri": "https://localhost:8080/"
        }
      },
      "outputs": [
        {
          "output_type": "stream",
          "name": "stdout",
          "text": [
            "Number of training documents: 13708\n",
            "Number of testing documents: 4570\n",
            "Number of features of each document: 5000\n",
            "xtrain_tfidf shape: (13708, 5000)\n",
            "train_y shape: (13708,)\n",
            "xtest_tfidf shape: (4570, 5000)\n",
            "test_y shape: (4570,)\n"
          ]
        }
      ],
      "source": [
        "# Getting transformed training and testing dataset\n",
        "print('Number of training documents: %s' %str(xtrain_tfidf.shape[0]))\n",
        "print('Number of testing documents: %s' %str(xtest_tfidf.shape[0]))\n",
        "print('Number of features of each document: %s' %str(xtrain_tfidf.shape[1]))\n",
        "print('xtrain_tfidf shape: %s' %str(xtrain_tfidf.shape))\n",
        "print('train_y shape: %s' %str(train_y.shape))\n",
        "print('xtest_tfidf shape: %s' %str(xtest_tfidf.shape))\n",
        "print('test_y shape: %s' %str(test_y.shape))"
      ]
    },
    {
      "cell_type": "markdown",
      "metadata": {
        "id": "7w6bAOEzBT1f"
      },
      "source": [
        "Transpose the training and testing numpy-array, and expand the shape of the label array in the axis=0 position."
      ]
    },
    {
      "cell_type": "code",
      "execution_count": 79,
      "metadata": {
        "id": "HVQNw9KqBT1g"
      },
      "outputs": [],
      "source": [
        "train_y = np.expand_dims(train_y, axis=0)\n",
        "test_y = np.expand_dims(test_y, axis=0)\n",
        "\n",
        "# for convenience in this exercise, we also use toarray() to convert sparse to dense matrix\n",
        "xtrain_tfidf =  xtrain_tfidf.T.toarray()\n",
        "xtest_tfidf =  xtest_tfidf.T.toarray()"
      ]
    },
    {
      "cell_type": "code",
      "execution_count": 80,
      "metadata": {
        "id": "fQov0uDTBT1g",
        "outputId": "6fca6c4f-07be-4504-9cc4-b872bb7548d7",
        "colab": {
          "base_uri": "https://localhost:8080/"
        }
      },
      "outputs": [
        {
          "output_type": "stream",
          "name": "stdout",
          "text": [
            "xtrain_tfidf shape: (5000, 13708)\n",
            "train_y shape: (1, 13708)\n",
            "xtest_tfidf shape: (5000, 4570)\n",
            "test_y shape: (1, 4570)\n"
          ]
        }
      ],
      "source": [
        "# New shape\n",
        "print('xtrain_tfidf shape: %s' %str(xtrain_tfidf.shape))\n",
        "print('train_y shape: %s' %str(train_y.shape))\n",
        "print('xtest_tfidf shape: %s' %str(xtest_tfidf.shape))\n",
        "print('test_y shape: %s' %str(test_y.shape))"
      ]
    },
    {
      "cell_type": "markdown",
      "metadata": {
        "id": "g6b2weTABT1h"
      },
      "source": [
        "## 3 - General Architecture of the learning algorithm\n"
      ]
    },
    {
      "cell_type": "markdown",
      "metadata": {
        "id": "2cu-sL7VBT1h"
      },
      "source": [
        "## 4 - Building the parts of our algorithm"
      ]
    },
    {
      "cell_type": "markdown",
      "metadata": {
        "id": "XwebRQt3BT1i"
      },
      "source": [
        "### 4.1 - Helper functions"
      ]
    },
    {
      "cell_type": "code",
      "execution_count": 81,
      "metadata": {
        "id": "3xi7ybwzBT1i"
      },
      "outputs": [],
      "source": [
        "def sigmoid(z):\n",
        "    \"\"\"\n",
        "    Compute the sigmoid of z\n",
        "\n",
        "    :type z: np.arrays - A scalar or numpy array of any size\n",
        "    :rtype: np.single - The output of the sigmoid function\n",
        "    \"\"\"\n",
        "    s = 1/(1+np.exp(-z))\n",
        "    return s\n"
      ]
    },
    {
      "cell_type": "markdown",
      "metadata": {
        "id": "Fy1jAdv5BT1j"
      },
      "source": [
        "### 4.2 - Initializing parameters"
      ]
    },
    {
      "cell_type": "code",
      "execution_count": 82,
      "metadata": {
        "id": "HCBlFGvkBT1k"
      },
      "outputs": [],
      "source": [
        "# GRADED FUNCTION: initialize_with_zeros\n",
        "\n",
        "def initialize_with_zeros(dim):\n",
        "    \"\"\"\n",
        "    This function creates a vector of zeros of shape (dim, 1) for w and initializes b to 0.\n",
        "\n",
        "\n",
        "    :type dim: size of the w vector we want (or number of parameters in this case)\n",
        "    :rtype w: initialized vector of shape (dim, 1)\n",
        "    :rtype b: initialized scalar (corresponds to the bias)\n",
        "    \"\"\"\n",
        "\n",
        "    w = np.zeros((dim,1))\n",
        "    b = 0.\n",
        "\n",
        "    assert(w.shape == (dim, 1))\n",
        "    assert(isinstance(b, float) or isinstance(b, int))\n",
        "\n",
        "    return w, b"
      ]
    },
    {
      "cell_type": "markdown",
      "metadata": {
        "id": "M3WZ1d87BT1k"
      },
      "source": [
        "### 4.3 - Forward and Backward propagation"
      ]
    },
    {
      "cell_type": "code",
      "execution_count": 83,
      "metadata": {
        "id": "KoV1ykfLBT1l"
      },
      "outputs": [],
      "source": [
        "# GRADED FUNCTION: propagate\n",
        "\n",
        "def propagate(w, b, X, Y):\n",
        "    \"\"\"\n",
        "    Implement the cost function and its gradient for the propagation explained above\n",
        "\n",
        "    Arguments:\n",
        "    w -- weights, a numpy array of size (num_px * num_px * 3, 1)\n",
        "    b -- bias, a scalar\n",
        "    X -- data of size (num_px * num_px * 3, number of examples)\n",
        "    Y -- true \"label\" vector of size (1, number of examples)\n",
        "\n",
        "    Return:\n",
        "    cost -- negative log-likelihood cost for logistic regression\n",
        "    dw -- gradient of the loss with respect to w, thus same shape as w\n",
        "    db -- gradient of the loss with respect to b, thus same shape as b\n",
        "\n",
        "    \"\"\"\n",
        "\n",
        "    m = np.single(X.shape[1])\n",
        "\n",
        "    # FORWARD PROPAGATION (FROM X TO COST)\n",
        "    A = sigmoid(np.dot(w.T,X) + b)                                    # compute activation\n",
        "    cost = -(1/m) * (np.sum((Y*np.log(A))+ ((1-Y)*np.log(1-A))))\n",
        "\n",
        "    # BACKWARD PROPAGATION (TO FIND GRAD)\n",
        "    dw = (1/m)*(np.dot(X,(A-Y).T))\n",
        "    db = (1/m)*(np.sum(A-Y))\n",
        "\n",
        "    assert(dw.shape == w.shape)\n",
        "    assert(db.dtype == float)\n",
        "    cost = np.squeeze(cost)\n",
        "    assert(cost.shape == ())\n",
        "\n",
        "    grads = {\"dw\": dw,\n",
        "             \"db\": db}\n",
        "\n",
        "    return grads, cost"
      ]
    },
    {
      "cell_type": "markdown",
      "metadata": {
        "id": "OIcpvijKBT1q"
      },
      "source": [
        "### 4.4 - Optimization"
      ]
    },
    {
      "cell_type": "code",
      "execution_count": 84,
      "metadata": {
        "id": "qYkUOZYWBT1r"
      },
      "outputs": [],
      "source": [
        "# GRADED FUNCTION: optimize\n",
        "\n",
        "def optimize(w, b, X, Y, num_iterations, learning_rate, print_cost = False):\n",
        "    \"\"\"\n",
        "    This function optimizes w and b by running a gradient descent algorithm\n",
        "\n",
        "    Arguments:\n",
        "    w -- weights, a numpy array of size (num_px * num_px * 3, 1)\n",
        "    b -- bias, a scalar\n",
        "    X -- data of shape (num_px * num_px * 3, number of examples)\n",
        "    Y -- true \"label\" vector, of shape (1, number of examples)\n",
        "    num_iterations -- number of iterations of the optimization loop\n",
        "    learning_rate -- learning rate of the gradient descent update rule\n",
        "    print_cost -- True to print the loss every 100 steps\n",
        "\n",
        "    Returns:\n",
        "    params -- dictionary containing the weights w and bias b\n",
        "    grads -- dictionary containing the gradients of the weights and bias with respect to the cost function\n",
        "    costs -- list of all the costs computed during the optimization, this will be used to plot the learning curve.\n",
        "\n",
        "    \"\"\"\n",
        "\n",
        "    costs = []\n",
        "\n",
        "    for i in range(num_iterations):\n",
        "\n",
        "\n",
        "        # Cost and gradient calculation\n",
        "        grads, cost = propagate(w,b,X,Y)\n",
        "\n",
        "        # Retrieve derivatives from grads\n",
        "        dw = grads[\"dw\"]\n",
        "        db = grads[\"db\"]\n",
        "\n",
        "        # update rule\n",
        "        w = w - learning_rate*dw\n",
        "        b = b - learning_rate*db\n",
        "\n",
        "        # Record the costs\n",
        "        if i % 100 == 0:\n",
        "            costs.append(cost)\n",
        "\n",
        "        # Print the cost every 100 training iterations\n",
        "        if print_cost and i % 100 == 0:\n",
        "            print (\"Cost after iteration %i: %f\" %(i, cost))\n",
        "\n",
        "    params = {\"w\": w,\n",
        "              \"b\": b}\n",
        "\n",
        "    grads = {\"dw\": dw,\n",
        "             \"db\": db}\n",
        "\n",
        "    return params, grads, costs"
      ]
    },
    {
      "cell_type": "markdown",
      "metadata": {
        "id": "QrLochudBT1t"
      },
      "source": [
        "### 4.5 - Predict"
      ]
    },
    {
      "cell_type": "code",
      "execution_count": 85,
      "metadata": {
        "id": "8BZl4i9KBT1v"
      },
      "outputs": [],
      "source": [
        "# GRADED FUNCTION: predict\n",
        "\n",
        "def predict(w, b, X):\n",
        "    '''\n",
        "    Predict whether the label is 0 or 1 using learned logistic regression parameters (w, b)\n",
        "\n",
        "    Arguments:\n",
        "    w -- weights, a numpy array of size (num_px * num_px * 3, 1)\n",
        "    b -- bias, a scalar\n",
        "    X -- data of size (num_px * num_px * 3, number of examples)\n",
        "\n",
        "    Returns:\n",
        "    Y_prediction -- a numpy array (vector) containing all predictions (0/1) for the examples in X\n",
        "    '''\n",
        "\n",
        "    m = X.shape[1]\n",
        "    Y_prediction = np.zeros((1,m), dtype=np.intc)\n",
        "    w = w.reshape(X.shape[0], 1)\n",
        "\n",
        "    # Compute vector \"A\" predicting the probabilities of a news being present\n",
        "    A = sigmoid(np.dot(w.T,X) + b)\n",
        "\n",
        "    for i in range(A.shape[1]):\n",
        "        # Convert probabilities A[0,i] to actual predictions p[0,i]\n",
        "        if (A[0][i] > 0.5):\n",
        "            Y_prediction[0][i] = 1\n",
        "        else:\n",
        "            Y_prediction[0][i] = 0\n",
        "\n",
        "    assert(Y_prediction.shape == (1, m))\n",
        "\n",
        "    return Y_prediction, A"
      ]
    },
    {
      "cell_type": "markdown",
      "metadata": {
        "id": "e7bwYOz-BT1w"
      },
      "source": [
        "## 5 - Merge all functions into a model"
      ]
    },
    {
      "cell_type": "code",
      "execution_count": 86,
      "metadata": {
        "id": "Vm_apXVRBT1y"
      },
      "outputs": [],
      "source": [
        "# GRADED FUNCTION: model\n",
        "\n",
        "def model(X_train, Y_train, X_test, Y_test, num_iterations = 2000, learning_rate = 0.5, print_cost = False):\n",
        "    \"\"\"\n",
        "    Builds the logistic regression model by calling the function you've implemented previously\n",
        "\n",
        "    Arguments:\n",
        "    X_train -- training set represented by a numpy array of shape (num_px * num_px * 3, m_train)\n",
        "    Y_train -- training labels represented by a numpy array (vector) of shape (1, m_train)\n",
        "    X_test -- test set represented by a numpy array of shape (num_px * num_px * 3, m_test)\n",
        "    Y_test -- test labels represented by a numpy array (vector) of shape (1, m_test)\n",
        "    num_iterations -- hyperparameter representing the number of iterations to optimize the parameters\n",
        "    learning_rate -- hyperparameter representing the learning rate used in the update rule of optimize()\n",
        "    print_cost -- Set to true to print the cost every 100 iterations\n",
        "\n",
        "    Returns:\n",
        "    d -- dictionary containing information about the model.\n",
        "    \"\"\"\n",
        "\n",
        "    # initialize parameters with zeros (≈ 1 line of code)\n",
        "    w, b = initialize_with_zeros(X_train.shape[0])\n",
        "\n",
        "    # Gradient descent (≈ 1 line of code)\n",
        "    parameters, grads, costs = optimize(w, b, X_train, Y_train, num_iterations, learning_rate, print_cost)\n",
        "\n",
        "    # Retrieve parameters w and b from dictionary \"parameters\"\n",
        "    w = parameters[\"w\"]\n",
        "    b = parameters[\"b\"]\n",
        "\n",
        "    # Predict test/train set examples (≈ 2 lines of code)\n",
        "    Y_prediction_test = predict(w,b,X_test)[0]\n",
        "    Y_prediction_train = predict(w,b,X_train)[0]\n",
        "\n",
        "    # Print train/test Errors\n",
        "    print(\"train accuracy: {} %\".format(100 - np.mean(np.abs(Y_prediction_train - Y_train)) * 100))\n",
        "    print(\"test accuracy: {} %\".format(100 - np.mean(np.abs(Y_prediction_test - Y_test)) * 100))\n",
        "\n",
        "\n",
        "    d = {\"costs\": costs,\n",
        "         \"Y_prediction_test\": Y_prediction_test,\n",
        "         \"Y_prediction_train\" : Y_prediction_train,\n",
        "         \"w\" : w,\n",
        "         \"b\" : b,\n",
        "         \"learning_rate\" : learning_rate,\n",
        "         \"num_iterations\": num_iterations}\n",
        "\n",
        "    return d"
      ]
    },
    {
      "cell_type": "code",
      "execution_count": 87,
      "metadata": {
        "id": "JNhchn9cBT1y",
        "outputId": "2b9e6c01-29b3-445c-df54-0f67e1da6db2",
        "colab": {
          "base_uri": "https://localhost:8080/"
        }
      },
      "outputs": [
        {
          "output_type": "stream",
          "name": "stdout",
          "text": [
            "Cost after iteration 0: 0.693147\n",
            "Cost after iteration 100: 0.438719\n",
            "Cost after iteration 200: 0.336862\n",
            "Cost after iteration 300: 0.281640\n",
            "Cost after iteration 400: 0.246402\n",
            "Cost after iteration 500: 0.221576\n",
            "Cost after iteration 600: 0.202933\n",
            "Cost after iteration 700: 0.188306\n",
            "Cost after iteration 800: 0.176459\n",
            "Cost after iteration 900: 0.166632\n",
            "Cost after iteration 1000: 0.158323\n",
            "Cost after iteration 1100: 0.151192\n",
            "Cost after iteration 1200: 0.144993\n",
            "Cost after iteration 1300: 0.139547\n",
            "Cost after iteration 1400: 0.134720\n",
            "Cost after iteration 1500: 0.130408\n",
            "Cost after iteration 1600: 0.126529\n",
            "Cost after iteration 1700: 0.123019\n",
            "Cost after iteration 1800: 0.119824\n",
            "Cost after iteration 1900: 0.116904\n",
            "Cost after iteration 2000: 0.114222\n",
            "Cost after iteration 2100: 0.111749\n",
            "Cost after iteration 2200: 0.109461\n",
            "Cost after iteration 2300: 0.107336\n",
            "Cost after iteration 2400: 0.105358\n",
            "Cost after iteration 2500: 0.103510\n",
            "Cost after iteration 2600: 0.101780\n",
            "Cost after iteration 2700: 0.100156\n",
            "Cost after iteration 2800: 0.098628\n",
            "Cost after iteration 2900: 0.097188\n",
            "train accuracy: 98.54829296761015 %\n",
            "test accuracy: 98.31509846827133 %\n"
          ]
        }
      ],
      "source": [
        "d = model(xtrain_tfidf, train_y, xtest_tfidf, test_y, num_iterations = 3000, learning_rate = .5, print_cost = True)"
      ]
    },
    {
      "cell_type": "code",
      "source": [
        "#News that was wrongly classified.\n",
        "for index in range(len(test_y[0])):\n",
        "  true = test_y[0][index]\n",
        "  pred = d['Y_prediction_test'][0][index]\n",
        "  if encoder.inverse_transform([true]) != encoder.inverse_transform([pred]):\n",
        "    print('------------------------------------------------------------')\n",
        "    print(list(test_x[index:index+1])[0])\n",
        "    print('This is \"%s\" news, you predicted it is \"%s\" news' %(encoder.inverse_transform([true]), encoder.inverse_transform([pred])))\n",
        "    print('------------------------------------------------------------')\n",
        "\n"
      ],
      "metadata": {
        "colab": {
          "base_uri": "https://localhost:8080/"
        },
        "id": "rkijtpjdXh9O",
        "outputId": "7c96a594-4a44-4c7c-ec2f-ae2f7d61e50e"
      },
      "execution_count": 101,
      "outputs": [
        {
          "output_type": "stream",
          "name": "stdout",
          "text": [
            "------------------------------------------------------------\n",
            "Chương trình thực hiện phạm vi toàn quốc 2021 2025. Mục tiêu tổng quát Chương trình phát triển lâm nghiệp thực trở thành ngành kinh tế-kỹ thuật hướng hiện đại, hiệu lực, hiệu sức cạnh tranh cao, liên kết chuỗi phát triển rừng, bảo vệ rừng, sử dụng rừng chế biến thương mại lâm sản; quản lý, bảo vệ, phát triển sử dụng bền vững diện tích rừng diện tích đất quy hoạch phát triển lâm nghiệp; phát huy tiềm năng, vai trò tác dụng rừng đóng góp quan trọng phát triển kinh tế-xã hội; góp làm, nâng thu nhập dân gắn bảo vệ môi trường sinh thái, bảo tồn đa dạng sinh học hệ sinh thái rừng, cường khả năng ứng biến đổi khí hậu, thiểu tác động tiêu cực thiên tai, phát thải khí kính, hấp thụ, lưu carbon rừng, góp thực hiện cam kết Việt Nam Hội nghị 26 tham gia công ước khung Liên Hợp Quốc biến đổi khí hậu (COP26); góp bảo vệ quốc phòng, an ninh. Bảo vệ, phát triển bền vững toàn diện tích rừng hiện Chương trình mục tiêu bảo vệ phát triển bền vững đối toàn diện tích rừng hiện diện tích rừng giai đoạn 2021-2025; góp trì ổn định tỉ lệ che phủ rừng toàn quốc 42%; tiếp tục nâng năng suất, chất rừng, đáp ứng yêu cầu cung nguyên liệu sản xuất tiêu dùng, phòng hộ bảo vệ môi trường, bảo tồn đa dạng sinh học, thiểu tác động tiêu cực thiên tai, cường khả năng ứng biến đổi khí hậu. Tốc độ giá trị sản xuất lâm nghiệp 5,0-5,5%/năm. Giá trị xuất khẩu gỗ lâm sản gỗ 20 tỷ USD 2025, giá trị xuất khẩu lâm sản gỗ 1,5 tỷ USD, tỷ trọng chế biến sâu xuất khẩu sản phẩm gỗ lâm sản giá trị gia cao; góp làm, nâng thu nhập tham gia hoạt động bảo vệ phát triển rừng. Đến 2025, thu nhập rừng trồng rừng sản xuất bình quân 1,5 lần/đơn vị diện tích 2020. Nâng năng suất, chất rừng Để mục tiêu trên, Chương trình đề nhiệm vụ chủ yếu như: Bảo vệ rừng, bảo tồn đa dạng sinh học hệ sinh thái rừng; phát triển rừng nâng năng suất, chất rừng; quản lý rừng bền vững chứng rừng đối rừng sản xuất rừng trồng. Các nội dung ưu tiên thực hiện gồm: Bảo vệ rừng, phòng cháy, chữa cháy rừng phát triển rừng đặc dụng, rừng phòng hộ, rừng ven biển; phát triển lâm nghiệp, trồng rừng gỗ lớn; phát triển lâm sản gỗ; phát triển công nghiệp chế biến lâm sản. Tổng vốn thực hiện Chương trình dự kiến 78.585 tỷ đồng. Vũ Phương Nhi\n",
            "This is \"['Pháp luật']\" news, you predicted it is \"['Giáo dục']\" news\n",
            "------------------------------------------------------------\n",
            "------------------------------------------------------------\n",
            "Ngồi cộng chi phí sinh hoạt cá nhân, tiền trọ, điện rồi, Thúy Hường (23 tuổi, Hà Nội) khoản tiền giá leo thang. Hường trường nhân viên marketing công ty truyền thông. Với lương 7 triệu đồng/tháng, gái 23 lo lắng gánh chi phí sinh hoạt thành phố. Tương tự, đi 1, 5 tháng, Bùi Ngọc (24 tuổi, Hà Nội) khoản tiết kiệm thân, tháng, đi vay khoản bè trang trải chi phí sinh hoạt. “Mình vay mượn, bù kia. Giá liên tục lương trường thấp”, Bùi Ngọc than thở. Mới trường ổn định công lẫn thu nhập tháng, bão giá ập tới, Thúy Hường loay hoay chi tiêu phù hợp. Tuần rồi, Hường tận dụng xe đạp điện quê đi làm. Cô may mắn công trọ, 3 km, dàng di xe đạp điện. Trước đây, đi xe máy, Hường chi chi phí đi 400.000-500.000 đồng/tháng, đi chơi, dạo phố bè. Giờ đây, giá xăng liên tục lập đỉnh, cắt hoàn toàn chi phí nhiên liệu tối giản chi tiêu. “Mình bất tiện, xe điện yếu, đi xa, chấp thôi, giá xăng cao, cân đối thứ”, Thúy Hường chia sẻ. Bên cạnh đó, giá sinh hoạt tiêu giá xăng. Giờ đây, chợ, Hường thời gian cân nhắc thực phẩm ngày. Cô đắn đo “thắt lưng buộc bụng”, kham nổi. “Bình thường, mua bó rau 5.000 đồng, 10.000 đồng/bó, giá dưa chuột 8.000 đồng/kg gấp đôi. Việc uống 100.000 đồng. Tính ra, tháng, tiêu 3 triệu đồng tiền thay 2 triệu đồng kia. Các chi phí sinh hoạt lên”, Thúy Hường kể. Chưa đi làm, 3 bữa/tuần, cơm trưa, công ty rủ đồ uống trà sữa, giải khát đồ vặt khác. Chi phí cốc trà sữa dao động 25.000- 40.000 đồng tùy kích cỡ. Một đi làm, Hường tốn 120.000 đồng chi phí uống. Tương tự, Bùi Ngọc cân đo đong đếm khoản chi tiêu tháng. Hiện, Ngọc nhân viên nội dung công ty mỹ phẩm lương 6 triệu đồng/tháng trường. “Chi tiêu thiết yếu bây xăng xe. Bây giờ, liên tục báo giá tăng, hơi sốt ruột. Vì trọ công ty 9 km, trung bình 3-4 ngày, đổ xăng lần. Mỗi lần, đổ 150 nghìn đồng”, Ngọc kể. Về khoản chi tiêu uống, hôm dậy muộn, Ngọc kịp chuẩn đồ bữa trưa công ty, tranh thủ hàng tạm bát bún suất cơm. Tuy nhiên, giá suất bún cơm 5.000-10.000 đồng thịt, rau, giá. Với lương 6 triệu đồng, Ngọc chi khoản tiền trọ, chí phí sinh hoạt, đồ cá nhân. Thỉnh thoảng, cân nhắc mua 1-2 quần áo phù hợp công văn phòng. “Khi giá tăng, lương sinh hoạt thành phố. Bây bão giá, khăn. Chưa tháng, tiền, chí vay bè”, Ngọc nói. Sống thành phố cân đối chi tiêu đồng loạt giá. Thúy Hường Bùi Ngọc cảm mệt mỏi, áp lực. Nhưng dần thay đổi thói quen chi tiêu, học tiết kiệm hơn. Bùi Ngọc liệt kê tất khoản phí mấy phân phù hợp. Sau đó, thiết lập ngân sách nhóm. Bằng này, Ngọc khoản chi thiết chi nhiều. Từ đó, cắt chi tiêu hợp lý hơn. “Mình chia khoản chi thành 3 cụ thể, bao chi phí cố định tiền điện, tiền nước, tiền nhà, liên quan sinh hoạt cá nhân hàng, trà sữa, cà phê bè khoản nợ tiết kiệm”, Ngọc toán. Trong trường hợp giá kéo dài, Ngọc ưu tiên cố định hạn chế chi tiêu sinh hoạt hàng đi chơi, mua đồ vặt. Thay đó, tranh thủ dậy nấu cơm, pha đi. Điều thể giúp tiết kiệm khoản tương đối thời kỳ bão giá. Đối thu nhập trường thấp, Ngọc kế hoạch công thu nhập. \"Mình công tư vấn hàng online tối cửa hàng quần áo trẻ em, công thể linh hoạt giấc, thể làm. Mỗi ca trì 3-4 tiếng, thu nhập 3 triệu đồng/tháng\", Ngọc chia sẻ. Cô thu nhập bớt gánh chi phí sinh hoạt vật giá leo thang, vay mượn bè. Để “cháy túi” rồi, Thúy Hường bắt đầu \"buộc bụng\" cố gắng thể dư triệu đồng phòng trừ chi phí phát sinh khác. Bằng này, Hường thói quen cập nhật ghi chép thu chi xuyên, giúp tiền thời bão giá. Thói quen uống công ty Hường hạn chế mức. Thay đó, pha sẵn đi mua sẵn túi trà sữa pha uống nghỉ ngơi công ty, gọi đồ ngoài. \"Bản thân trẻ, khi, lương tay, lập tức chi tiêu ngừng, hoàn toàn kế hoạch tiết kiệm tiền đó. Hiện giờ, giá tăng, cân đối vạch kế hoạch cụ thể 'rỗng túi' tháng\", Hường nói.\n",
            "This is \"['Giáo dục']\" news, you predicted it is \"['Pháp luật']\" news\n",
            "------------------------------------------------------------\n",
            "------------------------------------------------------------\n",
            " \n",
            "This is \"['Pháp luật']\" news, you predicted it is \"['Giáo dục']\" news\n",
            "------------------------------------------------------------\n",
            "------------------------------------------------------------\n",
            "Ngày 22/6, Văn phòng Tỉnh uỷ Khánh Hoà ban hành thông báo kết luận Thường trực Tỉnh uỷ suy rạn san hô Khu bảo tồn biển Hòn Mun (gọi tắt KBTB Hòn Mun, hiện Khu bảo tồn biển vịnh Nha Trang). Tạm dừng du lịch lặn biển Trước đó, 20/6, Nguyễn Hải Ninh (Bí thư Tỉnh ủy Khánh Hoà), Nguyễn Khắc Toàn (Phó Bí thư Thường trực Tỉnh ủy, Chủ tịch HĐND tỉnh) Nguyễn Tấn Tuân (Chủ tịch UBND tỉnh) chủ trì Thường trực Tỉnh ủy UBND tỉnh báo cáo suy rạn san hô KBTB Hòn Mun (ở vịnh Nha Trang, TP. Nha Trang). Tại họp, Thường trực Tỉnh ủy Khánh Hoà kết luận thời gian qua, quan báo chí phản ánh thực trạng suy rạn san hô khu vực Hòn Mun, vịnh Nha Trang. Theo đó, suy rạn san hô khu bảo tồn biển Hòn Mun trình tác động tích lũy năm, nguyên nhân quan chủ quan. Trong đó, nguyên nhân quan tác động biến đổi khí hậu, ảnh hưởng bão Damrey 2017 bão 9 2021. Nguyên nhân chủ quan công tác quản lý nước, phối hợp sở, ngành, địa phương liên quan, hoạt động Ban quản lý (BQL) vịnh Nha Trang bất cập, hạn chế, sót. Nhiều hoạt động tác động hệ sinh thái biển vịnh Nha Trang rạn san hô KBTB Hòn Mun xử lý kịp thời khai thác thủy sản trái phép, nạo vét, xây dựng công trình ven biển quy định, xả thải hoạt động du lịch... Từ đó, Thường trực Tỉnh ủy Khánh Hòa đề nghị Ban cán đảng UBND tỉnh, lãnh đạo UBND tỉnh đạo UBND TP. Nha Trang tạm dừng hoạt động du lịch lặn biển khu vực tổn hại rạn san hô khu vực vịnh Nha Trang, đặc biệt khu vực Hòn Mun. Đồng thời, khoanh bảo vệ khu vực nhạy cảm, dấu hiệu phục hồi hệ sinh thái (điển hình rạn san hô bãi giống, bãi đẻ) vịnh Nha Trang. Tìm giải pháp bảo vệ, phục hồi san hô Kết luận Tỉnh uỷ Khánh Hoà giao UBND tỉnh đạo sở, ngành liên quan phối hợp chặt chẽ BQL vịnh Nha Trang hoạt động giám sát, quản lý vịnh Nha Trang; cường hiệu hoạt động đội kiểm tra liên ngành công tác tuần tra, bảo vệ nghiêm ngặt khu vực bảo tồn Hòn Mun. Giao UBND tỉnh đạo quan chức năng tỉnh phối hợp viện, trung tâm nghiên cứu, chuyên gia, khoa học thực hiện nghiên cứu, tra, khảo sát báo cáo cụ thể, xác, hiện trạng, nguyên nhân suy hệ sinh thái rạn san hô khu vực Hòn Mun khu vực vịnh Nha Trang, đề xuất giải pháp phù hợp bảo vệ, phục hồi. Về giải pháp dài, Thường trực Tỉnh ủy Khánh Hòa yêu cầu UBND tỉnh đạo xây dựng kế hoạch tổng thể phục hồi vịnh Nha Trang, báo cáo Thường trực Tỉnh ủy, Ban Thường vụ Tỉnh ủy 7/2022. Đề nghị UBND tỉnh đạo nghiên cứu phương án quản lý, khai thác mặt vịnh Nha Trang hướng xã hội hóa, xây dựng mô hình quản trị công tư, kết hợp hoạt động kinh doanh du lịch, dịch vụ gắn nhiệm vụ bảo vệ KBTB vịnh Nha Trang hiệu quả, bền vững. Trước đó, báoTiền Phong viết phản ánh suy rạn san hô nghiêm trọng KBTB Hòn Mun. Qua tra thấy, 6/2020, KBTB độ phủ san hô sống 61% đầu 2022 chất san hô Hòn Mun trung bình. Đặc biệt, khu vực Tây Nam Hòn Mun tình trạng rạn san hô kém, tỉ lệ bao phủ 7,8%.\n",
            "This is \"['Giáo dục']\" news, you predicted it is \"['Pháp luật']\" news\n",
            "------------------------------------------------------------\n",
            "------------------------------------------------------------\n",
            "Zalo hiện ứng dụng nhắn ưa chuộng thị trường Việt Nam. Zalo 70 triệu xuyên giao diện sử dụng, sản phẩm hoạt động tốt, ổn định hạ tầng mạng Việt Nam. Điều ứng dụng dàng trở quen đối tất người, Facebook Messenger, Viber, Telegram... lạ. Tuy nhiên, Zalo bắt đầu thay đổi ứng dụng nhắn bắt đầu 1/8/2022, bao thu phí dùng. Từ thông báo Zalo gửi dùng, thể Zalo 6 thay đổi quan trọng thời gian tới. Được biết, thay đổi Zalo hạn chế quấy rầy bảo vệ an toàn thông tư dùng. 1. Người lạ (không danh bạ) thể xem, bình luận nhật ký dùng. 2. Mỗi tài khoản Zalo 1.8 40 hiển thị/tháng lạ kiếm điện thoại. 3. Mỗi tài khoản phản hồi 40 hội thoại/tháng lạ, hạn đọc thể tiếp tục lời. 4. Tối đa 1.000 bè, thể chấp yêu cầu kết lạ. 5. Sẽ năng username, áp dụng toàn tài khoản Zalo cá nhân. 6. Mỗi tài khoản mặc định 5 nhắn nhanh, nhắn mới, xóa bớt nhắn cũ. Bên cạnh đó, 22/6 vùa qua, Zalo triển khai gói dịch vụ phí Zalo OA doanh nghiệp. Theo đó, tài khoản OA xác thực 4 gói sử dụng (miễn phí), thử (10.000 VND), nâng (59.000 VND) Premium (399.000 VND) tháng. Lưu ý, Zalo OA (Zalo Official Account) trang kinh doanh thức doanh nghiệp, nhãn hàng, tổ chức cộng đồng Zalo. Tức Zalo thu phí đối tài khoản doanh nghiệp thu phí đối tài khoản cá nhân. Hiện thay đổi Zalo quan tâm dùng.\n",
            "This is \"['Giáo dục']\" news, you predicted it is \"['Pháp luật']\" news\n",
            "------------------------------------------------------------\n",
            "------------------------------------------------------------\n",
            "Ngày 15/7, Sở LĐ-TB&XH tỉnh Quảng Ngãi xác nhận, đơn vị quyết định đình hoạt động giáo dục nghề nghiệp trường Trung Đông Á. Theo đó, trường đình tuyển sinh 2022 đối ngành, nghề Sở LĐ-TB&XH tỉnh Quảng Ngãi giấy chứng đăng ký hoạt động giáo dục nghề nghiệp. Trường Trung Đông Á đình hoạt động bảo đảm kiện hoạt động quy định Nghị định 24 Chính phủ. Đây Nghị định sửa đổi, bổ sung Nghị định quy định kiện đầu tư hoạt động lĩnh vực giáo dục nghề nghiệp. Theo Sở LĐ-TB&XH tỉnh Quảng Ngãi, trường Trung Đông Á đình hoạt động 24/7/2022. Nếu thời trường Trung Đông Á bổ sung kiện hoạt động quy định dừng hoạt động. Trong diễn biến liên quan, 5/2022, Công an tỉnh Quảng Ngãi khởi tố vụ án, khởi tố can bắt tạm giam đối Phạm Minh Trí (42 tuổi), Hiệu trưởng trường Trung Đông Á. Phạm Minh Trí bắt tra hành vi Giả mạo công tác, khoản 2, Điều 359, Bộ luật Hình sự. Nguyễn Văn Minh (29 tuổi), Phó trưởng phòng đào trường Trung Đông Á bắt tra hành vi. Theo Công an Quảng Ngãi, Trí Minh lợi dụng chức vụ quyền hạn trái quy định trung đối tượng nhu cầu trục lợi.\n",
            "This is \"['Giáo dục']\" news, you predicted it is \"['Pháp luật']\" news\n",
            "------------------------------------------------------------\n",
            "------------------------------------------------------------\n",
            " \n",
            "This is \"['Pháp luật']\" news, you predicted it is \"['Giáo dục']\" news\n",
            "------------------------------------------------------------\n",
            "------------------------------------------------------------\n",
            "Chất lao động Việt Nam Theo công bố Báo cáo niên Kinh tế Thương mại Việt Nam 2021 trường ĐH Thương Mại GS.TS Đinh Văn Sơn chủ biên công bố 6/2022, dịch Covid-19 diễn biến kéo dài, hàng chục nghìn doanh nghiệp giải thể, tạm ngừng hoạt động, hoạt động cầm chừng 30-50% lao động đảm bảo yêu cầu giãn cầu lao động sút nghiêm trọng. Bên cạnh đó, cung lao động thị trường lao động trở quê lo sợ dịch bệnh ly tình trạng hụt lao động doanh nghiệp. Cụ thể, tham gia lực lao động tiếp tục xu hướng giai đoạn 2019 - 2021 tác động đại dịch Covid-19. Lực lao động 15 trở 2021 50,5 triệu người, 791,6 nghìn trước. Tỷ lệ tham gia lực lao động 2021 67,7%, 1,9 trăm trước. Tuy nhiên, mặc khăn đại dịch, chất lao động xu hướng cải thiện, lao động đào trình độ \"Sơ cấp\" trở 2021 26,1%, 0,8 trăm trước. Biến động lực lao động Việt Nam giai đoạn 2017-2021 sau: Về chất lao động, chất lao động Việt Nam xu hướng cải thiện trở đây, tỷ lệ lao động đào sơ trở 21,6% 2017 26,1% 2021 (Tổng cục Thống kê, 2021). Theo Ngân hàng Thế giới (WB, 2020), vốn nhân lực (HCI) Việt Nam 0,66 0,69 10 2010 - 2020. Chỉ vốn nhân lực Việt Nam tiếp tục trung bình thu nhập mặc chi tiêu công y tế, giáo dục bảo trợ xã hội hơn. Việt Nam khu vực Đông Á - Thái Bình Dương vốn nhân lực (theo WB). Điều phản ánh thành tựu giáo dục phổ thông y tế qua. Tuy nhiên, chung, chất lao động Việt Nam thấp, phận (NLĐ) tiếp cận hội bền vững, doanh nghiệp (DN) tuyển nhân phù hợp. Bên cạnh đó, xét cấu lao động đào trình độ chuyên môn, thể rằng, lao động đại học trở chiếm tỷ trọng cao; 2020, tỷ trọng lao động trình độ đại học trở chiếm 11,12% tổng lao động, lao động trình độ sơ trung chiếm 9,11%; phản ánh cân đối cung ứng lao động tình trạng thừa thầy, thợ tồn thị trường cung ứng lao động Việt Nam. Tỷ lệ lao động 15 trở kinh tế đào phân trình độ chuyên môn kỹ thuật sau: Xét cấu tham gia lực lao động giới khu vực, 5 đây, lao động nam xu hướng chiếm tỷ trọng lao động nữ, đặc biệt, 2021, tỷ lệ lao động nữ tham gia LLLĐ sâu, tương ứng 46,5%. Trong đó, lao động khu vực nông thôn chiếm tỷ lệ lớn, nhiên, xu hướng dần, 2021 63,2%. Hơn 28,2 triệu thất nghiệp, thu nhập Covid-19 GS.TS Đinh Văn Sơn biết, suy kinh tế ảnh hưởng đại dịch lao động tiếp tục xu hướng giai đoạn 2019-2021. Lao động 15 trở 2021 49,0 triệu người, tiếp tục 2020. Trong đó, chủ yếu khu vực nông thôn nam giới. Số lao động khu vực nông thôn 31,2 triệu người, 1,5 triệu nam giới 26,2 triệu người, 729,5 nghìn trước. Lực lao động 15 trở làm, giới khu vực: Trong 2021, tình hình dịch Covid-19 kéo phức tạp 2020 hàng triệu việc, lao động ngành tiếp tục giảm, đặc biệt khu vực dịch vụ. Lao động khu vực công nghiệp xây dựng 16,3 triệu (chiếm 33,2%), 254,2 nghìn trước; khu vực dịch vụ 18,6 triệu (chiếm 37,9%), 800,8 nghìn trước; khu vực nông, lâm nghiệp thủy sản 14,2 triệu (chiếm 28,9%), 37,3 nghìn trước. Lực lao động 3 khu vực quý 2021 sau: Xét quý khu vực, lực lao động 2 khu vực công nghiệp xây dựng dịch vụ sâu quý III 2021. Số liệu công bố Tổng cục Thống kê (2021) thấy, quý III/2021 qua, 28,2 triệu 15 trở hứng ảnh hưởng tiêu cực dịch Covid-19 làm, giãn việc, nghỉ luân phiên, làm, thu nhập…So quý trước, lao động tác động xấu dịch Covid-19 quý III 15,4 triệu người. Hầu ảnh hưởng nằm độ lao động, 24 - 54 tuổi, chiếm 73,3% tổng lao động ảnh hưởng. Theo đánh giá Tổng cục Thống kê (2021), giãn xã hội kéo 3 quý III trầm trọng tình trạng thất nghiệp, ảnh hưởng ngành công nghiệp, xây dựng dịch vụ, lao động hai ngành đây. Ngược lại, lao động ngành nông nghiệp xu hướng tăng, trái ngược xu hướng đây, chủ yếu lao động tỉnh thành Nam trở địa phương ngành nông nghiệp. Thực tế, lao động khu vực thành thị thiệt hại xuất hiện tình trạng dân, lao động thiếu, dịch, lao động nghèo, lao động di phát dịch quê, khăn đi, nguy cân đối cung - cầu ngắn hạn kinh tế tiến giai đoạn phục hồi. Trong 2021, lao động thức phi thức giảm. Số lao động phi thức 19,8 triệu người, 628,0 nghìn người, lao động thức; lao động thức 15,4 triệu người, 469,8 nghìn 2020. Tỷ lệ lao động phi thức phi nông nghiệp 2021 56,2%, tương đương trước. Tuy nhiên, khu vực nông thôn nữ giới tỷ lệ xu hướng tương ứng lượt 1,0 trăm 0,2 trăm trước. Năng suất lao động Việt Nam Campuchia Theo Báo cáo niên, năng suất lao động (NSLĐ) toàn kinh tế giá hiện hành 2021 ước 171,3 triệu đồng/lao động (tương đương 7.398 USD/lao động, 538 USD 2020). Theo giá sánh, năng suất lao động 2021 4,71% trình độ lao động cải thiện (tỷ lệ lao động đào bằng, chứng 2021 26,1%, 25,3% 2020) (Tổng cục Thống kê, 2021). Khi sánh quốc gia khu vực, năng suất lao động (NSLĐ) Việt Nam tương đối chênh lệch tuyệt đối tiếp tục xu hướng gia tăng. NSLĐ Việt Nam Campuchia; tương đồng Myanmar Lào; Ấn Độ, Philippines, Indonesia, Trung Quốc, Thái Lan Malaysia Singapore. Điều thách thức Việt Nam cải thiện chất nhân lực, nâng NSLĐ thể bắt kịp NSLĐ quốc gia khu vực. (Nguyễn Thúy Quỳnh, Viện Chiến lược Chính sách tài chính, Bộ Tài chính, 2021) Tỷ lệ khu vực thành thị khu vực nông thôn GS.TS Đinh Văn Sơn biết, 2021, tỷ lệ thất nghiệp lao động độ 3,22%, tỷ lệ thất nghiệp khu vực thành thị 4,42% khu vực nông thôn (2,48%). Tỷ lệ thất nghiệp niên (từ 15-24 tuổi) 2021 ước 8,48%, khu vực thành thị 11,91%; khu vực nông thôn 6,76% (Tổng cục Thống kê, 2021). Mặc Chính phủ sách chủ động ứng linh hoạt phòng chống Covid-19, thực hiện phục hồi, phát triển kinh tế xã hội 2021 thị trường lao động khăn, tỷ lệ thất nghiệp trước, khu vực thành thị mốc 4%. Tỷ lệ thất nghiệp tỷ lệ quý 2021 (%) Xét quý, quý III 2021 ghi tỷ lệ thất nghiệp tỷ lệ quý năm. Diễn biến phức tạp làn sóng dịch Covid-19 4 tham gia lực lao động sụt nghiêm trọng. Tỷ lệ tham gia lực lao động vòng 10 trở đây, đồng thời đẩy tỷ lệ thất nghiệp tỷ lệ quý III đột biến, 3,98% 4,46% - vòng 10 trở đây. Số độ 2021 1,4 triệu người, 370,8 nghìn trước. Tỷ lệ lao động độ ước 3,10%, tỷ lệ khu vực thành thị 3,33%; tỷ lệ khu vực nông thôn 2,96%. Tỷ lệ lao động độ 3,10%, 0,71 trăm trước. Tỷ lệ khu vực thành thị 3,33%, 0,37 trăm khu vực nông thôn. Do diễn biến phức tạp dịch Covid-19 4 đẩy tỷ lệ khu vực thành thị khu vực nông thôn 2021. Điều trái xu hướng thị trường lao động quan sát ta tình trạng khu vực nông thôn nghiêm trọng thành thị. Thu nhập bình quân lao động 32 nghìn đồng Theo liệu thống kê Báo cáo niên 2021 trường ĐH Thương Mại, 2021 thu nhập bình quân lao động 5,7 triệu đồng, 32 nghìn đồng 2020. Thu nhập bình quân lao động nam 6,6 triệu đồng, 1,40 lao động nữ (4,7 triệu đồng). Thu nhập bình quân lao động khu vực thành thị 7,0 triệu đồng, 1,40 thu nhập bình quân lao động khu vực nông thôn (5,0 triệu đồng). Xét ngành kinh tế, 2020, lao động khu vực nông, lâm nghiệp thủy sản trì độ trưởng dương ổn định, thu nhập bình quân 2021 3,6 triệu đồng, 7,1%, tương ứng 236 nghìn đồng. Thu nhập bình quân lao động khu vực công nghiệp xây dựng 6,4 triệu đồng, 201 nghìn đồng, tương ứng 3,0% lao động khu vực dịch vụ thu nhập bình quân 6,8 triệu đồng, 27 nghìn đồng, tương ứng 0,4%. Thu nhập bình quân lao động công lương 2021 6,6 triệu đồng, 45 nghìn đồng 2020. Lao động nam thu nhập bình quân 1,15 thu nhập bình quân lao động nữ (7,0 triệu đồng 6,0 triệu đồng); lao động khu vực thành thị thu nhập bình quân 1,23 lao động khu vực nông thôn (7,3 triệu đồng 5,9 triệu đồng). Điều chỉnh hoạt động đào nhu cầu thị trường lao động Theo đánh giá Tổ chức Lao động Quốc tế (ILO), khủng hoảng thị trường lao động đại dịch Covid-19 kết thúc trưởng bù đắp thiệt hại 2023. Do đó, ứng \"trạng thái bình mới\", đảm bảo sản xuất, phát triển kinh tế, phòng chống dịch bệnh bảo vệ lao động (NLĐ), yếu thế, thực hiện cường thực hiện mục tiêu đảm bảo thu nhập NLĐ đại dịch. GS.TS Đinh Văn Sơn rằng, thời kỳ khôi phục kinh tế kiểm soát dịch bệnh, đảm bảo thu nhập NLĐ đặc biệt ưu tiên. Nhanh chóng lao động trở thị trường thông cường kết nối cung - cầu lao động. Bên cạnh đó, cường giáo dục nghề nghiệp, đào đổi nghề nghiệp, đào tái hòa nhập thị trường lao động… hỗ trợ lao động trở thị trường. Hộ sản xuất, doanh nghiệp siêu sách ưu tiên khuyến khích lực phục hồi hình khác; cường thực hiện mục tiêu đảm bảo thu nhập NLĐ đại dịch. Nhanh chóng NLĐ trở thị trường thông cường kết nối cung - cầu lao động. Tăng cường giáo dục nghề nghiệp, đào đổi nghề nghiệp, đào tái hòa nhập thị trường lao động… hỗ trợ NLĐ trở thị trường. Hộ sản xuất, doanh nghiệp siêu sách ưu tiên khuyến khích lực phục hồi hình khác. Tập trung kết nối thúc đẩy đại dịch đối lĩnh vực tiềm năng phục hồi; chỉnh hoạt động đào nhu cầu thị trường lao động ngành tiềm năng trưởng kinh tế phục hồi tập trung kỹ năng số, kỹ thuật tiên tiến khởi nghiệp kinh doanh… (Nguồn: Báo cáo niên Kinh tế Thương mại Việt Nam 2021 - Phát triển kinh tế đại dịch Covid-19)\n",
            "This is \"['Giáo dục']\" news, you predicted it is \"['Pháp luật']\" news\n",
            "------------------------------------------------------------\n",
            "------------------------------------------------------------\n",
            "Bà Lê Thu Nga (Hà Nội) tuyển dụng Nghị định 140/2017/NĐ-CP 5/12/2017 Chính phủ sách thu hút, cán sinh viên nghiệp xuất sắc, cán khoa học trẻ. Tại Khoản 1, Điều 13 Nghị định 140/2017 quy định: \"Sinh viên nghiệp xuất sắc, cán khoa học trẻ tuyển dụng đặc cử tham dự kỳ thi nâng ngạch chuyên viên thăng hạng chức danh nghề nghiệp viên chức tương đương ngạch chuyên viên đáp ứng kiện sau: a) Được xếp hoàn thành xuất sắc nhiệm vụ 03 liên tiếp quyết định tuyển dụng; b) Cán khoa học trẻ trình độ thạc sĩ, sĩ chuyên khoa I, sĩ nội trú, dược sĩ chuyên khoa I quy định Điểm a Khoản đề tài khoa học công bố tạp chí khoa học chuyên ngành uy tín khu vực quốc tế; c) Cán khoa học trẻ trình độ tiến sĩ, sĩ chuyên khoa II, dược sĩ chuyên khoa II quy định Điểm a Khoản công trình nghiên cứu khoa học công bố tạp chí khoa học chuyên ngành khu vực quốc tế (ISI SCI)\". Bà Nga tuyển dụng thời năm, đầu tiên thời gian công tác 6 đánh giá, phân công chức. Sang hai, 12 công tập sự. Như vậy, kết phân công chức hai (có 6 công chức tập sự) thời gian xét 3 liên tiếp hoàn thành xuất sắc nhiệm vụ xét hồ sơ dự thi nâng ngạch công chức quy định Điểm a, Khoản 1, Điều 13 Nghị định 140/2017/NĐ-CP nêu không? Đối công chức tuyển dụng Nghị định 140/2017/NĐ-CP trình độ đại học, tiêu chuẩn, kiện đề tài khoa học đáp ứng nào? Đối công chức tuyển dụng Nghị định 140/2017/NĐ-CP trình độ thạc sĩ, quy định Điểm b, Khoản 1, Điều 13 Nghị định 140/2017/NĐ-CP đề tài khoa học công bố tạp chí khoa học chuyên ngành uy tín khu vực quốc tế. Bà Nga hỏi, 1 báo đăng tạp chí chuyên ngành Bộ xác định đáp ứng yêu cầu quy định không? Trường hợp đáp ứng, đề nghị quan chức năng hướng tiêu chuẩn \"có đề tài khoa học công bố tạp chí khoa học chuyên ngành uy tín khu vực quốc tế\" nào? Ngoài tiêu chuẩn, kiện Khoản 1, Điều 13 Nghị định 140/2017/NĐ-CP, xét kiện dự thi nâng ngạch chuyên viên chính, Nga đáp ứng tiêu chuẩn kiện ngạch chuyên viên quy định Thông tư 02/2021/TT-BNV chứng bồi dưỡng ngạch chuyên viên chính, tham gia xây dựng, thẩm định 1 văn quy phạm pháp luật, đề tài, đề án,.. không? Về vấn đề này, Bộ Nội vụ sau: Việc xếp công chức tham gia thi nâng ngạch thăng hạng chuyên viên tương đương: Theo quy định Điểm a, Khoản 1, Điều 13 Nghị định 140/2017/NĐ-CP sinh viên nghiệp xuất sắc, cán khoa học trẻ xếp hoàn thành xuất sắc nhiệm vụ 3 liên tiếp quyết định tuyển dụng đáp ứng kiện quy định đặc cử tham dự kỳ thi nâng ngạch chuyên viên thăng hạng chức danh nghề nghiệp viên chức tương đương ngạch chuyên viên chính. Việc đánh giá, xếp công chức, viên chức thực hiện quy định Nghị định 90/2020/NĐ-CP 13/8/2020 Chính phủ. Theo đó, đánh giá, xếp thực hiện công tác. Do vậy, trường hợp kết phân công chức hai 6 công chức tập thời gian xét 3 liên tiếp hoàn thành xuất sắc nhiệm vụ xét hồ sơ dự thi nâng ngạch công chức quy định Điểm a, Khoản 1, Điều 13 Nghị định 140/2017/NĐ-CP. Về tiêu chuẩn đề tài khoa học đối sinh viên nghiệp xuất sắc tuyển dụng công chức, viên chức Nghị định 140/2017/NĐ-CP: Nghị định 140/2017/NĐ-CP quy định kiện đề tài khoa học đối sinh viên nghiệp xuất sắc. Theo quy định Điểm b, Khoản 1, Điều 13 Nghị định 140/2017/NĐ-CP, cán khoa học trẻ trình độ thạc sĩ, sĩ chuyên khoa I, sĩ nội trú, dược sĩ chuyên khoa I trở đáp ứng kiện đề tài khoa học công bố tạp chí khoa học chuyên ngành uy tín khu vực quốc tế xét cử tham dự kỳ thi nâng ngạch chuyên viên thăng hạng chức danh nghề nghiệp viên chức tương đương ngạch chuyên viên chính. Căn xác định đề tài đăng tạp chí khoa học chuyên ngành uy tín Việc xác định đề tài/công trình nghiên cứu khoa học quy định Nghị định 140/2017/NĐ-CP: Hiện nay, khái niệm \"tạp chí quốc tế uy tín, tạp chí ISI uy tín\" quy định cụ thể Điều 2 Thông tư 37/2014/TT-BKHCN 12/12/2014 Bộ Khoa học Công nghệ quy định quản lý đề tài nghiên cứu Quỹ phát triển khoa học công nghệ Quốc gia tài trợ, cụ thể: a) Tạp chí quốc tế uy tín: - Đối lĩnh vực khoa học nhiên kỹ thuật: Là tạp chí khoa học lựa danh mục SCI (Science Citation Index) SCIE (Science Citation Index Expanded) Viện Thông khoa học quốc tế (Hoa Kỳ), Hội đồng quản lý Quỹ phát triển khoa học công nghệ Quốc gia quyết định sở tư vấn Hội đồng khoa học ngành. - Đối lĩnh vực khoa học xã hội nhân văn: Là tạp chí danh mục đây: + Danh mục AHCI (Arts and Humanities Citation Index) SSCI (Social Science Citation Index) Viện Thông khoa học quốc tế (Hoa Kỳ); + Tạp chí khoa học lĩnh vực khoa học xã hội nhân văn sở liệu Scopus Elsevier; + Tạp chí khoa học quốc tế lĩnh vực khoa học xã hội nhân văn Hội đồng quản lý Quỹ phát triển khoa học công nghệ Quốc gia quyết định sở kiến nghị Hội đồng khoa học ngành, liên ngành. b) Tạp chí ISI uy tín: - Đối lĩnh vực khoa học nhiên kỹ thuật: Là tạp chí khoa học chất hàng đầu ngành lĩnh vực, lựa tạp chí quốc tế uy tín, Hội đồng quản lý Quỹ phát triển khoa học công nghệ Quốc gia quyết định sở tư vấn Hội đồng khoa học ngành. - Đối lĩnh vực khoa học xã hội nhân văn: Là tạp chí danh mục AHCI (Arts and Humanities Citation Index) SSCI (Social Science Citation Index) Viện Thông khoa học quốc tế (Hoa Kỳ). c) Riêng tạp chí khoa học chuyên ngành uy tín hiện phê duyệt quy định sau: - Tạp chí khoa học Hội đồng quản lý Quỹ phát triển khoa học công nghệ Quốc gia quyết định sở kiến nghị Hội đồng khoa học ngành, liên ngành (theo quy định Khoản 5, Điều 2 Thông tư 37/2014/TT-BKHCN 12/12/2014 Bộ Khoa học Công nghệ quy định quản lý đề tài nghiên cứu Quỹ phát triển khoa học công nghệ Quốc gia tài trợ). - Danh mục tạp chí khoa học Hội đồng giáo sư (hiện Quyết định 18/QĐ-HĐGSNN 30/6/2020 phê duyệt danh mục tạp chí khoa học 2020 sở đề xuất Hội đồng giáo sư ngành, liên ngành). Như vậy, xác định tạp chí khoa học chuyên ngành uy tín danh mục tạp chí quan nêu phê duyệt chiếu. Việc nâng ngạch công chức đối sinh viên nghiệp xuất sắc, cán khoa học trẻ sách ưu đãi áp dụng tuyển dụng đối đối tượng này, tham gia thi nâng ngạch đáp ứng tiêu chuẩn quy định Khoản 1, Điều 13 Nghị định 140/2017/NĐ-CP. Chinhphu.vn\n",
            "This is \"['Pháp luật']\" news, you predicted it is \"['Giáo dục']\" news\n",
            "------------------------------------------------------------\n",
            "------------------------------------------------------------\n",
            "Ngày 6/7, công an xã Trung Trạch, huyện Bố Trạch (Quảng Bình) mời Nguyễn Thị Loan (SN 1945, trú thôn 4, xã Trung Trạch) trụ sở khai báo, xác minh thông thủ tục tài sản. Trước đó, đường đi học về, Phan Hoàng Quân (SN 2009), học sinh lớp 7E Trường THCS Quách Xuân Kỳ nhặt 1 hộp nhựa hình trái tim, 2 nhẫn vàng 1 nhẫn vàng 24k 1 nhẫn vàng 18k đính đá. Ngay nhặt được, công an xã Trung Trạch lại. Trong tài sản, Loan xúc động biết, nhẫn vàng 24k trọng 1/2 tài sản dụm được, nhẫn 1 đính đá món quà cháu tặng kỷ niệm nhân dịp huy hiệu 55 Đảng 2019. Hải Sâm\n",
            "This is \"['Giáo dục']\" news, you predicted it is \"['Pháp luật']\" news\n",
            "------------------------------------------------------------\n",
            "------------------------------------------------------------\n",
            "Theo kết kỳ thi Olympic Toán học quốc tế 63 2022 (IMO 2022) tổ chức Nauy công bố 15/7, 6 học sinh Việt Nam đoạt giải cao, 2 huy chương vàng, 2 huy chương bạc 2 huy chương đồng. Với thành tích này, đội tuyển Olympic Toán học quốc tế Việt Nam xếp 4/104 quốc gia lãnh thổ tham gia, Trung Quốc, Hàn Quốc Mỹ. Thành tích Ban Tổ chức đánh giá cao. Năm 2021, thi tổ chức hình thức trực tuyến học sinh Việt Nam đoạt 1 huy chương vàng, 2 huy chương bạc 3 huy chương đồng. Kết cụ thể sau: Ngô Quý Đăng: Học sinh lớp 12, Trường THPT chuyên Khoa học Tự nhiên, Đại học Quốc gia Hà Nội đoạt huy chương vàng (đạt tuyệt đối 42/42 điểm). Phạm Việt Hưng: Học sinh lớp 11, Trường THPT chuyên Khoa học Tự nhiên, Đại học Quốc gia Hà Nội đoạt huy chương vàng. Phạm Hoàng Sơn: Học sinh lớp 12, Trường Phổ thông năng khiếu, Đại học Quốc gia TPHCM đoạt huy chương bạc. Nguyễn Đại Dương: Học sinh lớp 12, Trường THPT chuyên Lam Sơn, tỉnh Thanh Hóa đoạt huy chương bạc. Vũ Ngọc Bình: Học sinh lớp 12, Trường THPT chuyên Vĩnh Phúc, tỉnh Vĩnh Phúc đoạt huy chương đồng. Hoàng Tiến Nguyên: Học sinh lớp 12, Trường THPT chuyên Phan Bội Châu, tỉnh Nghệ An đoạt huy chương đồng. Đặc biệt, Ngô Quý Đăng tuyệt đối 42/42 điểm. Như vậy, 20 năm, Việt Nam thí sinh ghi tuyệt đối IMO. Lần 2003 2 42 điểm. IMO 2022 tổ chức 6 16/7 Thủ đô Oslo (Nauy) tham dự 589 thí sinh (68 nữ) 104 quốc gia lãnh thổ. Tại lễ bế mạc trao giải diễn chiều 15/7, Ban Tổ chức trao 44 huy chương vàng, 101 huy chương bạc, 140 huy chương đồng 210 khen thí sinh. Thành tích đội tuyển quốc gia Việt Nam Olympic Toán học tiếp tục khẳng định chất giáo dục phổ thông nhà, 3 học ảnh hưởng dịch COVID-19. Thành tích khẳng định hướng đi công tác phát hiện, tuyển bồi dưỡng học sinh giỏi, quan tâm đạo sát Bộ GD&ĐT, cố gắng, nỗ lực học sinh, thầy giáo tham gia công tác học sinh giỏi thời gian qua. Phương Liên\n",
            "This is \"['Pháp luật']\" news, you predicted it is \"['Giáo dục']\" news\n",
            "------------------------------------------------------------\n",
            "------------------------------------------------------------\n",
            "Theo chuyên gia Campbell Pan giải pháp an ninh mạng TeamT5 (đến Đài Loan, Trung Quốc), hình thức công mạng khu vực Châu Á- Thái Bình Dương Việt Nam tinh vi chuyên nghiệp, xuất hiện xu hướng công mạng thời gian đây. Ông Campbell ví dụ, thay công trực tiếp máy dùng, tặc hướng công cung dịch vụ dùng. Trong bối cảnh điện thoại thông minh máy hiện nay, đánh cung dịch vụ nhiễm mã độc nguy nhiều. Thời gian xuất hiện công ty chuyên nghiệp, dịch vụ mã độc. Đối tượng thể mua dịch vụ công mã độc mục tiêu cụ thể. Ngoài ra, ghi công chủ đích (tấn công ATP) Chính phủ tài trợ. Các công diễn thời gian dài, 6 tháng, năm, chí 2-3 năm. Tại Việt Nam, chuyên gia TeamT5, 2 xu hướng công công ransomware (tấn công mã độc) công APT (tấn công chủ đích) quan nước, tổ chức, doanh nghiệp công cá nhân xâm nhập hệ thống quan, tổ chức, doanh nghiệp. Có 30 hoạt động công APT phát hiện khối ngân hàng, tài chính, chứng khoán, phủ, giáo dục… Theo liệu Trung tâm Công nghệ thông Giám sát an ninh mạng (Ban Cơ yếu Chính phủ), 6 đầu 2022, đơn vị ghi 48.646 công mạng Việt Nam hình thức tinh vi, 20% 2021. Trong đó, công khai thác lỗ hổng chiếm đa 53%, tiếp công dò quét mạng (15,65%), công APT (14,36%), công xác thực (9,39%), công cài mã độc (7,58%)… Nguyên nhân tình trạng tồn lỗ hổng bảo mật hệ hành, ứng dụng. Nhiều tổ chức sách an toàn thông chặt chẽ, thức an toàn thông cao. Ngoài ra, nguy sử dụng hệ hành, mềm ứng dụng quyền. Theo ghi Trung tâm Giám sát an toàn gian mạng quốc gia (NCSC) 6 đầu 2022, công APT rộng hạ tầng khiển triển khai hoạt động công, nổi bật Aoqin Dragon, Stone Panda, Mustang Panda, Lazarus. Tấn công APT Việt Nam gia độ tinh vi. Các chuyên gia định, thời gian thể ghi gia kiện công mạng nhắm đối tượng hệ thống mạng quan Đảng, Chính phủ cá nhân.\n",
            "This is \"['Giáo dục']\" news, you predicted it is \"['Pháp luật']\" news\n",
            "------------------------------------------------------------\n",
            "------------------------------------------------------------\n",
            "1. Gà lông lụa 2. Vượn cáo bay Sunda 3. Sói lửa 4. Sơn dương núi Pakistan 5. Khỉ mũi hếch 6. Lửng chó 7. Sói bờm 8. Linh dương Gerenuk 9. Chim bắt ruồi Hoàng gia Amazonian 10. Linh dương lưng vằn\n",
            "This is \"['Giáo dục']\" news, you predicted it is \"['Pháp luật']\" news\n",
            "------------------------------------------------------------\n",
            "------------------------------------------------------------\n",
            "Đề án thực hiện  2021 2025 tỉnh, thành phố đồng sông Cửu Long gồm: Long An, Đồng Tháp, Tiền Giang, Vĩnh Long, Trà Vinh, Bến Tre, An Giang, Hậu Giang, Sóc Trăng, Bạc Liêu, Cà Mau, Kiên Giang thành phố Cần Thơ. Mục tiêu Đề án nâng năng lực chủ động áp dụng biện pháp ứng, hạn chế ảnh hưởng tiêu cực, tận dụng hội biến đổi khí hậu phát triển bền vững hợp tác xã nông nghiệp đồng sông Cửu Long. Đề án phấn đấu năm 2025, 100% hợp tác xã nông nghiệp đồng sông Cửu Long tuyên truyền, bồi dưỡng nâng thức biến đổi khí hậu biện pháp ứng biến đổi khí hậu sản xuất, kinh doanh, chế biến, bảo quản sản phẩm nông, lâm, thủy sản diêm nghiệp. Mỗi tỉnh 3 - 5 mô hình hợp tác xã nông nghiệp áp dụng biện pháp ứng hiệu biến đổi khí hậu, kết hợp mô hình kinh tế tuần hoàn nghiên cứu, học tập nhân rộng. 100% hợp tác xã nông nghiệp lưu vực hệ thống thủy lợi cống Cái Lớn - Cái Bé áp dụng biện pháp ứng hiệu biến đổi khí hậu; bình quân hợp tác xã lưu vực hiệu kinh tế đơn vị diện tích đất nông nghiệp 10% trở lên. Đề án phấn đấu hình thành diễn đàn kinh tế tập thể, hợp tác xã nông nghiệp, chia sẻ thông biến đổi khí hậu, ứng dụng khoa học, công nghệ, kiến, kinh nghiệm tổ chức sản xuất, kinh doanh nông nghiệp ứng biến đổi khí hậu đồng sông Cửu Long. Nhiệm vụ giải pháp Đề án truyền thông, nâng thức biến đổi khí hậu biện pháp ứng; đào tạo, bồi dưỡng, tập huấn nâng năng lực; thúc đẩy, hỗ trợ đổi sản xuất nông nghiệp hướng ứng thông minh biến đổi khí hậu, liên kết chuỗi giá trị; xây dựng trì hệ thống quan trắc, dõi cảnh báo, dự báo lũ, lụt, hạn hán, xâm nhập mặn, biển dâng vùng, khu vực tác động biến đổi khí hậu biển dâng… Trong đó, Đề án triển khai hỗ trợ hợp tác xã nông nghiệp dân đổi mô hình sản xuất nông nghiệp ứng biến đổi khí hậu nâng hiệu sử dụng tài nguyên thiên nhiên, phát huy hiệu công trình đầu tư đồng sông Cửu Long (nhất đối hệ thống công trình cống Cái Lớn - Cái Bé); hỗ trợ hợp tác xã nông nghiệp đổi cấu trồng, vật nuôi, cấu luân canh, đổi mùa vụ sản xuất, sử dụng chống phù hợp hệ thống canh tác mới; sản xuất quy trình thực hành nông nghiệp tốt, tiêu chuẩn chất chứng (VietGAP, GlobalGAP, hữu cơ, SRP, ASC…); áp dụng mô hình nông nghiệp thông minh ứng biến đổi khí hậu. Ưu tiên hỗ trợ hợp tác xã nông nghiệp áp dụng biện pháp ứng biến đổi khí hậu gắn tổ chức sản xuất quy mô lớn, giới hóa đồng bộ, ứng dụng công nghệ cao, liên kết chuỗi giá trị xây dựng thương hiệu nông sản; phát triển đa dạng mô hình liên kết hợp tác xã doanh nghiệp, hợp tác xã hộ nông dân, mô hình chuỗi giá trị nông sản khép kín hợp tác xã nông nghiệp gắn phát triển sản phẩm OCOP, du lịch nông nghiệp, nông thôn, mô hình ứng biến đổi khí hậu kết hợp kiến thức địa. Hỗ trợ hợp tác xã nông nghiệp thành viên hợp tác xã phát triển mô hình kinh tế nông nghiệp tuần hoàn sản xuất, kinh doanh, sơ chế, bảo quản, chế biến lúa gạo, trái cây, chăn nuôi, nuôi trồng thủy hải sản diêm nghiệp; sử dụng phụ phẩm trình sản xuất nông nghiệp sản xuất sản phẩm mới, giá trị gia cao… Vũ Phương Nhi\n",
            "This is \"['Pháp luật']\" news, you predicted it is \"['Giáo dục']\" news\n",
            "------------------------------------------------------------\n",
            "------------------------------------------------------------\n",
            "Ngày 28/6, mạng xã hội lan truyền đoạn clip cảnh nữ sinh đánh hội đồng. Qua nội dung clip thấy, nữ sinh 2 tham gia đánh, lột đồ. Không túm tóc lôi liên tục đạp người, hai dép đánh liên tục mặt, mặc nạn nhân khóc lóc, van thảm thiết. Clip đăng tải mạng xã hội vô phẫn nộ, xúc hành vi 2 nữ sinh tham gia đánh mong quan chức năng xác minh, rõ. Qua phóng viên, đoạn clip ghi khu vực bể bơi địa bàn xã Đông Sơn, huyện Đô Lương, tỉnh Nghệ An. Thông ban đầu biết, 2 học sinh học lớp 8 lớp 9 trường THCS địa bàn thị trấn Đô Lương, huyện Đô Lương. Trong đó, trú xã Hồng Sơn trú xã Đông Sơn, huyện Đô Lương. Do mâu thuẫn bể bơi học sinh xã Hồng Sơn gọi tham gia đánh học sinh xã Đông Sơn. Theo lãnh đạo UBND xã Đông Sơn, hiện nữ học sinh đánh nhập viện trị. Cơ quan công an xác minh, rõ. \"UBND huyện đạo trường, quyền địa phương quan công an xác minh, rõ\", lãnh đạo UBND huyện Đô Lương thêm.\n",
            "This is \"['Giáo dục']\" news, you predicted it is \"['Pháp luật']\" news\n",
            "------------------------------------------------------------\n",
            "------------------------------------------------------------\n",
            "Bộ Xây dựng vấn đề sau: Hạng mục ống địa kỹ thuật geotube (có bơm cát ống) xây dựng dọc bờ biển chống xói bờ công trình/kết cấu \"kè bảo vệ bờ\". Tuy nhiên, câu nêu dự án (hoặc sở hiện hữu) sử dụng hạng mục ống địa kỹ thuật geotube thể xác định cụ thể công trình công năng (hoặc mục đích sử dụng). Chinhphu.vn\n",
            "This is \"['Pháp luật']\" news, you predicted it is \"['Giáo dục']\" news\n",
            "------------------------------------------------------------\n",
            "------------------------------------------------------------\n",
            "Ngày 23/6, PV Dân trí biết, quan chức năng vụ thầy giáo tố hành vi xâm hại tình dục trẻ em. \"Các quan chức năng mời thầy C. tra tố hành vi xâm hại tình dục. Hiện vụ Công an tỉnh Hà Tĩnh tiếp tục tra, xử lý\", biết. Thầy giáo tố hành vi xâm hại tình dục nữ sinh L.D.C., hiện dạy môn tiếng Anh trường THCS địa bàn huyện Vũ Quang (Hà Tĩnh). Nạn nhân T. (trú huyện Vũ Quang, Hà Tĩnh), học sinh lớp 6. Chia sẻ PV Dân trí, bố nạn nhân biết, chiều 20/6, T. đi học môn tiếng Anh thầy giáo L.D.C.. Đến tối ngày, T. biểu hiện bất thường, gia đình gặng nói. \"Cháu bố mẹ, chia sẻ bạn. Sau mẹ điện thoại báo tôi. Lúc này, cháu trình học môn tiếng Anh, thầy C. xâm hại tình dục\", bố nạn nhân biết. Sau việc, gia đình T. trình báo quan chức năng, tố cáo hành vi thầy C.. Đồng thời, đêm 20/6, T. sở y tế giám định. \"Thầy C. thuê dạy môn tiếng Anh. Sau xảy ra, tâm lý cháu ổn định. Tôi mong quan chức năng tra xử lý quy định\", bố nạn nhân thông thêm. Hiện tiếp tục quan chức năng tra.\n",
            "This is \"['Giáo dục']\" news, you predicted it is \"['Pháp luật']\" news\n",
            "------------------------------------------------------------\n",
            "------------------------------------------------------------\n",
            "Phổ tổ hợp thi thi đánh giá tư Trường ĐH Bách khoa Hà Nội 3 tổ hợp thí sinh tối đa. Điểm 27,35, tổ hợp K01. Hôm nay, 24/7, Trường ĐH Bách khoa Hà Nội công bố kết thi kỳ thi đánh giá tư trường tổ chức 15/7 qua. Đây kỳ thi Trường ĐH Bách khoa Hà Nội sử dụng xét tuyển ĐH, 50-60% tiêu (tổng tiêu 7.990 sinh viên). Ngoài ra, 20 trường ĐH sử dụng kết kỳ thi xét tuyển ĐH. Kỳ thi 6.271 thí sinh dự thi thi toán đọc hiểu; 5.158 thí sinh dự thi thi khoa học nhiên 2.608 thí sinh dự thi tiếng Anh. Kết quả, 1 thí sinh tuyệt đối toán (15/15 điểm), 1 thí sinh tuyệt đối đọc (5/5 điểm). Hai thí sinh tuyệt đối. Phần tiếng Anh 1 nhất, 9,34/10 điểm; khoa học nhiên 1 nhất, 8,89/10 điểm. Ngay công bố kết thi, Trường ĐH Bách khoa Hà Nội phân tích phổ điểm. Theo đó, 3 tổ hợp tổ hợp thí sinh tối đa. Tổ hợp kết K01 (toán, đọc hiểu, khoa học nhiên) 1 27,35 thang 30. Tổ hợp K00 (toán, đọc hiểu, khoa học nhiên, tiếng Anh) 1 35,49 thang 40. Khi xét tuyển, Trường ĐH Bách khoa Hà Nội quy thang 30 xét. Đặc biệt, thủ khoa 3 tổ hợp kỳ thi đánh giá tư Đỗ Đức Tú - học sinh chuyên toán Trường THPT chuyên Bắc Giang - thi 3 tổ hợp là: K00 26,61, K01 27,37 K02 27,05. Ông Nguyễn Phong Điền, Phó Hiệu trưởng Trường ĐH Bách khoa Hà Nội xét phổ phù hợp đối kỳ thi tuyển sinh ĐH trường giữa, thể hiện chỗ đề thi phân hề dàng kết tổng 3 môn 15 điểm. Cả 3 nội dung thi (toán - đọc hiểu, tiếng Anh, khoa học nhiên) tương quan độ bao trùm kiến thức THPT. Theo Vũ Duy Hải, Phó Trưởng Phòng Tuyển sinh, Trường ĐH Bách khoa Hà Nội, phổ tổ hợp thi tiệm cận chuẩn, phân cao, mục tiêu đề kỳ thi đánh giá tư duy. Thí sinh thể lựa tổ hợp lợi đăng ký xét tuyển chương trình mong học. Phương Liên \n",
            "This is \"['Pháp luật']\" news, you predicted it is \"['Giáo dục']\" news\n",
            "------------------------------------------------------------\n",
            "------------------------------------------------------------\n",
            "Ngày 30/7, Trường Đại học Bách khoa Hà Nội tổ chức \"Lễ khánh thành Cựu sinh viên Đại học Bách khoa Hà Nội\" giới thiệu hình ảnh dự án xây dựng tòa Cựu sinh viên toàn sinh viên, cán bộ, cựu sinh viên doanh nghiệp, đối tác Nhà trường. Sự kiện hội chia sẻ thành tựu doanh nhân thầy trò Đại học Bách khoa, đồng thời thắt chặt kết nối hệ cựu sinh viên - sinh viên mái chung. \"Hiện nay, trường đại học mạng lưới cựu sinh viên, xây dựng tòa thể hiện quan tâm sâu sắc Đại học Bách khoa Hà Nội đối hệ sinh viên học tập Trường. Tòa biểu tượng trao quyền bối cảnh Đại học Bách khoa Hà Nội hướng chủ toàn diện, giúp hệ Đại học Bách khoa dàng kết nối, hỗ trợ đào tạo, nghiên cứu, khởi nghiệp hướng nghiệp sinh viên\", TS. Nguyễn Quân, Chủ tịch Mạng lưới Cựu sinh viên Bách khoa Hà Nội nhấn mạnh. Đây tòa Cựu sinh viên đầu tiên xây dựng trường đại học Việt Nam. Dự án Cựu sinh viên phê duyệt nhân dịp kỷ niệm 65 thành lập Trường. Với tổng kinh phí 3,6 tỷ đồng, đóng góp hệ cựu sinh viên thành đạt, dự án khởi công 1/2022 Dương Quốc Tuấn, thành viên Ban phối Mạng lưới Cựu sinh viên Đại học Bách khoa Hà Nội, Chủ tịch Tập đoàn Austdoor, trực tiếp hành thực hiện. Tòa Cựu sinh viên vị trí trung tâm Trường Đại học Bách khoa Hà Nội, nằm tuyến đường đôi nối Cổng mặt phố Trần Đại Nghĩa Cổng Parabol. Xếp cạnh Hồ Tiền Thư viện Tạ Quang Bửu, biểu tượng nổi bật Đại học Bách khoa Hà Nội, Cựu sinh viên 4 mặt tiền gian biệt thoáng mát. Không gian tầng giới thiệu, trưng bày, quảng bá thành tựu, sản phẩm công nghệ tổ chức kiện kỷ niệm đặc biệt hệ cựu sinh viên Bách khoa Hà Nội. Cafe Bách khoa Alumni văn phòng Mạng lưới Cựu sinh viên, quỹ đầu tư khởi nghiệp Bách khoa BK Fund chào đón hệ cựu sinh viên, cựu giáo chức trở mái chung. Tòa Cựu sinh viên gian xây dựng \"Vườn ươm khởi nghiệp Bách khoa\" hỗ trợ, ươm nhóm, doanh nghiệp khởi nghiệp. Đây địa chuyên gia, cựu sinh viên chia sẻ kinh nghiệm, hỗ trợ công tác tư vấn, đào nghiên cứu, khởi nghiệp sinh viên đam mê cộng đồng Đại học Bách khoa Hà Nội. Với tinh thần kết nối, lan tỏa, hỗ trợ nghiên cứu, khởi nghiệp, dự án Nhà Cựu sinh viên tập trung đẩy hoạt động xung quanh 4 lĩnh vực chính: Kết nối hợp tác doanh nhân, kết nối kỹ sư trẻ doanh nhân, hàng giải pháp nghiên cứu phát triển nghiên cứu, chia sẻ kinh nghiệm cựu sinh viên sinh viên Đại học Bách khoa Hà Nội. Đặc biệt, Đại học Bách khoa Hà Nội kết hợp doanh nghiệp cựu sinh viên hỗ trợ địa thực tập kỳ sinh viên học chương trình đào kỹ sư chuyên sâu đặc thù tổng khối 180 tín chỉ. Bằng kỹ sư chuyên sâu đặc thù trình độ bậc 7, tương đương thạc sĩ, xây dựng dựa kế thừa ưu chương trình kỹ sư truyền thống nâng chất đảm thực tiễn hiện đại chuẩn mực quốc tế. Hiệu trưởng Nhà trường, PGS.TS Huỳnh Quyết Thắng khẳng định, hệ sinh viên Bách khoa Đại học Bách khoa Hà Nội biệt, \"Đại học Bách khoa Hà Nội đi đầu hệ thống giáo dục đại học Việt Nam. Chúng ta hào truyền thống Trường, phẩm chất Bách Khoa - hệ giảng viên, cựu sinh viên, sinh viên nay: mộc mạc, giản dị, chân thành, tôn trọng cá nhân, đoàn kết, tinh thần tận tâm, tận lực, khát vọng tòi, đổi mới, đột phá\". Mạng lưới Cựu sinh viên Đại học Bách khoa Hà Nội thức mắt nhân dịp Lễ kỷ niệm 59 thành lập Trường mong kết nối hệ sinh viên chia sẻ, hợp tác hỗ trợ phát triển, phát huy giá trị truyền thống thương hiệu Đại học Bách khoa Hà Nội. Từ thành lập 1956, Trường Đại học Bách khoa Hà Nội vững vị trường đại học kỹ thuật hàng đầu Việt Nam. Trong xu hội nhập quốc tế, Bách khoa Hà Nội nâng uy tín chất đào năng lực nghiên cứu khoa học, hướng chủ toàn diện, trở thành đại học nghiên cứu đổi đa lĩnh vực nòng cốt kỹ thuật công nghệ, vị khu vực giới. Phương Liên\n",
            "This is \"['Pháp luật']\" news, you predicted it is \"['Giáo dục']\" news\n",
            "------------------------------------------------------------\n",
            "------------------------------------------------------------\n",
            "Sáng 2-8, Sở Lao động - Thương binh Xã hội (LĐ-TB-XH) tỉnh Quảng Bình, tiến hành lập biên vi phạm xử phạt hành đối Hội đồng hệ thống giáo dục Chu Văn An (gọi tắt Trường Chu Văn An đóng TP Đồng Hới) tra sở xác định vi phạm vụ giáo viên \"tố\" trường kiện tréo ngoe, trái quy định thân giáo viên thiệt thòi. Theo đó, sai phạm trường Chu Văn An tra xác định rõ, gồm: buộc giáo viên báo 5 nghỉ việc, văn gốc giáo viên trái quy định buộc giáo viên đền 12 lương toàn tiền bảo hiểm trường đóng giáo viên thời gian trường. Theo Sở LĐ-TB-XH tỉnh Quảng Bình, sở công bố vô hiệu đối khoản hợp đồng lao động trường ký giáo viên trái quy định pháp luật. Kết luận đoàn thành tra buộc trường quy định báo 5 nghỉ việc, văn gốc thu giáo viên, toàn tiền phạt lương tiền đền bảo hiểm thu giáo viên nghỉ báo thời hạn hợp đồng. Lãnh đạo Sở LĐ-TB-XH tỉnh xác đơn khiếu nại giáo viên, tiếp tục trường Chu Văn An giải quyết quy định pháp luật.\n",
            "This is \"['Giáo dục']\" news, you predicted it is \"['Pháp luật']\" news\n",
            "------------------------------------------------------------\n",
            "------------------------------------------------------------\n",
            "Theo Đại tá Nguyễn Ngọc Cương, Phó Cục trưởng Cục An ninh mạng phòng, chống tội phạm sử dụng công nghệ (Bộ Công an), Việt Nam đối mặt thách thức gian mạng bối cảnh đổi đẩy kinh tế phát triển xuất hiện hình thức kinh doanh xuyên quốc gia Internet. Theo ghi Cục An ninh mạng phòng, chống tội phạm sử dụng công nghệ cao, 6 đầu 2022, Bộ Công an phát hiện xử lý 840 chuyên án, vụ liên quan lừa đảo, chiếm đoạt tài sản mạng. “Các vụ 42% 6 2021. Đây báo động”, Cương cảnh báo. Cung thông tin, Lê Quang Hà, Phó Giám đốc Công ty An ninh mạng Viettel định tranh an ninh mạng Việt Nam phức tạp công hầu lĩnh vực. Ghi hệ thống phân tích chia sẻ nguy Công ty An ninh mạng Viettel 2021 công Phishing Việt Nam gấp 3 2020 6.000 website giả mạo, lừa đảo. Hacker sử dụng phương thức, chí công cụ đặc thù phát tán nhắn giả, lừa đảo dùng. Các công APT nhắm hạ tầng lĩnh vực ngân hàng tài chính, giáo dục, giao thông vận tải... Trong công mã độc lây lan mã độc Việt Nam hiện phức tạp. Ông Hà đánh giá, nguyên nhân hệ thống doanh nghiệp xuất hiện yếu thói quen sử dụng Internet an toàn dùng. Một tình trạng vụ lộ lọt liệu tổ chức, doanh nghiệp Việt Nam. Theo đó, Hà 35 vụ lộ lọt rao liệu tổ chức lĩnh vực công ty công nghệ, giáo dục, lẻ, tài chính. Lãnh đạo Cục An ninh mạng phòng, chống tội phạm sử dụng công nghệ (Bộ Công an) dự báo tình hình an ninh mạng 6 2022 đầu 2023 chiều hướng gia tập trung 7 xu hướng. Cụ thể, tặc gia công chủ đích, chiếm quyền khiển hệ thống thông trọng yếu. Mục tiêu công hacker hệ thống thông trọng yếu đánh cắp thông cá nhân, hàng chiếm đoạt thông quan trọng quan, tổ chức Nhà doanh nghiệp. Hoạt động phát tán thông xấu độc thông sai tiếp tục gia tăng. Xu hướng đòi nâng cảnh giác, thận trọng tiếp cận thông gian mạng. Đáng ý, hoạt động lừa đảo, chiếm đoạt tài sản tội phạm mạng diễn biến phức tạp hình thức tinh vi hơn, chất xuyên quốc gia. Các phương thức tội phạm sử dụng nhắn tin, gọi điện lừa đảo; giả mạo quan thực thi pháp luật (công an, tòa án), doanh nghiệp; lừa đảo thông hoạt động TMĐT; lừa đảo thông hình thức kinh doanh đa cấp, sàn giao dịch ảo, chứng khoán lôi kéo giao dịch chiếm đoạt quyền đầu tư... Đối lừa đảo mạng hình thức công, chiếm quyền khiển tài khoản mạng xã hội trở phổ biến phương thức tinh vi. Tình trạng mua liệu gia diễn biến phức tạp tình trạng lừa đảo gian mạng gia tăng. Các hoạt động tổ chức đánh bạc, đánh bạc gian mạng xuất hiện liên tục. Một xu hướng nở rộ hiện hoạt động vay tín dụng đen mạng lãi suất thu bất tiềm ẩn nguy cơ. Theo thống kê Bộ Công an, hiện tồn 200 ứng dụng vay trực tuyến Việt Nam. Các hoạt động vi phạm pháp luật Thương mại điện tử (TMĐT) 2 liên tục gia hoạt động mua/bán sàn TMĐT trở phổ biến hơn. Các đối tượng sử dụng mạng xã hội, sàn TMĐT rao hàng giả, hàng nhái, vũ khí trái phép.... xúc xã hội. Sự bùng nổ thiết AI, IoT,... đe dọa an ninh mạng, trật xã hội hiện truy cập. Theo định, đe dọa IoT vấn đề hiện giải pháp tổng thể đảm bảo an toàn, an ninh mạng thiết này. Trước tình trạng trên, vụ lộ lọt thông nhạy cảm phát tán mạng thời gian qua, chủ quan, thức bảo mật.\n",
            "This is \"['Giáo dục']\" news, you predicted it is \"['Pháp luật']\" news\n",
            "------------------------------------------------------------\n",
            "------------------------------------------------------------\n",
            "Trong đó, Viettel đầu vị trí trạm thu phát sóng 5G (gấp 2 mạng đứng 2) nước, tiếp mạng VNPT-VinaPhone, MobiFone. Trong nay, Bộ TT&TT khuyến khích doanh nghiệp tiếp tục rộng phạm vi, quy mô thử nghiệm 5G tỉnh, thành phố toàn quốc phù hợp kế hoạch phát triển 5G mạng. Cùng đó, mạng đẩy tiến độ phủ lõm sóng băng rộng di động (3G, 4G, 5G). Tính 4-7, doanh nghiệp triển khai đồng trạm giai đoạn lắp hạ tầng truyền dẫn, dự kiến 30-7 phủ sóng toàn 355 thôn lại. Bộ TT&TT cũng biết, tỷ lệ hộ gia đình sử dụng cáp quang ước chiếm 72%, 9% kỳ 2021; mục tiêu 75% tỷ lệ hộ gia đình sử dụng cáp quang 2022 kế hoạch. Số thuê bao băng rộng cố định ước 20,5 triệu thuê bao (tương ứng tỷ lệ 21 thuê bao/100 dân), 14% kỳ ngoái; mục tiêu 12-2022 22 thuê bao/100 dân. Số thuê bao băng rộng di động (3G, 4G, 5G) 82 triệu thuê bao (tương ứng tỷ lệ 83 thuê bao/100 dân), 20% kỳ; mục tiêu 12-2022 85 thuê bao/100 dân. Theo dự thảo báo cáo tóm tắt kết hoạt động ngành TT&TT 6 đầu Bộ TT&TT, doanh thu công nghiệp công nghệ thông ước 72,5 tỷ USD trưởng 17,8% kỳ. Kim ngạch xuất khẩu cứng - điện tử ước 57 tỷ USD (tăng 16,4% kỳ), xuất khẩu máy ước 29,1 tỷ USD (tăng 21,8%) xuất khẩu điện thoại ước 27,9 tỷ USD (tăng 11,2% kỳ). Đặc biệt, cấu doanh thu công nghiệp công nghệ thông 6 qua, tỷ lệ giá trị Make in VietNam 26,7% giá trị ước 19,4 tỷ USD. Trong dự thảo báo cáo, Bộ TT&TT biết, doanh nghiệp công nghệ Việt Nam ước 67.300, 3.422 doanh nghiệp 12-2021, tỷ lệ xấp xỉ 0,69 doanh nghiệp/1.000 dân (bằng 98% kế hoạch 0,7 doanh nghiệp/1.000 dân). Như vậy, đây, doanh nghiệp công nghệ Việt Nam liên tục trưởng, 45.600 doanh nghiệp 2019 58.000 2020 64.000 doanh nghiệp 2021. Mục tiêu kế hoạch 2022 Việt Nam 70.000 doanh nghiệp. Còn Chiến lược phát triển công nghiệp công nghệ Việt Nam 2025, định hướng 2030, mục tiêu 2025 phát triển 80.000 doanh nghiệp công nghệ số. Tuy nhiên, phát triển doanh nghiệp công nghệ Việt Nam địa phương đồng đều. Số doanh nghiệp công nghệ tập trung chủ yếu 4 địa phương tỷ lệ doanh nghiệp công nghệ số/1.000 như: TP Hồ Chí Minh (3,19), Hà Nội (2,29), Đà Nẵng (2,24) Bắc Ninh (1,02). Tổng doanh nghiệp công nghệ 4 tỉnh, thành phố chiếm 72% tổng doanh nghiệp công nghệ nước. Trong đó, tỉnh, thành tỷ lệ thấp, tỷ lệ doanh nghiệp công nghệ số/1.000 dân 0,07 tỷ lệ trung bình (0,677) đáp ứng nhu cầu đổi số, phát triển kinh tế xã hội địa phương. VĂN PHONG\n",
            "This is \"['Giáo dục']\" news, you predicted it is \"['Pháp luật']\" news\n",
            "------------------------------------------------------------\n",
            "------------------------------------------------------------\n",
            "Chiều 27/7, Hòa Lạc, Đại học Quốc gia Hà Nội (ĐHQGHN) tổ chức Lễ tuyên dương trao thưởng học sinh Trường THPT chuyên Khoa học Tự nhiên, Trường ĐH Khoa học Tự nhiên, ĐHQGHN đoạt huy chương Vàng kỳ thi Olympic quốc tế 2022. Tại lễ, Giám đốc ĐHQGHN Lê Quân trao Thư khen Chủ tịch Nguyễn Xuân Phúc Trường THPT chuyên Khoa học Tự nhiên. Ngày 21/7, Chủ tịch Nguyễn Xuân Phúc gửi Thư khen Trường THPT Chuyên Khoa học Tự nhiên, ĐHQGHN học sinh Việt Nam giành huy chương kỳ thi Olympic quốc tế 2022. Chủ tịch nhấn mạnh, thành tích học sinh niềm hào ngành giáo dục dân tộc; học sinh Trường THPT chuyên Khoa học Tự nhiên thể hiện lĩnh, trí tuệ Việt Nam bè quốc tế. Cũng lễ, lãnh đạo ĐHQGHN trao Bằng khen Giám đốc ĐHQGHN 6 học sinh Huy chương Vàng kỳ thi Olympic quốc tế, kèm thưởng 15 triệu đồng/học sinh; khen thưởng 3 tập thể giáo viên hướng môn Trường THPT chuyên Khoa học Tự nhiên thành tích bồi dưỡng học sinh huy chương kỳ thi Olympic 2022, thưởng 5 triệu đồng/tập thể trao Bằng khen Giám đốc ĐHQGHN 21 giáo thành tích xuất sắc đào học sinh giỏi tham gia đội tuyển quốc tế, khu vực. Phó Hiệu trưởng Trường THPT chuyên Khoa học Tự nhiên Phạm Văn Quốc biết, 7/2022, Trường THPT chuyên Khoa học Tự nhiên 273 Huy chương Olympic quốc tế khu vực môn Toán học, Tin học, Hóa học, Vật lý Sinh học. Trong đó, 68 huy chương Vàng, 80 huy chương Bạc 71 huy chương Đồng kỳ Olympic quốc tế. Đặc biệt, 2022 \"bội thu\" Nhà trường 6 học sinh tham gia đội tuyển Olympic quốc tế đoạt Huy chương Vàng. Tại Olympic Toán học quốc tế 2022, Ngô Quý Đăng, học sinh lớp 12 Trường THPT chuyên Khoa học Tự nhiên thí sinh thành tích đặc biệt xuất sắc đoàn Việt Nam tuyệt đối 42/42. Đây thành tích 19 lặp lại, Việt Nam thí sinh tuyệt đối IMO 2003. Phát biểu Lễ tuyên dương trao thưởng, Giám đốc ĐHQGHN Lê Quân ghi đánh giá thành tập thể giáo viên học sinh Trường THPT chuyên Khoa học Tự nhiên học sinh Trường THPT chuyên ĐHQGHN chung. Giám đốc ĐHQGHN khẳng định, sứ mệnh đào nhân lực chất cao, phát hiện bồi dưỡng nhân tài đất nước, qua, ĐHQGHN thể hiện vị nòng cốt, đầu tàu hệ thống giáo dục đào tạo, đóng góp đối nghiệp giáo dục đào đất nước. Trong nghiệp ấy, đóng góp Trường THPT chuyên Khoa học Tự nhiên, Trường ĐH Khoa học Tự nhiên. Là ươm mầm tài năng, đào tinh hoa đất nước, Trường THPT chuyên Khoa học Tự nhiên trở thành mô hình tiêu biểu hệ thống đào tài năng nước. Từ mái trường này, học sinh trở thành khoa học, lãnh đạo, quản lý, chuyên gia giỏi lĩnh vực, đóng góp to nghiệp xây dựng phát triển đất nước, cựu học sinh chuyên trở thành khoa học như: GS. Ngô Bảo Châu, GS. Đàm Thanh Sơn… Giám đốc ĐHQGHN Lê Quân biết, thời gian qua, ĐHQGHN ban hành sách đặc thù trường chuyên như: Xét tuyển học sinh chuyên ĐHQGHN học sinh xuất sắc trường chuyên thẳng bậc đại học trường đại học thành viên, khoa trực ĐHQGHN, phép học sinh trường chuyên ĐHQGHN học tích lũy tín bậc đại học… Đặc biệt, ĐHQGHN ban hành sách học bổng nghiên cứu sinh hỗ trợ học bổng 100 triệu/năm chương trình học bổng 18 ngành khoa học lĩnh vực Khoa học Tự nhiên Khoa học Xã hội đầu tiên triển khai thí ĐHQGHN. Giám đốc Lê Quân tưởng rằng, học sinh giỏi, đặc biệt học sinh huy chương kỳ thi Olympic quốc tế, ứng viên đầu tiên xứng suất học bổng nghĩa này. Tại lễ, Hiệu trưởng Trường ĐH Khoa học Tự nhiên Vũ Hoàng Linh bày tỏ niềm vui hào đối thành tích Trường THPT chuyên Khoa học Tự nhiên. Hiệu trưởng Vũ Hoàng Linh khẳng định, kết đặc biệt đào bồi dưỡng nhân tài Trường THPT chuyên Khoa học Tự nhiên thành công đặc biệt hiệu mô hình đào phổ thông năng khiếu ĐHQGHN. Hiệu trưởng Trường ĐH Khoa học Tự nhiên cam kết Nhà trường kiện thầy trò Trường THPT chuyên Khoa học Tự nhiên công tác bồi dưỡng học sinh giỏi thời gian tới. Hiệu trưởng Vũ Hoàng Linh bày tỏ hi vọng, học sinh Trường THPT chuyên Khoa học Tự nhiên học sinh trường THPT ĐHQGHN tiếp tục trau dồi kiến thức, kỹ năng trang hành trang trở thành nhân tố hệ sinh thái quốc gia khởi nghiệp tương lai. Hiệu trưởng Trường THPT chuyên Khoa học Tự nhiên Lê Công Lợi rằng, thành tích vẻ vang Nhà trường đồng hành ủng hộ lãnh đạo ĐHQGHN, lãnh đạo Trường ĐH Khoa học Tự nhiên, bậc phụ huynh học sinh đặc biệt sách hỗ trợ Đảng, Nhà ĐHQGHN trường chuyên. Thầy trò Nhà trường chủ động dạy học kiến thức khoa học chuyên sâu tri thức khoa học tinh hoa nhân loại, sinh viên xuất sắc chương trình khoa học tài năng trường đại học nước. Thành tích thầy trò Nhà trường kỳ thi Olympic quốc tế đấu trường đỉnh khẳng định năng lực trí tuệ học sinh Việt Nam bè giới. Hiệu trưởng Lê Công Lợi chia sẻ, trình tuyển đầu chặt chẽ khắt khe, trình đào bản, học sinh trường chuyên rèn luyện tích cực tư duy, phương pháp kỹ năng, nâng kiến thức. Đến nay, Trường THPT chuyên Khoa học Tự nhiên đơn vị giàu thành tích đào học sinh khối chuyên khoa học nhiên, dần khẳng định vị trường THPT danh tiếng khu vực giới. Học sinh Ngô Quý Đăng thành tích Huy chương Vàng Olympic Toán quốc tế tuyệt đối 42/42 biết, học sinh Trường THPT chuyên Khoa học Tự nhiên thức học tập, nỗ lực, phấn đấu giành thành tích kỳ thi quốc gia, khu vực quốc tế. Ngô Quý Đăng biết, thành tích đóng góp thầy giáo thành tích món quà tri ân học sinh Trường THPT chuyên Khoa học Tự nhiên thầy giáo hướng dẫn, dìu dắt đường tri thức. Đại diện phụ huynh học sinh, Đỗ Mai Hòa, phụ huynh học sinh Võ Hoàng Hải, học sinh lớp 10 đầu tiên Việt Nam giành huy chương Vàng Olympic Vật lý quốc tế, chia sẻ, thành tích học sinh Trường THPT chuyên Khoa học Tự nhiên hào. Phụ huynh Đỗ Mai Hòa bày tỏ niềm tri ân thầy giáo - \"người lái đò\" thầm lặng dòng sông tri thức. Phụ huynh học sinh Võ Hoàng Hải gửi gắm học sinh tiếp tục nỗ lực cố gắng, ngủ quên chiến thắng, thể thành tích thời gian tới. Với thành tích được, Trường THPT chuyên Khoa học Tự nhiên vinh dự Đảng Nhà trao tặng danh hiệu Anh hùng lao động thời kỳ đổi (năm 2020), Khối chuyên Sinh tặng thưởng Huân chương Lao động hạng Ba (năm 2018), Khối chuyên Hóa đón Huân chương Lao động hạng Nhì (năm 2017), Khối chuyên Toán - Tin tặng thưởng Huân chương Độc lập hạng Nhì (năm 2015) danh hiệu Anh hùng Lao động (năm 2005), Khối chuyên Lý đón Huân chương Lao động hạng Nhì (năm 2017). Năm học 2022-2023, ĐHQGHN triển khai thí chương trình học bổng sinh viên ngành khoa học Trường ĐH Khoa học Tự nhiên Trường ĐH Khoa học Xã hội Nhân văn, bao gồm: Miễn học phí, miễn phí chỗ nội trú, ưu tiên tham gia nghiên cứu khoa học chương trình ươm khoa học, ưu tiên xét học bổng hỗ trợ sinh hoạt phí 20 triệu đồng/năm học. Như vậy, chương trình học bổng ngành khoa học ĐHQGHN chế giúp học sinh thành tích xuất sắc học ngành học yêu đi kèm sách học bổng hấp dẫn, khích lệ học tập, động lực trở thành sinh viên giỏi, đồng thời nhân lực bậc học nhân lực khoa học tương lai. Mới nhất, ĐHQGHN Công ty Cổ Đầu tư IMG ký thỏa thuận tài trợ học bổng IMG nghiệp giáo dục giảng viên sinh viên xuất sắc học tập nghiên cứu khoa học. Theo đó, cấu giải thưởng bao 1 giải 1 giải nhì giảng viên xuất sắc nhất, 1 giải 1 giải nhì sinh viên tài năng nhất, trị giá 300 triệu giảng viên xuất sắc nhất, 100 triệu giảng viên đứng hai; 150 triệu sinh viên xuất sắc 50 triệu sinh viên đứng hai. Phương Liên\n",
            "This is \"['Pháp luật']\" news, you predicted it is \"['Giáo dục']\" news\n",
            "------------------------------------------------------------\n",
            "------------------------------------------------------------\n",
            "Kỷ lục ghi 2021, diện tích rừng Amazon phá 6 đầu 3.605km2. Tính đầu 2022 nay, 7.500 vụ cháy rừng ghi Amazon, 17% kỳ 2021 liệu tồi tệ ghi 2010. Các vệ tinh INPE xác định 2.500 vụ cháy rừng xảy Amazon 6-2022, 6-2007 - 3.500 vụ cháy rừng xảy ra, 11% 6-2021. Các chuyên gia môi trường rằng, Chính phủ Brazil hành động mẽ bảo vệ rừng Amazon, thông hạn chế sách khuyến khích khai thác mỏ chăn nuôi khu vực bảo vệ, đẩy ngăn chặn hành động khai thác vàng trái phép buôn lậu gỗ.\n",
            "This is \"['Giáo dục']\" news, you predicted it is \"['Pháp luật']\" news\n",
            "------------------------------------------------------------\n",
            "------------------------------------------------------------\n",
            "Ông Thái lương thưởng NXB Giáo dục Việt Nam báo cáo thực trạng quản trị cấu tổ chức 2021 công khai website NXB Giáo dục hôm 30/6. Trong đó, Hoàng Lê Bách, Tổng giám đốc thu nhập 600 triệu đồng/ năm; phó tổng giám đốc Lê Hoàng Hải, Phùng Ngọc Hồng, Nguyễn Chí Bình thu nhập 550 triệu đồng/năm. Hôm (5/7), Bộ trưởng Bộ GD-ĐT Nguyễn Kim Sơn kí quyết định thi hành kỷ luật hình thức cảnh cáo Nguyễn Đức Thái. Ông Thái kỉ luật khuyết điểm, vi phạm sách pháp luật Nhà đạo sản xuất, kinh doanh, biên soạn, in ấn, kê khai, phát hành sách giáo khoa mới. Đồng thời, trách nhiệm lãnh đạo, đạo Đảng ủy, Ủy ban Kiểm tra Đảng ủy kiểm tra, giám sát tổ chức thực hiện nghị quyết, kịp thời phát hiện nghị quyết ban hành trái pháp luật Nhà nước.\n",
            "This is \"['Giáo dục']\" news, you predicted it is \"['Pháp luật']\" news\n",
            "------------------------------------------------------------\n",
            "------------------------------------------------------------\n",
            "Trong thời gian qua, ủy đảng, quyền tập trung đạo sát công tác tiêm vaccine phòng COVID-19. Đến nay, Việt Nam kết tích cực 240 triệu liều vaccine tiêm tỷ lệ bao phủ mũi 1, mũi 2 đối tượng 12 trở cao, nhân dân quốc tế ghi nhận, đánh giá cao. Kết tiêm vaccine góp quan trọng kiểm soát dịch bệnh phạm vi toàn quốc, thiểu tình trạng bệnh nặng, nhập viện tử vong, kiện phục hồi phát triển kinh tế - xã hội. Tuy nhiên, hiện xuất hiện tâm lý chủ quan, lơ địa phương, quan, đơn vị; địa phương, Ban Chỉ đạo chống dịch COVID-19, quyền quyết liệt tiến độ tiêm chủng đạo Chính phủ, Thủ tướng phủ. Trên giới, dịch bệnh diễn biến phức tạp, lường bùng phát trở quốc gia. Việt Nam tiếp tục ghi biến thể BA.4 BA.5 dịch bệnh nguy gia bùng phát trở lại. Tiêm vaccine biện pháp hiệu nhất, nghĩa chiến lược phòng, chống dịch bệnh. Để bảo vệ trì bền vững thành phòng chống dịch thời gian qua, kiện tập trung phát triển kinh tế - xã hội, Thủ tướng Chính phủ yêu cầu: 1. Bộ Y tế a) Tiếp tục bảo đảm cung ứng, phân bổ đủ, phù hợp, kịp thời vaccine phòng COVID-19 nhu cầu địa phương, tình trạng vaccine. Đôn đốc, hỗ trợ, hướng kiểm tra tổ chức tiêm vaccine phòng COVID-19 địa phương. b) Xây dựng chiến lược truyền thông tiêm chủng vaccine phòng COVID-19 trọng điểm, chứng khoa học, tập trung tiêm vaccine trẻ 5 12 tuổi, đối tượng nguy cao. Tiếp tục phối hợp quan truyền thông, báo chí cung thông đủ, quan, khoa học, hình thức đa dạng, tiếp thu lợi ích, hiệu vaccine, ngăn ngừa nặng, tử vong mắc COVID-19 dân nâng thức chủ động tích cực tiêm vaccine phòng COVID-19. c) Phối hợp chặt chẽ Bộ Giáo dục Đào tạo, Ủy ban nhân dân tỉnh, thành phố trực Trung ương tuyên truyền phụ huynh, học sinh lợi ích vaccine phòng COVID-19 đồng thuận công tác tiêm chủng trẻ em, trẻ 5 12 đảm bảo kiện an toàn học sinh trường học mới. d) Tiếp tục nghiên cứu, đánh giá dõi hiệu vaccine phòng COVID-19 thông khoa học, xác cung dân; đẩy hộ chiếu vaccine dân. 2. Ban Chỉ đạo phòng, chống dịch COVID-19, Chủ tịch Ủy ban nhân dân tỉnh, thành phố trực Trung ương trực tiếp đạo trách nhiệm Chính phủ, Thủ tướng Chính phủ kết tiêm vaccine địa bàn, khẩn trương đạo thực hiện nghiêm nhiệm vụ đây: a) Tiếp tục quán triệt thực hiện nghiêm đạo Chính phủ, Thủ tướng Chính phủ công tác phòng chống dịch COVID-19. Triển khai quyết liệt giải pháp đẩy công tác tiêm chủng đảm bảo sót đối tượng tiêm chủng, tỷ lệ bao phủ vaccine dân. b) Phát động chiến dịch tiêm chủng: tốc độ tiêm chủng trẻ 5 12 đảm bảo hoàn thành 8 2022; hoàn thành tiêm mũi 3, mũi 4 dân 18 trở đẩy tiêm mũi 3 12 18 hướng Bộ Y tế; trọng hoàn thành tiêm vaccine lực y tế, công an, quân đội, giáo viên, lĩnh vực giao thông vận tải, cung dịch vụ thiết yếu, sở dịch vụ du lịch, trung tâm thương mại, siêu thị, chợ, doanh nghiệp, khu công nghiệp; giao tiêu tiến độ thực hiện tận xã. c) Đẩy công tác thông truyền thông tiêm vaccine, lợi ích, hiệu vaccine. Cảnh báo biến thể Omicron hướng dân chăm sóc sức khỏe nhiễm COVID-19; tập trung truyền thông tiêm chủng đối tượng nguy cao, bệnh lý (bao trẻ em), lựa vaccine, sống khu vực tỷ lệ bao phủ vaccine thấp; xây dựng nội dung truyền thông trước, chiến dịch tiêm chủng; tổ chức đội tuyên truyền, vận động tiêm vaccine địa bàn dân cư. Công khai tiêm chủng địa bàn (địa chỉ, phụ trách, thông liên hệ) thông dân dân đi tiêm chủng kịp thời. d) Tăng cường kiểm tra, giám sát, đôn đốc triển khai tiêm chủng địa bàn, tình trạng vaccine sử dụng kịp thời, lãng phí. Lãnh đạo ủy, quyền địa phương trách nhiệm lãnh đạo kết tiêm vaccine địa bàn. 3. Bộ Giáo dục Đào a) Khẩn trương rà soát, lập danh sách học sinh độ tiêm chủng 5 18 tiêm chủng tiêm chủng đủ; chuẩn sở vật chất, nhân lực, thông báo phối hợp sở tiêm chủng địa phương tổ chức tiêm chủng trường học địa phù hợp khác, bảo đảm an toàn. b) Tăng cường công tác tuyên truyền, mời chuyên gia, tư vấn chuyên môn tư vấn mẹ giám hộ hợp pháp học sinh tác dụng, lợi ích tiêm chủng, phản ứng thể tiêm chủng trách nhiệm bảo đảm quyền tiêm chủng trẻ đồng thuận, vận động phụ huynh, chăm sóc trẻ đi tiêm chủng phòng dịch COVID-19 đủ, kịp thời; đặc biệt quan tâm mắc bệnh lý nền, béo phì... phối hợp ngành Y tế thực hiện phương án tiêm chủng bảo đảm an toàn trẻ em, học sinh. 4. Các Bộ, ngành, quan liên quan, Bộ: Công an, Quốc phòng, Giáo dục Đào tạo, Công Thương, Lao động - Thương binh Xã hội, Kế hoạch Đầu tư, Văn hóa, Thể thao Du lịch, Giao thông vận tải thực hiện quán triệt đạo đẩy tiêm vaccine cán bộ, chiến sĩ, quân nhân, công chức, viên chức, lao động, học sinh, sinh viên toàn ngành đảm bảo hoàn thành tiêm đối tượng hướng Bộ Y tế. 5. Bộ Thông Truyền thông chủ trì phối hợp Ban Tuyên giáo Trung ương đạo quan báo chí, truyền thông hệ thống thông sở chủ động phối hợp ngành y tế tích cực thông tin, tuyên truyền hiệu lợi ích tiêm vaccine khuyến khích hướng dân tích cực tham gia tiêm vaccine bảo vệ thân cộng đồng; đạo doanh nghiệp viễn thông di động tổ chức nhắn tuyên truyền tần suất thời phù hợp, nội dung nhắn Bộ Y tế đề xuất; đấu tranh, phản quan sai trái, thù địch, thông xấu độc xuyên tạc sách Đảng, Nhà ta tiêm vaccine phòng COVID-19 công tác phòng chống dịch COVID-19. 6. Đài Truyền hình Việt Nam, Đài Tiếng Việt Nam tiếp tục tổ chức chuyên mục tình hình dịch bệnh vaccine khung phù hợp dân tiếp cận thông lợi ích, hiệu tiêm vaccine. 7. Đề nghị Ủy ban Trung ương Mặt trận Tổ quốc Việt Nam, quan Trung ương đoàn thể tích cực phối hợp quan Nhà liên quan, chủ động, tích cực tuyên truyền, vận động đoàn viên, hội viên nhân dân tham gia tiêm vaccine đủ, lịch, tiêm mũi 3, mũi 4 tiêm trẻ lợi ích thân, cộng đồng nguy bùng phát dịch trở lại. Mặt trận Tổ quốc Việt Nam đạo tổ chức giám sát công tác tiêm vaccine. 8. Đề nghị Trung ương Đoàn Thanh niên Cộng sản Hồ Chí Minh tiếp tục đạo Đoàn, Hội, quan báo chí trực đẩy tuyên truyền, phát huy vai trò lực đoàn viên, niên, học sinh, sinh viên tích cực tiêm vaccine; tổ chức đội hình tình nguyện tham gia hỗ trợ lực chức năng tiêm vaccine dân. 9. Đề nghị Hội Chữ thập đỏ Việt Nam đạo hệ thống ngành dọc tiếp tục tuyên truyền vận động cán bộ, hội viên, tình nguyện viên tham gia tiêm vaccine phòng COVID-19 hướng ngành y tế vận động dân tiêm vaccine; hỗ trợ hậu cần, truyền thông tiêm vaccine./.\n",
            "This is \"['Pháp luật']\" news, you predicted it is \"['Giáo dục']\" news\n",
            "------------------------------------------------------------\n",
            "------------------------------------------------------------\n",
            "\"Ngoại trừ 'lông bông' suốt, hoàn toàn ổn freelancer. Đến giờ, rời môi trường công sở 2 định trở cố định\", Nguyễn Hà (24 tuổi, Hà Nội) chia sẻ Zing. Thời trường, Nguyễn Hà công ty truyền thông. Ngày ngày, dậy chuẩn đi làm, trạng thái chán nản cảnh chục số, trải kẹt xe, khói bụi công ty. Chưa kể, truyền thông, ưa tạo, đổi mới, Hà cảm gò bó 9-10 tiếng giải quyết công lặp đi lặp lại, lương loanh quanh 6-7 triệu đồng. \"Mình khéo léo tiết quan hệ phức tạp công ty. Thời gian dịch bùng phát, chế sách công ty đáp ứng nhu cầu mình\", Nguyễn Hà chia sẻ. Cũng tình trạng Hà, Nguyễn Mai (23 tuổi, nhân viên marketing nhãn hàng thời trang Hà Nội) cảm hòa nhập hoàn toàn môi trường công sở đi thức năm. Công ty 7h30. Mỗi ngày, Mai vội vã rời giường 6h kịp chuẩn đồ bữa đồ trưa chỗ làm. Nếu đêm hôm trước, kịp deadline, nghiễm nhiên, trưa hôm sau, cơm dậy muộn, kịp nấu. Mặc đánh giá thân áp lực, Mai 4 nay, xuyên rơi trạng thái stress, bí bách chán nản đi làm. Bên cạnh đó, tân cử nhân đau đầu bất đồng sếp, đồng nghiệp. \"Mình chán nản sắc mặt rồi\", Mai khẳng định. Bí bách môi trường công sở, Nguyễn Hà Nguyễn Mai lựa hướng đi khác. Hà freelancer lĩnh vực truyền thông hồi học 3 đại học. Cô công gò bó văn phòng thu nhập thể hơn. Vì vậy, quyết định nghỉ 3 tháng. Hà công văn phòng mặt lợi phù hợp công freelance hơn. Cô khẳng định freelancer chủ thân mình. Đương nhiên, đáp ứng yêu cầu hàng song thoải mái mặt giấc, chủ động xếp công việc. Nếu đây, dậy 6h đi làm, hiện tại, thể thức dậy 8h. Bù lại, hôm, 3-4h gái trẻ thân hiệu ban đêm. Đây lý cảm hợp ban công ty. Chưa kể, tùy địa việc, quán cà phê bất thích. Nguyễn Hà thời gian thân gia đình, thoải mái tham gia hoạt động xã hội ngoài. Hà xác định freelancer, thu nhập ổn định văn phòng. Cô thể trường hợp hàng \"bùng tiền\". Nhưng xét trung bình, tháng, thu nhập lương công ty. \"Mình nghỉ văn phòng freelancer 2020 nay, thu nhập 15-20 triệu đồng/tháng. Nếu công suất, thể kiếm 25 triệu đồng\", Hà chia sẻ. Hiện tại, rưỡi nghỉ việc, Hà định trở cố định. Các mặt phúc lợi bảo hiểm xã hội quan trọng thu nhập hiện tại, thể chi khoản đó. Còn phát triển thân thăng tiến, định hướng mình. Tuy nhiên, thể chủ động công freelance, Hà định thân cố gắng nhiều, \"việc nhẹ lương cao\". \"Việc nhẹ, lương lương cao, nhẹ. Làm freelancer, thể chủ động thu nhập tùy khăn thể kiếm tiền\", Hà khẳng định. Hà kiến thức kỹ năng giỏi, nghề thể kiếm chục trăm triệu đồng. Nhưng cạnh đó, freelancer thuê, thu nhập. Đặc biệt, sinh viên trường, suy đơn giản, kinh nghiệm xuất sắc cạnh tranh. Theo Hà, công này, chuyên môn, freelancer giỏi hàng thu nhập ổn định. \"Nhưng ràng, hàng, thuyết phục khách, hợp đồng sản phẩm, sản phẩm đôi đòi tiền hợp đồng làm. Trong đó, công ty, vị trí hộ công đó\", Hà định. Bên cạnh đó, mặc ràng buộc nghĩa vụ, chế độ quy định công ty, tổ chức, freelancer tuân thủ quy tắc ngầm thân đối tác, hàng. Hà chia sẻ công về, áp lực hàng, công ty đối tác. Và mình, chạy deadline căng thẳng công ty. Nếu quản lý tốt, chắn, chơi. Trong đó, chán nản công văn phòng, Nguyễn Mai phân vân lựa nghỉ freelancer hoàn toàn không. Hiện tại, công freelance song song đi công ty. Thu nhập công hề thua kém lương văn phòng. Tuy nhiên, chán nản, công văn phòng freelancer hoàn toàn, thể tốt. \"Nếu quản lý thân tốt, thân quy củ. Chưa kể, công văn phòng mặt lợi định. Thời gian tới, công hiện lên, lẽ, đổi công ty thay freelancer hoàn toàn\", Mai chia sẻ. Theo Mai, freelancer, thể tiến thời gian đầu. Nhưng thăng tiến phát triển nghiệp, chắc. Chưa văn phòng, thu nhập ổn định hàng tháng, công ty chăm lo phúc lợi, đồng nghiệp xung quanh động lực cạnh tranh phấn đấu hơn.\n",
            "This is \"['Giáo dục']\" news, you predicted it is \"['Pháp luật']\" news\n",
            "------------------------------------------------------------\n",
            "------------------------------------------------------------\n",
            "Ngày 6/7, Bộ GD&ĐT biết, công tác chuẩn kỳ thi nghiệp THPT 2022 thực hiện khẩn trương, hiệu Trung ương địa phương 2.243 thi, 42.293 phòng thi. Tính thời hiện tại, công tác chuẩn hoàn thành sẵn sàng triển khai kế hoạch đề ra. Kỳ thi nghiệp THPT 2022 ổn định phương thức 2021, tổ chức 7 8/7. Dự kiến, hội đồng thi công bố kết thi đồng thời 24/7; công tác xét công nghiệp THPT hoàn thành chậm 26/7. Đây đầu tiên Bộ GD&ĐT triển khai thực hiện đăng ký dự thi trực tuyến. Đến 13/5 thí sinh đăng ký dự thi triệu thí sinh. Hệ thống quản lý thi hoạt động ổn định đăng ký dự thi thí sinh diễn bình thường, thuận lợi đối đối tượng thí sinh, đảm bảo liệu thi xác. Tổng thí sinh đăng ký dự thi 1.002.432. Trong đó, thí sinh đăng ký trực tuyến 933.510, chiếm 93,12%; thí sinh đăng ký trực tiếp 68.922, chiếm 6,88%. Ban Chỉ đạo quốc gia kỳ thi nghiệp THPT 2022 thành lập 5 đoàn kiểm tra công tác chuẩn thi 24 địa phương toàn quốc thành lập 10 đoàn kiểm tra Bộ GD&ĐT kiểm tra công tác chuẩn thi 20 địa phương. Các địa phương Ban Chỉ đạo kiểm tra hình thức trực tuyến. Hoạt động kiểm tra công tác chuẩn kỳ thi lãnh đạo Bộ GDĐT thực hiện liên tục, xuyên suốt 24/6 5/7. Thông hoạt động kiểm tra công tác chuẩn kỳ thi, lãnh đạo Bộ GD&ĐT đạo địa phương: Hội đồng thi thực hiện nghiêm túc quy chế, quy định; đảm bảo an toàn, bảo mật; phối hợp chặt chẽ đơn vị chức năng phục vụ kỳ thi hiệu quả, quan trọng đảm bảo thí sinh kiện tham gia kỳ thi chất nhất. Một vấn đề hạn chế, sót hội đồng thi Ban Chỉ đạo quốc gia đoàn kiểm tra Bộ GD&ĐT nhắc nhở, đề nghị chỉnh phù hợp, quy định. Báo cáo địa phương, ghi đoàn kiểm tra thấy, hầu địa phương hoàn tất công tác chuẩn kỳ thi nghiệp THPT 2022. Nhiều địa phương ban hành thị ban vụ tỉnh ủy, thành ủy thị chủ tịch UBND tỉnh tổ chức kỳ thi. Tất địa phương thành lập ban đạo thi tỉnh, tham gia sở, ban, ngành liên quan. Nhiều tỉnh thành lập ban đạo thi huyện. Các ban đạo thi địa phương phân công, giao nhiệm vụ, trách nhiệm cụ thể, ràng tổ chức, cá nhân tham gia. Các địa phương trọng công tác lựa nhân tham gia tổ chức kỳ thi, tổ chức lớp tập huấn kỹ thuật tổ chức thi, chuẩn kiện sở vật chất, bố trí lực thực hiện khâu kỳ thi quy chế văn hướng Bộ GDĐT; xây dựng kế hoạch tra, kiểm tra, giám sát trước, kỳ thi bảo đảm kỷ cương, vi phạm, tổ chức kỳ thi an toàn, nghiêm túc, minh bạch, quan chất lượng. Các địa phương giải pháp hỗ trợ tối đa thí sinh, đảm bảo thí sinh hoàn cảnh khăn dự thi. Các địa phương, địa phương huyện, xã miền núi, hải đảo quan tâm sâu sát thí sinh đồng bào dân tộc, gia đình hoàn cảnh khăn, huy động lực kiện thuận lợi thí sinh tham gia kỳ thi. Đề thi gốc hội đồng thi địa phương in quy định, bảo đảm phục vụ tổ chức kỳ thi kế hoạch. Hội đồng đề thi thực hiện nhiệm vụ yêu cầu tổ chức thi. Theo đó, nội dung đề thi nằm chương trình THPT, chủ yếu chương trình lớp 12. Các nội dung dạy học tinh giản tác động dịch COVID-19 (năm học 2019-2020, 2020-2021 2021-2022) đề thi nay. Đề thi gốc bàn giao hội đồng thi tổ chức in kịp thời, bảo đảm bảo mật tuyệt đối. Các sở GD&ĐT chuẩn sở vật chất nhân lực triển khai công tác in đề thi địa phương. Bên cạnh đó, ngành giáo dục địa phương thực hiện nhiệm vụ đảm bảo an toàn phòng dịch. Các địa phương hướng xây dựng kế hoạch triển khai giải pháp tổ chức thi đáp ứng yêu cầu nghiêm túc, quy chế, đồng thời bảo đảm an toàn phòng chống dịch kiện thuận lợi thí sinh ảnh hưởng dịch COVID-19. Phương Liên\n",
            "This is \"['Pháp luật']\" news, you predicted it is \"['Giáo dục']\" news\n",
            "------------------------------------------------------------\n",
            "------------------------------------------------------------\n",
            "Tiếp tục chuyến thăm thức Hungary, chiều 27/6 (giờ địa phương), trường Đại học Eötvös Loránd, thủ đô Budapest, Chủ tịch Quốc hội Vương Đình Huệ đoàn đại biểu Việt Nam tham dự Diễn đàn hợp tác giáo dục Việt Nam-Hungary. Phát biểu chào mừng, Phó Thủ tướng Chính phủ Lê Văn Thành rằng, mặc mặt địa lý Việt Nam Hungary hai quốc gia nét tương đồng truyền thống văn hóa, lịch sử. Trải 72 quan hệ hợp tác phát triển, hai Việt Nam Hungary thành tựu quan trọng, bậc lĩnh vực, đóng góp đặc biệt quan trọng lĩnh vực hợp tác giáo dục đào Việt Nam Hungary. Thỏa thuận hợp tác giáo dục Chính phủ Hungary Việt Nam 2013 minh chứng ràng cam kết thúc đẩy hợp tác giáo dục hai nước, hai nâng quan hệ hợp tác đối tác toàn diện nhân chuyến thăm Tổng Bí thư Nguyễn Phú Trọng 2018. Hiện nay, 600 du học sinh Việt Nam học tập công tác Hungary; Hungary Việt Nam 200 suất học bổng. Cho Hungary đào Việt Nam 4.000 du học sinh trình độ khoa học kỹ thuật, quản lý kinh tế, đó, trở thành lãnh đạo chủ chốt hệ thống trị Việt Nam, khoa học sở nghiên cứu, trường đại học, doanh nhân thành lĩnh vực. Theo Phó Thủ tướng, tảng, vốn quý tiền đề quan trọng tiếp tục phát triển hợp tác hữu nghị Việt Nam – Hungary giai đoạn tới. \"Việt Nam quốc gia 100 triệu dân, thời dân vàng; coi giáo dục đào quốc sách hàng đầu. Trong qua, Việt Nam quan tâm đặc biệt xây dựng, hoàn thiện chế sách ưu tiên lực đầu tư lĩnh vực giáo dục đào tạo\", Phó Thủ tướng nói. Trên sở Quốc hội ban hành Luật Giáo dục 2019 Luật Giáo dục đại học sửa đổi, bổ sung 2018, Chính phủ triển khai nhiệm vụ giải pháp phát triển giáo dục đào tạo. Chất giáo dục Việt Nam biến tích cực. Theo kết xếp hạng quốc gia giáo dục 2021 USNEWS, Việt Nam xếp 59, 5 bậc 2020. Đã trường đại học Việt Nam xếp hạng 1.000 trường đại học giới bảng xếp hạng uy tín 2022. Hợp tác quốc tế giáo dục đào rộng 100 quốc gia, lãnh thổ tổ chức quốc tế. Phó Thủ tướng nêu rõ, kết chuyến thăm đoàn đại biểu Việt Nam Chủ tịch Quốc hội Vương Đình Huệ đầu Hungary văn kiện ký kết Diễn đàn hôm thời kỳ mới, đẩy nữa, hiện thực hóa cam kết, mục tiêu  hợp tác phát triển giáo dục Việt Nam – Hungary. Phó Thủ tướng rằng, quan Việt Nam Hungary thúc đẩy hợp tác thực hiện hiệu thỏa thuận giáo dục ký. Hungary quốc gia đào ngành điện tử, y dược, năng lượng, văn học nghệ thuật, lĩnh vực nông nghiệp công nghệ cao, công nghiệp chế biến nông sản… Đây ngành, lĩnh vực Việt Nam nhu cầu nhân lực chất lượng. Do vậy, dài, sở đào tạo, nghiên cứu xây dựng giải pháp cụ thể thúc đẩy mẽ hợp tác giáo dục hai lĩnh vực này. Đặc biệt cường tổ chức chuyến công tác, đoàn trường đại học, viện nghiên cứu khảo sát thực tế, học lẫn nhau; sở xây dựng kế hoạch, tiến độ hợp tác ngành, lĩnh vực, trường đại học đảm bảo thiết thực hiệu quả,... Ông Balazs Hanko - Quốc vụ khanh Bộ Văn hóa Đổi Hungary Chính phủ Hungary quan tâm vấn đề văn hóa văn hóa đổi nội dung quan trọng lĩnh vực sống tương lai Hungary phụ đổi văn hóa đổi mới. Ông khẳng định tảng quan hệ đẹp hai quốc gia, hai tiếp tục cường hợp tác tương lai. Về giáo dục, đào tạo, hai tiếp tục xây dựng quan hệ hợp tác trường đại học, đẳng hiệu thực chất, cường quan hệ hữu nghị truyền thống đời hai nước. Giáo sư, Tiến sĩ László Borhy, Chủ tịch Hiệp hội trường đại học, đẳng Hungary quan đại diện Hungary nước, Hiệp hội trường đại học, đẳng Hungary coi trọng hợp tác trường đại học quốc tế. Đồng thời, mong Diễn đàn, trường đại học hai rộng quan hệ hợp tác, trao đổi kinh nghiệm cường hợp tác thời gian tới. Trong khuôn khổ chương trình, đại diện trường đại học Việt Nam Hungary phát biểu tham luận tập trung chủ đề, như: Chuyển đổi giáo dục đại học; hợp tác y dược Việt Nam Hungary; thúc đẩy hợp tác quốc tế trường đại học Hungary chủ đề khác… Tại diễn đàn, Chủ tịch Quốc hội Vương Đình Huệ lãnh đạo bộ, ban, ngành Việt Nam Hungary chứng kiến lễ trao 9 Biên ghi (MOU) hợp tác trường đại học hai nước. Đó trường Đại học Quốc gia Hà Nội Đại học Eotvos Lorand, Đại học Szeged; Trường Đại học Bách khoa Hà Nội Trường đại học Obuda; Trường Đại học kinh tế quốc dân Trường đại học Obuda; Trường Đại học Mỏ địa chất Trường đại học Obuda; Trường Đại học Y dược Hồ Chí Minh Trường Đại học Semmelweis; Trường Đại học Mở Thành phố Hồ Chí Minh Trường Đại học Corvinus, Budapest; Trường Đại học Bách khoa – Đại học quốc gia Hồ Chí Minh Trường Đại học Eötvös Loránd; Trường Đại học Kinh tế quốc dân Trường Đại học Eötvös Loránd. Đức Tuân\n",
            "This is \"['Pháp luật']\" news, you predicted it is \"['Giáo dục']\" news\n",
            "------------------------------------------------------------\n",
            "------------------------------------------------------------\n",
            "Lâm Sâm Hạo sinh 1986 gia đình nông thôn nghèo 5 thành phố Sán Đầu, tỉnh Quảng Đông. Dù nghèo, Hạo thành tích học tập xuất sắc, Học viện Y Trung Sơn Đại học Trung Sơn cao, trở thành niềm hào gia đình. Lên đại học, Hạo chăm chỉ, hầu học bổng, đồng thời tranh thủ thời gian rảnh phụ giúp gia đình. Sau nghiệp, Hạo giành hội học nghiên cứu sinh Học viện Y Thượng Hải, Đại học Phục Đán 2010. Ở trường, Hạo chức phó chủ tịch hội học sinh gia cảnh nghèo khó, trọng cao, Hạo độc, thu mình. Bạn bè xét Hạo hướng nội, giúp đỡ bè, sống tiết kiệm. Sau học nghiên cứu sinh, hoàn cảnh gia đình, Hạo lựa tiếp tục học bệnh viện nổi tiếng Quảng Châu, đợi nghiệp đi luôn. Tuy nhiên, sống Hạo rẽ ngoặt mâu thuẫn Hoàng Dương. Dương nghiên cứu sinh Đại học Phục Đán chuyên ngành. Năm 2011, Dương phòng ký túc xá Hạo.\n",
            "\n",
            "Gia đình giàu Dương hoàn toàn trái ngược Hạo, vui vẻ cười, hơi vô tư đôi lựa lời. Dương đùa cợt hoàn cảnh nghèo Hạo, gọi \"kẻ thất bại\". Hạo bực tức lòng, dần tích tụ thành oán hận. Một lần, Dương tức giận phòng Tiểu Cát hai phụ trách tiền mua bình máy lọc phòng, Hạo uống này. Theo Tiểu Cát, hai hẳn tranh cãi hóa đơn tiền nước. Sau này, quan hệ Hạo Dương tệ hơn, nhau. Khi nghiệp, học kế hoạch Hạo chuyến du lịch nghiệp. Chưa đợi Hạo lời, Dương tiếng: \"Làm ta tiền đi du lịch nghiệp được? Cậu rủ đi đấy\". Theo Hạo, Dương chọc nỗi đau ta. Ngày 29/3/2013, Hạo vui ký túc xá game bạn. Vì hai Cá Tư, tối Dương trở ký túc xá, thú bày kế hoạch trêu chọc bè xung quanh. Hạo chán ghét vẻ mặt cười tiếng Dương, thầm Dương nếm thử mùi vị đùa cợt, nảy suy táo bạo độc ác. Hôm sau, Hạo tận dụng hội tình nguyện phòng thí nghiệm, bí mật thuốc thử nghiệm độc Dimethylnitrosamine (DMN). Hạo lén chất độc bình phòng ký túc đợi Dương uống. Sáng 1/4/2013, thức dậy, Dương bình, uống ngụm liền nhổ ra, chạy vệ sinh nôn. Sau đó, Dương nhắc nhở ký túc xá uống máy lọc mùi lạ, lẽ hỏng. Hạo nằm giường thờ chuyện. Sau đó, Dương xuất hiện phản ứng nhiễm độc, đau bụng nôn mửa ngừng. Ban đầu, Dương viêm dày ruột bệnh viện Hạo thực tập siêu âm giúp. Hạo kiểm tra dày gan Dương, phát hiện vấn đề gì. Nhưng bệnh tình Dương biến xấu, tiểu cầu chóng phòng chăm sóc đặc biệt. Bố Dương quê vội Thượng Hải tin. Hạo tỏ thân thiện tiếp đón bố Dương, han bệnh tình hoa thăm bạn. Ngày 6/4, Dương bắt đầu chảy máu mũi, hôn mê. Nhìn Dương vật vã hấp hối, Hạo thật. Sau 10 trị, chiều 16/4, Dương chết 28, nguyên nhân suy gan tính. Bệnh trạng Dương học nghi ngờ. Họ kiểm tra đồ thức uống Dương bất thường. Cho đột nhiên Hạo nghiên cứu chất độc thể tổn thương gan, kết hợp triệu chứng Dương, lập tức báo cảnh sát. Từ bình ký túc xá, cảnh sát hợp chất độc hại trên. Điều tra Hạo, cảnh sát phát hiện ta viết luận văn nghiên cứu chất độc Dimethylnitrosamine thực hiện thí nghiệm động vật. Ngày 12/4, Hạo cảnh sát Thượng Hải tạm nghi ngờ đầu độc. Trong trình thẩm vấn, Hạo thừa hành vi phạm tội, khăng khăng định đùa giỡn Dương. Khi kết tra công bố, vụ án thu hút rộng rãi công chúng. Ngày 19/4, Hạo bắt cáo buộc cố giết người. Trong phiên tòa sơ thẩm 18/2/2014, Hạo kết án tử hình tội Cố giết người. Gia đình Hạo kháng cáo bất thành. Sau đó, 177 giáo viên sinh viên Đại học Phục Đán ký thư gửi thẩm phán, tòa tuyên án tử hình Hạo ta hội chuộc lỗi. Tuy nhiên, 9/12/2015, Tòa án Tối phê chuẩn án tử hình Hạo, thi hành án 11/12/2015. Tuệ Anh (Theo Toutiao)\n",
            "This is \"['Pháp luật']\" news, you predicted it is \"['Giáo dục']\" news\n",
            "------------------------------------------------------------\n",
            "------------------------------------------------------------\n",
            "Đề bài: Một két sắt mật mã 7 chữ ẩn giấu đại \"Tam giác vàng ABC\". Biết độ 3 cạnh \"Tam giác vàng ABC\" 3 nguyên dương đường tròn đi 3 đỉnh A, B, C kính 3,125. 1. Xác định độ 3 cạnh, chu vi diện tích \"Tam giác vàng ABC\". 2. Giả sử mật mã két sắt 7 ô chứa liệu \"Tam giác vàng ABC\", ô chứa 1 chữ 3 ô liên tiếp chứa 3 chữ biểu thị độ 3 cạnh, 2 ô liên tiếp chứa 2 chữ biểu thị chu vi 2 ô liên tiếp chứa 2 chữ biểu thị diện tích (các biểu thị đọc trái phải). Nếu kết câu 1 1 phút nhập mật mã hợp lệ 7 chữ tối đa bao nhiêu phút két mở? Hướng giải: 1. Giả sử tam giác ABC diện tích S, độ 3 cạnh a, b, c p nửa chu vi R kính đường tròn ngoại tiếp. Ta S = (abc)/4R = (abc)/12,5 hay\n",
            "25S = 2abc. Từ S nguyên chia 2 (abc) chia 25. Mặt khác, đường tròn đường kính dây hay\n",
            "Max{a,b,c} ≤ 2R = 6,25 kết hợp a, b, c nguyên dương cạnh a, b, c 2 cạnh độ 5. Không tổng quát giả sử a = b = 5, 25S = 50c S = 2c. Sử dụng công thức Hê-rông diện tích tam giác ta có: 16S2 = 16p(p–a)(p–b)(p–c) = 2p(2(p–a))(2(p–b))(2(p–c)) 16S2 = (b+c+a)(b+c–a)(c+a–b)(a+b–c) = (10+c)(10–c)c2 64c2 = (100–c2 )c2 64 =100–c2 tức c = 6. Vậy tam giác ABC độ cạnh (a, b, c) hoán vị (5, 5, 6), chu vi 16 diện tích S = 2c = 12. 2. Với quy tắc đọc chữ biểu thị chiều trái phải, đọc 2 chữ chu vi 16 diện tích 12, 7 ô trống mật mã ta 3 vị trí 3 (5, 5, 6) độ 3 cạnh, vị trí 3 hoán vị (5, 5, 6); (5, 6, 5); (6, 5, 5) 2 vị trí biểu thị chu vi 12 diện tích 16. Do đó, dãy 7 chữ biểu thị mật mã \"Tam giác vàng ABC\" 3x3x2 = 18 (cách). Mỗi giải mã 1 phút tối đa 18 phút ổ khóa mở. Trần Phương\n",
            "This is \"['Giáo dục']\" news, you predicted it is \"['Pháp luật']\" news\n",
            "------------------------------------------------------------\n",
            "------------------------------------------------------------\n",
            "Câu 1: Tỉnh đơn vị hành huyện Việt Nam? A. Hà Nam B. Hòa Bình C Bắc Giang\n",
            "This is \"['Giáo dục']\" news, you predicted it is \"['Pháp luật']\" news\n",
            "------------------------------------------------------------\n",
            "------------------------------------------------------------\n",
            "Ngày 15/7, Bộ GD&ĐT tổ chức họp báo Giải báo chí toàn quốc \"Vì nghiệp giáo dục Việt Nam\" 2022. Giải Bộ GD&ĐT phối hợp Ban Tuyên giáo Trung ương, Bộ TT&TT Hội Nhà báo Việt Nam tổ chức, Báo Giáo dục Thời đại đơn vị trực. Giải tổ chức tôn vinh tác giả tác phẩm báo chí xuất sắc nghiệp giáo dục; tập thể, cá nhân tiêu biểu đóng góp nghiệp giáo dục. Qua đó, tuyên truyền, tôn vinh đóng góp ngành giáo dục nghiệp xây dựng bảo vệ Tổ quốc, đồng thời thu hút quan tâm cấp, ngành xã hội đối nghiệp giáo dục Việt Nam. Phát biểu họp báo, Thứ trưởng Bộ GD&ĐT Hoàng Minh Sơn nhấn mạnh: Giáo dục đào nghiệp toàn dân, toàn xã hội. Ngành giáo dục tác động lớn, xuyên, tương lai phát triển đất nước, gia đình. Vì vậy, hoạt động ngành gia đình toàn xã hội quan tâm, can dự kỳ vọng. Những nhiệm vụ ngành giáo dục khăn, phức tạp, thách thức, đồng thời vinh dự. Những nhiệm vụ ngành khó, phức tạp, khăn, phức tạp ta đổi bản, toàn diện bậc phổ thông đại học bối cảnh dịch bệnh diễn biến phức tạp toàn giới. Theo Thứ trưởng Hoàng Minh Sơn, kết ngành giáo dục đóng góp nỗ lực mệt mỏi toàn ngành, toàn xã hội; đóng góp thầm lặng, trách nhiệm đội ngũ giáo, cán quản lý giáo dục; vươn nỗ lực 20 triệu học sinh, sinh viên; gia đình tích cực, chủ động tham gia đóng góp ngành… Những kết đóng góp quan trọng đội ngũ phóng viên, biên tập viên quan thông tấn, báo chí. Ngành giáo dục thể hoàn thành nhiệm vụ mình, xây dựng sách, văn hướng thực hiện, tổ chức triển khai… hoạt động tuyên truyền, định hướng sách, phản biện báo, quan thông tấn, báo chí. \"Mỗi báo tác phẩm báo chí cầu nối, trở thành diễn đàn giáo viên, cán quản lý giáo dục, học sinh, sinh viên, chuyên gia, khoa học, toàn thể nhân dân đóng góp kiến tham gia trình đổi giáo dục\", Thứ trưởng Hoàng Minh Sơn chia sẻ. Tại họp báo, Tổng Biên tập Báo Giáo dục Thời đại Triệu Ngọc Lâm, Phó Trưởng ban trực Ban Tổ chức chia sẻ thể lệ giải, thời gian tổ chức (từ 11/2021 11/2022), quy định tác giả, tác phẩm tác phẩm tham dự, tiêu chí xét trao giải, hồ sơ tác phẩm địa tác phẩm; cấu giá trị giải thưởng… Theo đó, thời gian tác phẩm: Từ phát động 9/2022. Địa tác phẩm: Báo Giáo dục Thời đại, 15 Hai Bà Trưng, Hoàn Kiếm, Hà Nội, email: cuocthiVSNGDVN@moet.gov.vn. Đối hồ sơ gửi đường bưu điện, phong bì ghi rõ: Bài tham gia Giải báo chí toàn quốc \"Vì nghiệp Giáo dục Việt Nam\" 2022. Giải báo chí toàn quốc \"Vì nghiệp Giáo dục Việt Nam\" 4 tổ chức đông đảo phóng viên, biên tập viên quan thông báo chí Trung ương địa phương, tác giả bút chuyên chuyên nhiệt tình hưởng ứng, gửi tác phẩm tham gia. Đại diện Hội đồng Giám khảo, Thiếu tướng, văn Nguyễn Hồng Thái, nguyên Tổng Biên tập tạp chí Công an nhân dân chia sẻ, mẻ, hấp giải báo chí \"Vì nghiệp Giáo dục Việt Nam\" giải nhân vật tác phẩm đoạt giải. Ông Nguyễn Hồng Thái rằng, tham gia đông đảo tác giả quan thông báo chí, thể hiện tình cảm tác giả, phóng viên, tòa soạn, hệ thống báo chí Việt Nam. Những báo chí lớn, uy tín xuất hiện xuyên thể hiện uy tín giải 4 tổ chức. Đại diện tài trợ, GS.TS. Raymond Gordon, Hiệu trưởng Trường ĐH Anh Quốc Việt Nam đánh giá Bộ GD&ĐT, Báo Giáo dục Thời đại kiện tổ chức chương trình nghĩa này, câu truyền cảm hứng giáo khắp Việt Nam: \"Trong 4 qua, xúc động câu báo ghi chân thực đóng góp xuất sắc thầy giáo khắp đất Việt Nam\". Phương Liên\n",
            "This is \"['Pháp luật']\" news, you predicted it is \"['Giáo dục']\" news\n",
            "------------------------------------------------------------\n",
            "------------------------------------------------------------\n",
            "Ngày 20.7, Trung tâm xúc tiến đầu tư tỉnh Bình Định (thuộc Sở KH-ĐT) Chủ tịch UBND tỉnh ký quyết định chấp thuận chủ trương đầu tư dự án Tổ hợp Trung tâm nghiên cứu, sản xuất đào chuyên gia công nghệ FPT Software, đồng thời chấp thuận đầu tư Công ty TNHH Phần mềm FPT (Hà Nội). Dự án triển khai khu đất rộng 15,2 hecta khu vực quy hoạch Khu đô thị khoa học giáo dục Quy Hòa (ở P.Ghềnh Ráng, TP.Quy Nhơn, Bình Định), tổng vốn đầu tư 2.000 tỉ đồng. Trong đó, giai đoạn 1 xây dựng diện tích đất 8,1 hecta, vốn đầu tư 1.066,5 tỉ đồng, thực hiện quý 1 2023 quý 4 2025. Giai đoạn xây dựng công trình: Trung tâm nghiên cứu, phát triển công nghệ sản xuất sản phẩm mềm; Học viện đào chuyên gia, nhân lực công nghệ cao; Khu huấn luyện trải nghiệm kỹ năng sống công dân toàn cầu; Khu lưu trú ngắn hạn chuyên gia, lao động công suất thiết kế 12.662 người. Giai đoạn 2 xây dựng diện tích đất 4,3 hecta, vốn đầu tư 565,4 tỉ đồng, thực hiện quý 1 2026 quý 4 2028, công suất thiết kế 6.712 người. Giai đoạn 3 xây dựng diện tích đất 2,8 hecta, tổng vốn đầu tư 368,6 tỉ đồng, thời gian thực hiện quý 1 2029 quý 4 2030, công suất thiết kế 4.376 người. Mục tiêu dự án xây dựng trung tâm nghiên cứu sản xuất sản phẩm mềm, phục vụ đào tạo, giao công nghệ lĩnh vực công nghệ thông tin; góp xây dựng ngành công nghệ thông trở thành ngành kinh tế trọng điểm, quan trọng tỉnh Bình Định. Dự án hoàn thành sản xuất sản phẩm dịch vụ công nghệ thông khả năng thay sản phẩm nhập khẩu, góp thúc đẩy phát triển lĩnh vực: viễn thông, tài chính, ngân hàng, hải quan, hàng không, thương mại, thương mại điện tử dịch vụ công cộng, giáo dục, đào tạo, y tế, an ninh, quốc phòng; đồng thời đào tạo, huấn luyện nhân lực công nghệ thông Việt Nam trở thành công dân toàn cầu...\n",
            "This is \"['Giáo dục']\" news, you predicted it is \"['Pháp luật']\" news\n",
            "------------------------------------------------------------\n",
            "------------------------------------------------------------\n",
            "Đây động thái bảo vệ kỳ thi THPT Quốc gia 2022 địa bàn thành phố, đặc biệt phòng ngừa, ngăn chặn sử dụng thiết công nghệ gian lận thi cử đạo Giám đốc Công an thành phố này. Theo đó, công tác nắm tình hình, 2/7, trinh sát Phòng An ninh mạng phòng, chống tội phạm sử dụng công nghệ - Công an thành phố phối hợp lực chức năng kiểm tra đối tượng P.Đ.Q. (2002, trú phường Thành Tô, Hải An, TP Hải Phòng) thực hiện hành vi mua thiết công nghệ phục vụ gian lận thi cử, thu 15 thiết tai siêu nhỏ. Cụ thể, thiết có: Một điện thoại Nokia, điện thoại kết nối 1 đoạn dây đồng 60cm gắn 1 micro 4 tai siêu dạng hạt kích thước 2mm. Khi sử dụng, hạt tai siêu lỗ tai, điện thoại lắp sim micro giấu quần áo để liên lạc phòng thi. Điều tra rộng, quan Công an triệu tập, đấu tranh đối tượng Lê Xuân Tùng (SN 1990, trú khu 14, xã Tiên Phú, huyện Phú Ninh, tỉnh Phú Thọ), thiết P.Đ.Q. thu 14 thiết tai siêu nhỏ, 3 camera ngụy trang hàng trăm linh kiện điện tử lắp ráp thành thiết ghi âm, ghi hình ngụy trang phục vụ gian lận thi cử. Hiện quan Công an đấu tranh hành vi đối tượng xử lý qui định pháp luật. Cơ quan Công an khuyến cáo, sử dụng thiết công nghệ gian lận thi cử vi phạm qui chế thi. Những trường hợp phát hiện phòng thi, sử dụng xử lý nghiêm qui định. Đây là những học đắt giá thí sinh sai lầm thể lãng phí công sức học tập 12 năm.\n",
            "This is \"['Giáo dục']\" news, you predicted it is \"['Pháp luật']\" news\n",
            "------------------------------------------------------------\n",
            "------------------------------------------------------------\n",
            "Tối 6/7, Bộ GD&ĐT thông thủ tục dự thi Kỳ thi nghiệp THPT 2022. Theo đó, tổng hợp báo cáo Hội đồng thi, tổng thí sinh thủ tục dự thi chiều 6/7 989.863 thí sinh, tỉ lệ 98,75% đăng ký dự thi. Trong đó, 38 thí sinh diện F0. Các Hội đồng thi thực hiện giải pháp hỗ trợ thí sinh thủ tục dự thi thuận lợi; phổ biến Quy chế thi, nội quy phòng thi đủ; hướng thí sinh sửa chữa sai sót trình đăng ký dự thi, tâm lý thí sinh an tâm, sẵn sàng tham gia kỳ thi. Các thí sinh diện F0 dự thi thi bố trí thi phòng biệt. Công tác coi thi phòng triển khai Quy chế biện pháp phòng, chống dịch COVID-19 cán coi thi thí sinh. ‎Các Hội đồng thi toàn quốc triển khai biện pháp phòng, chống dịch COVID-19 phù hợp thực tế địa phương; đồng thời phương án dự phòng ứng phó tình huống bất thường, bảo đảm tổ chức kỳ thi an toàn, nghiêm túc. Kỳ thi nghiệp THPT 2022, toàn quốc 63 Hội đồng thi 2.243 thi, 42.293 phòng thi. Sáng 7/7, thí sinh tiếp tục thủ tục dự thi thi môn thi đầu tiên kỳ thi môn Ngữ văn hình thức luận. Ngày thủ tục dự thi diễn an toàn, nghiêm túc kiện thuận lợi thí sinh công tác tổ chức kỳ thi tất địa phương nước. Phương Liên \n",
            "This is \"['Pháp luật']\" news, you predicted it is \"['Giáo dục']\" news\n",
            "------------------------------------------------------------\n",
            "------------------------------------------------------------\n",
            "Kỳ 1: Phát minh thẻ đục lỗ Trong thời đại Dữ liệu lớn, tranh cãi tặc. Một mặt, tặc độc hại gọi tặc mũ đen thiệt hại hàng tỷ USD đột nhập mạng tư công cộng cắp tiền liệu cá nhân đơn giản hỗn loạn. Mặt khác, tặc gọi đạo đức (tin tặc mũ trắng) sử dụng kỹ năng phục vụ lợi ích công cộng thông thăm dò hệ thống máy yếu bảo mật rò rỉ thông tham nhũng phủ tội phạm khác. Mặc chủ yếu gắn liền thời đại kỹ thuật hiện đại, nghệ thuật tặc 100 trước. Một tặc đầu tiên đạo đức René Carmille – cứu hàng triệu công dân Pháp Đức Quốc xã Chiến tranh Thế giới hai. Kỷ nguyên Dữ liệu thực tồn lâu, 1880 vấn đề khăn Chính phủ Mỹ đối mặt. Hiến pháp Mỹ quy định 10 thực hiện tra dân thể cập nhật thuế đại diện trị thay đổi dân số. Cuộc tra dân đầu tiên Mỹ diễn 1790 90 đó, ta thu thập xử lý liệu tra dân hoàn toàn tay. Tuy nhiên, 1880, Cục Điều tra Dân đối mặt khủng hoảng lớn: dân Mỹ tra dân 1880 9 hoàn thành. Vào thời hoàn thành liệu 1880 thực hiện tra dân tiếp theo. Với tốc độ này, Cục Điều tra Dân lo ngại tổng tra tương lai bao thể bắt kịp, toàn hoạt động trở vô nghĩa. Khi đó, Herman Hollerith, kỹ sư Mỹ tham gia tra dân 1880, xuất hiện. Năm 1889, Hollerith chế hệ thống tốc độ lập bảng liệu tra dân số, dựa công nghệ thẻ bấm lỗ. Trong thẻ bấm lỗ sử dụng động hóa trình dệt mẫu dệt phức tạp, hệ thống Hollerith hệ thống đầu tiên áp dụng lĩnh vực xử lý liệu thực tế. Hệ thống Hollerith cảm hứng hệ thống ngành đường sắt lập xác định bắt cướp tàu hỏa tội phạm khác. Vì thời đó, chụp ảnh chậm chạp rườm rà, thay đó, vé tàu in kèm loạt chi tiết mô tả ngoại hình chiều cao, màu mắt râu khuôn mặt soát vé thể điền bấm lỗ vé tiêu chuẩn. Theo này, thể ghi mô tả sơ hành khách. Hollerith hệ thống thể dàng chỉnh phù hợp tra dân thiết kế thẻ bấm lỗ ghi liệu tra dân số. Một máy to đàn piano Tabulator nhiệm vụ đọc xử lý thẻ. Hệ thống Hollerith hoạt động sau: Những tham gia tra dân đi khắp đất ghi liệu lượng, giới hộ gia đình bấm lỗ vị trí tương ứng thẻ Hollerith. Những thẻ gửi văn phòng tra dân xử lý. Một hành thẻ máy Tabulator thông cửa sập lề, máy quét máy photocopy phẳng hiện đại. Khi cửa sập đóng lại, lưới chốt kim lò xo ép thẻ. Nơi lỗ bấm lỗ ghim đi tiếp xúc vũng thủy ngân, hoàn thành mạch điện. Dữ liệu đếm hiển thị loạt mặt đồng hồ mặt Tabulator, vận hành đọc ghi thủ công. Tuy nhiên, thiên tài Tabulator nằm khả năng tua \"lập trình\" đếm liệu kết hợp nhau. Ví dụ: nam giới lập gia đình 30 tuổi. Hollerith phát minh thiết gọi Sorter bao 13 thùng kim thẳng đứng, nắp lò xo, nắp thể lập trình thu thập tổ hợp liệu nhau. Vì vậy, ví dụ, hành thẻ nam giới kết hôn 30 tuổi, nắp thùng lập trình thông kết hợp hành thể thả thẻ vào. Hệ thống Hollerith Cục Điều tra Dân thông thời tra dân 1890 tác động lớn. Việc sử dụng thẻ bấm lỗ bảng thống kê cắt thời gian thiết xử lý liệu tra dân 9 2 năm. Cải thiện hiệu suất biến máy Hollerith trở thành thiết tiêu chuẩn Cục Điều tra Dân số. Vào 1896, Hollerith thành lập Công ty Máy lập bảng Hollerith hàng. Trong hàng đầu tiên Công ty Bảo hiểm Nhân thọ Prudential Công ty Đường sắt Trung tâm New York. Đây công ty xử lý 4 triệu vận đơn hàng hóa lựa lý tưởng hệ thống Hollerith. Trong thập kỷ tiếp theo, Hollerith giới thiệu cải tiến quan trọng giúp hệ thống hiệu mẽ hơn, thẻ bấm lỗ thiết kế lại, phím bấm cải tiến, máy in động lập bảng liệu… Những ngành hoàn toàn ngành sử dụng xử lý liệu khổng lồ lập hóa đơn lương. Thời đại Thông thức đến. Nhưng đối Herman Hollerith, thành công kéo dài. Năm 1903, Giám đốc Cục Điều tra Dân số, Simon North, Hollerith độc quyền xử lý liệu cấm sử dụng máy công ty Cục Điều tra Dân số. Sau đó, 1911, thông mua cổ phiếu, Công ty Máy lập bảng Hollerith hợp bốn công ty thành lập Công ty Máy – Lập bảng. Cuối cùng, 1923, công ty hợp đổi thành International Business Machines – gọi tắt IBM. Dưới thời Giám đốc hành Thomas Watson, IBM thống trị ngành máy kỹ thuật số, kiểm soát 90% tất thiết thẻ bấm lỗ Mỹ 1950. Một chìa khóa thành công IBM bao máy hàng thuê. Có IBM chí phí hàng thẻ bấm lỗ cá nhân sử dụng - phương pháp khoản lợi nhuận chí hơn. Tuy nhiên, đối Chính phủ Mỹ đi xa. Vào 1932, IBM tòa vi phạm Đạo luật Chống độc quyền Clayton 1914. Mặc IBM lập luận thẻ nắm chế mặt kỹ thuật thành máy móc hàng thuê, 1936, Chính phủ Mỹ phán quyết chống lập luận này. Sau này, IBM trích hành vi phi đạo đức hơn. Đón đọc kỳ 2: Hỗ trợ Đức Quốc xã\n",
            "This is \"['Giáo dục']\" news, you predicted it is \"['Pháp luật']\" news\n",
            "------------------------------------------------------------\n",
            "------------------------------------------------------------\n",
            "Ngày 30/6, tỉnh Quảng Nam, Văn phòng SPS Việt Nam (Bộ NN&PTNT) phối hợp Trường Cao đẳng Quảng Nam tổ chức diễn đàn Thực thi cam kết SPS hiệp định thương mại Việt Nam liên minh châu Âu (EVFTA). Diễn đàn tham dự đại diện Sở NN&PTNT, Sở Công Thương, Chi cục Trồng trọt bảo vệ thực vật, chăn nuôi, thú y tỉnh Quảng Nam, Quảng Ngãi, Đà Nẵng, Thừa Thiên Huế, Kon Tum, Bình Định, Quảng Trị, Quảng Bình hiệp hội ngành hàng, doanh nghiệp, hợp tác xã, hộ nông dân, đại diện trường đại học, đẳng… Ông Ngô Xuân Nam - Phó Giám đốc Văn phòng thông báo đáp Quốc gia vệ sinh dịch tễ kiểm dịch động thực vật (SPS) Việt Nam - SPS biện pháp an toàn dịch bệnh động thực vật, an toàn thực phẩm thương mại nông sản quốc tế. Theo Nam, nay, 7, SPS Việt Nam phối hợp sở đào tổ chức diễn đàn, Trường Cao đẳng Quảng Nam đại diện khu vực miền Trung. Tại diễn đàn, thành viên thông cam kết SPS hiệp định thương mại EVFTA; yêu cầu thị trường EU nhập khẩu nông sản Việt Nam tình hình mới, vấn đề an toàn thực phẩm, kiểm dịch nông sản thương mại quốc tế. Ông Ngô Xuân Nam khẳng định Việt Nam quốc gia giới sản xuất trái cây, rau củ giới sản xuất được. Đây lợi nông nghiệp Việt Nam lợi Việt Nam thể xuất khẩu sản phẩm nông nghiệp đi giới. Phát biểu đào nhân lực phục vụ phát triển nông nghiệp bền vững, PGS.TS. Vũ Thị Phương Anh - Hiệu trưởng Trường Cao đẳng Quảng Nam - tiếp tục hoàn thiện nghiên cứu ban hành sách mới, thiết thực, đột phá nâng hiệu công tác đào nhân lực phục vụ phát triển nông nghiệp bền vững. Bà Phương Anh đi liền khai thác hiệu tài nguyên thiên nhiên, thiểu ô nhiễm môi trường, gắn giải quyết vấn đề xã hội làm, dịch cấu kinh tế, bảo đảm vững an ninh lương thực quốc gia. Bên cạnh đó, xây dựng chương trình đào tạo, giải pháp kỹ thuật nông dân phục vụ nhu cầu giao công nghệ, ứng dụng tiến kỹ thuật phát triển nông nghiệp hữu cơ, nông nghiệp xanh, đặc biệt nông nghiệp công nghệ cao; đào nhân lực nông nghiệp 4.0. Hiệu trưởng Trường Cao đẳng Quảng Nam khẳng định phát triển nông nghiệp bền vững, tiên đào nhân lực đảm bảo chất phục vụ phát triển nông nghiệp bền vững. Dù địa phương lao động dồi dào, nhưng nhân lực vẫn đáp ứng yêu cầu phát triển nông nghiệp bền vững thực tế sản xuất nông nghiệp. \"Để khắc phục tình trạng đòi thực hiện đồng giải pháp đào nhân lực đáp ứng phát triển nông nghiệp bền vững. Đặc biệt mạng công nghiệp 4.0 tác động thay đổi giới tư duy, phương thức sản xuất động hóa, giao thương, liên kết xa... nhân tố nhân lực đóng vai trò then chốt, quyết định\", Hiệu trưởng Trường Cao đẳng Quảng Nam phát biểu.\n",
            "This is \"['Giáo dục']\" news, you predicted it is \"['Pháp luật']\" news\n",
            "------------------------------------------------------------\n",
            "------------------------------------------------------------\n",
            "Tham dự lễ Nguyễn Đình Khang, Chủ tịch Tổng LĐLĐ Việt Nam; Ngọ Duy Hiểu, Phó Chủ tịch Tổng LĐLĐ Việt Nam; Thái Thu Xương, Phó Chủ tịch Tổng LĐLĐ Việt Nam; Phan Thị Thắng, Phó Chủ tịch UBND TP HCM; Thái Thị Bích Liên, Phó Trưởng ban tổ chức Thành ủy TP HCM; Trần Trọng Đạo, quyền Hiệu trưởng Trường ĐH Tôn Đức Thắng tập thể lãnh đạo trường. Theo Quyết định 4826/QĐ-TLĐ, Tổng LĐLĐ Việt Nam công TS Vũ Anh Đức, Uỷ viên Đoàn Chủ tịch, Trưởng ban Tổ chức Tổng LĐLĐ Việt Nam Hội đồng Trường ĐH Tôn Đức Thắng bầu chức Chủ tịch Hội đồng trường, nhiệm kỳ 2021-2026, 15-6-2022. Đồng thời, Quyết định 4828/QĐ-TLĐ, TS Đức chức Trưởng ban Tổ chức Tổng LĐLĐ Trường ĐH Tôn Đức Thắng nhiệm vụ. Trong thời gian thực hiện nhiệm vụ phân công, TS Đức thực hiện quyền trách nhiệm Uỷ viên Đoàn Chủ tịch Tổng LĐLĐ quy chế Đoàn Chủ tịch. TS Đức hưởng lương phụ chức vụ hệ 1.05. Phát biểu lễ, Nguyễn Đình Khang, TS Vũ Anh Đức nhiệm vụ Trường ĐH Tôn Đức Thắng bổ sung cán năng lực, kinh nghiệm cường trường. TS Đức lãnh đạo, cán trường khắc phục sai phạm, khuyết trường thời gian qua. Từ đó, Trường ĐH Tôn Đức Thắng ổn định, phát triển. Trước đó, 4-2021, Hội đồng trường Trường ĐH Tôn Đức Thắng họp phiên nhất, bầu PGS-TS Vương Đức Hoàng Quân làm Chủ tịch Hội đồng trường, nhiệm kỳ 2020-2025. Sau Quân rút, Chủ tịch Hội đồng trường.\n",
            "This is \"['Giáo dục']\" news, you predicted it is \"['Pháp luật']\" news\n",
            "------------------------------------------------------------\n",
            "------------------------------------------------------------\n",
            "Cơ quan Cảnh sát tra - Công an Cầu Giấy, Hà Nội tra hai trường hợp thi hộ kỳ thi đánh giá năng lực trường Đại học Ngoại Ngữ - Đại học Quốc gia Hà Nội trường THPT chuyên Sư phạm Hà Nội. Thông thấy, 9h 3-7, phòng thi 200, thi đánh giá năng lực tiếng Nhật trường THPT chuyên Sư phạm Hà Nội, lực An ninh - Công an Cầu Giấy phối hợp Hội đồng thi phát hiện thí sinh báo danh 36145 Phạm Văn T., sinh 28-4-1979 dấu hiệu sử dụng giấy chứng minh nhân dân giả thi. Ngay phát hiện vụ việc, quan công an Phạm Văn T. Vũ Duy H., SN 1990, trú Hoàng Mai, Hà Nội. H. thuê thi hộ Phạm Văn T. giá 4.000.000 đồng. Trước đó, 14 15-2, lực công an phát hiện 1 trường hợp sử dụng cước công dân Nguyễn Thị P.A, SN 2000 thi hộ. Thực tế, Nguyễn Thị Q.N, SN 2002, hiện sinh viên trường đại học ngoại ngữ. Hiện hai trường hợp tra, xử lý quy định pháp luật. Liên quan công tác đảm bảo an ninh an toàn Kỳ thi THPT Quốc gia 2022 diễn 2 7 8-7, Thượng tá Nguyễn Hào Hùng - Phó trưởng Công an Cầu Giấy thông tin, đơn vị đặc biệt trọng công tác an ninh, phòng chống, ngăn chặn hành vi gian lận thi cử. \"Chúng giao Đội An ninh chuẩn phương án đặc biệt trọng phòng chống, ngăn chặn gian lận trình diễn Kỳ thi THPT Quốc gia 2022. Bởi hiện nay, đối tượng sử dụng thiết công nghệ tinh vi. Vì vậy, kỳ thi diễn an toàn, phân đánh giá thực chất năng lực thí sinh, công tác đấu tranh hành vi gian lận\". Đại úy Đỗ Hoàng Thắng – Phó đội trưởng Đội An ninh, Công an Cầu Giấy biết, thi hộ Kỳ thi THPT Quốc gia thấp, thí sinh kiểm tra nhân thân, chủ yếu hành vi gian lận liên quan sử dụng thiết công nghệ tai siêu nhỏ, máy gắn sim thiết liên lạc truyền phát thông ngược lại, camera siêu gắn kính… Do vậy, thời gian diễn Kỳ thi THPT Quốc gia 2022, Đội An ninh quán triệt 100% cán chiến sĩ diện thiết công nghệ thể phục vụ gian lận thi cử; tập huấn cán chiến sĩ tuyên truyền cán coi thi dấu hiệu nghi vấn sử dụng thiết gian lận; Tăng cường nắm tình hình gian mạng, phát hiện hội mua thiết công nghệ phục vụ gian lận thi cử; rà soát tòa tầng khu vực thi phòng ngừa đối tượng sử dụng thiết soi chiếu xa, lộ lọt đề thi ngoài, giúp đỡ thí sinh phòng thi… Trong trình diễn kỳ thi, đơn vị thành lập tổ công tác hóa trang, mật phục thi, phát hiện cá nhân, giúp sức gian lận thi cử. \"Chúng trao đổi Hội đồng thi, phát hiện trường hợp nghi vấn gian lận thi cử thí sinh thi tiếp, ảnh hưởng thí sinh phòng. Vì thực tế tuổi, xử lý trường hợp thể tâm lý khác, ảnh hưởng kết kỳ thi. Mặt khác, đảm bảo công tác bí mật, thông phát tán đối tượng giúp sức khả năng tiêu hủy vật chứng. Do vậy, trường hợp nghi vấn này, bóc tách tra, xác minh thi\" - Đại úy Đỗ Hoàng Thắng biết. Thượng tá Nguyễn Hào Hùng khẳng định, tất trường hợp gian lận thi cử quan tra xác minh, xử lý tùy độ chí thể khởi tố hình răn đe. * Các thiết công nghệ thể sử dụng gian lận thi cử:\n",
            "This is \"['Pháp luật']\" news, you predicted it is \"['Giáo dục']\" news\n",
            "------------------------------------------------------------\n",
            "------------------------------------------------------------\n",
            "Theo Thanh Niên, 5.7, Bộ trưởng Bộ GD-ĐT Nguyễn Kim Sơn ký Quyết định 1886/QĐ-BGDĐT thi hành kỷ luật đối Nguyễn Đức Thái, Bí thư Đảng ủy, Chủ tịch Hội đồng thành viên Công ty TNHH thành viên Nhà xuất Giáo dục Việt Nam, hình thức cảnh cáo. Theo tin, Nguyễn Đức Thái khuyết điểm, vi phạm sách pháp luật Nhà đạo Nhà xuất Giáo dục Việt Nam tổ chức thực hiện sản xuất, kinh doanh, biên soạn, in ấn, kê khai, phát hành sách giáo khoa mới. Đồng thời, trách nhiệm lãnh đạo, đạo Đảng ủy, Ủy ban Kiểm tra Đảng ủy kiểm tra, giám sát tổ chức thực hiện nghị quyết... Trước đó, Bộ trưởng GD-ĐT Nguyễn Kim Sơn biết, quan chức năng tra hoạt động Nhà xuất Giáo dục Việt Nam - đơn vị nắm thị phát hành sách. Nhà xuất Giáo dục Việt Nam Bộ GD-ĐT đại diện sở hữu 100% vốn. Đơn vị nhiệm vụ tổ chức biên soạn, biên tập, in ấn, phát hành sách giáo khoa ấn phẩm phục vụ giảng dạy, học tập. Với vốn lệ 596 tỉ đồng, doanh nghiệp hoạt động mô hình công ty TNHH thành viên. Là doanh nghiệp nước, quy định, đơn vị công bố thông định kỳ, chiến lược phát triển; kế hoạch sản xuất, đầu tư; báo cáo tài niên năm, báo cáo chế độ lương thưởng... Tuy nhiên, Nhà xuất Giáo dục Việt Nam - đơn vị 3 tuyên bố nắm 60 - 70% thị phát hành sách - công bố báo cáo tài 2020, 2021; kế hoạch kinh doanh 2021, 2022 website lẫn quan quản lý vốn Bộ GD-ĐT. Giai đoạn 2016 - 2020, xuất công bố báo cáo trên, tóm lược liệu tài chính. Mới đây, Nhà xuất Giáo dục Việt Nam công bố \"Báo cáo đánh giá tình hình hoạt động sản xuất, kinh doanh 2021\". Theo đó, 2021, Nhà xuất Giáo dục Việt Nam phát hành 164,6 triệu sách giáo khoa, 140% kế hoạch. Tổng doanh thu 1.828,3 tỉ đồng. Trong đó, doanh thu chủ yếu phân phối sách giáo khoa khoản doanh thu liên quan hoạt động sản xuất kinh doanh. Cũng báo cáo, lợi nhuận thuế xuất 287,4 tỉ đồng, 250% kế hoạch quan chủ quản Bộ GD-ĐT giao. Báo cáo nêu: \"Nhà xuất tỷ suất lợi nhuận thuế/vốn chủ sở hữu bình quân 39,9% tỷ suất lợi nhuận thuế/ tổng tài sản 17,9%, hoạt động sản xuất kinh doanh 2021 hiệu quả\". 7 công ty hoạt động lĩnh vực tương Nhà xuất Giáo dục Việt Nam nắm quyền chi phối báo lãi, tổng cộng 46 tỉ đồng.\n",
            "This is \"['Giáo dục']\" news, you predicted it is \"['Pháp luật']\" news\n",
            "------------------------------------------------------------\n",
            "------------------------------------------------------------\n",
            "Bộ Giáo dục Đào (GD&ĐT) Công văn 3175/BGDĐT-GDTrH gửi Sở GD&ĐT hướng đổi phương pháp dạy học kiểm tra, đánh giá môn Ngữ văn trường phổ thông. Theo đó, thực hiện đạo Bộ GD&ĐT, đổi phương pháp dạy học kiếm tra, đánh giá môn Tiếng Việt tiểu học môn Ngữ văn trung học kết định. Để tiếp tục khắc phục tình trạng dạy học thuyết giảng, đọc chép yêu cầu văn mẫu, Bộ GD&ĐT yêu cầu Sở GD&ĐT đạo sở giáo dục phổ thông, giáo dục xuyên thực hiện nội dung đổi phương pháp dạy học, kiểm tra đánh giá môn Ngữ văn. Bộ GD&ĐT yêu cầu Sở GD&ĐT cường phát huy tích cực, chủ động, học sinh trình học tập môn Ngữ văn, thời gian hoạt động thực hành, vận dụng, trình bày, thảo luận rèn luyện kĩ năng đọc, viết, nói, cảm thụ thẩm mĩ yêu cầu, độ lớp học, học. Trong trình dạy học, giáo viên giao nhiệm vụ học tập ràng, phù hợp khả năng học sinh, nêu cụ thể yêu cầu sản phẩm học sinh hoàn thành, trọng kiểm tra, đánh giá, hỗ trợ, động viên học sinh thực hiện nhiệm vụ học tập. Song song đó, Sở xây dựng kế hoạch dạy tổ chức dạy học môn Ngữ văn hướng cường rèn luyện học sinh phương pháp đọc, viết, nghe. Hướng học sinh thực hành, trải nghiệm tiếp vận dụng kiến thức tiếng Việt, văn học thông hoạt động học lớp học. Đối dạy đọc, giáo viên xác định mục đích giúp học sinh đọc đọc văn bản. Thông hình thành phẩm chất, nhân học sinh. Coi ngữ liệu phương tiện ngữ liệu thức hình thành, phát triển năng lực đọc văn bản. Giáo viên thể gợi ý, giúp học sinh đọc phân tích, bình giảng áp thay suy học sinh. Tránh đọc chép yêu cầu học sinh ghi kiến thức máy móc. Đối dạy viết, trọng yêu cầu học sinh hình thành tưởng, trình bày tưởng mạch lạc, tạo, sức thuyết phục rèn luyện tư viết kiểu văn bản. Tập trung yêu cầu hướng học sinh thực hiện lập văn bản. Bộ GD&ĐT nhấn đánh giá học sinh môn Ngữ văn đảm bảo nguyên tắc phát huy mặt tích cực cá tính, trí tưởng tượng, năng lực ngôn ngữ, năng lực văn học, năng lực tư hình tượng tư logic học sinh. Giáo viên tập trung thiết kế sử dụng câu hỏi, tập yêu cầu học sinh vận dụng kiến thức học kĩ năng đọc, viết, nói, bối cảnh ngữ liệu mới. Tạo hội học sinh khám phá tri thức mới, đề xuất tưởng sản phẩm mới. Gợi liên tưởng, tưởng tượng, huy động vốn sống trình đọc, viết, nói, nghe. Trong đánh giá kết học tập học kì, học, học, giáo viên văn học sách giáo khoa ngữ liệu xây dựng đề kiểm tra đọc viết đánh giá xác năng lực học sinh, khắc phục tình trạng học sinh học chép nội dung tài liệu sẵn. Trong nội dung đổi mới, Bộ GD&ĐT nhấn khuyến khích giáo viên xây dựng sử dụng đề kiểm tra, đánh giá phát huy khả năng học sinh. Xây dựng công cụ đánh giá hạn chế chủ quan, cảm chấm. Khi xét, đánh giá sản phẩm học sinh, giáo viên tôn trọng khuyến khích nghĩ, cảm học sinh nguyên tắc vi phạm chuẩn mực đạo đức, văn hóa pháp luật. Nhằm cường quản lý, đạo hoạt động dạy học môn Ngữ văn, Sở GD&ĐT, phòng GD&ĐT xét, góp kế hoạch dạy học môn Ngữ văn trường hướng Bộ. Theo dõi, giám sát trình thực hiện đổi dạy học kiểm tra, đánh giá môn Ngữ văn kiện thuận lợi, khuyến khích giáo viên tích cực, chủ động, dạy học kiểm tra, đánh giá. Bên cạnh đó, tập trung đổi sinh hoạt chuyên môn tổ, chuyên môn đối môn Ngữ văn dựa Nghiên cứu học. Tăng cường hoạt động dự giáo viên hội chia sẻ kinh nghiệm dạy học môn Ngữ văn định hướng phát triển phẩm chất, năng lực học sinh. Tăng cường hoạt động trao đổi, chia sẻ kinh nghiệm xây dựng kế hoạch dạy học môn Ngữ văn thông hội nghị, hội thảo, học tập, giao lưu trường đáp ứng yêu cầu Chương trình giáo dục phổ thông môn Ngữ văn Chương trình Giáo dục phố thông 2018. Khánh Linh\n",
            "This is \"['Pháp luật']\" news, you predicted it is \"['Giáo dục']\" news\n",
            "------------------------------------------------------------\n",
            "------------------------------------------------------------\n",
            "Tối 14-7, Trần Nam, Trưởng phòng Truyền thông Quan hệ doanh nghiệp - Trường ĐH Khoa học Xã hội Nhân văn (ĐHQG TP HCM), thông vụ sinh viên trường lén vệ sinh sở Thủ Đức. Theo đó, Phòng Công tác sinh viên xác sinh viên liên hệ trình báo lén vệ sinh 12-7 qua.  Chiếc điện thoại lén phòng vệ sinh. Ảnh cắp clip Chuyên viên trực công tác xử lý thừa nôn nóng sinh viên trình báo Ban Quản lý sở Thủ Đức cung chứng giúp trường cường công tác an ninh xử lý trình báo hợp lý, thái độ phù hợp. Cụ thể, quy trình tiếp phối hợp đơn vị liên quan giải quyết, hỗ trợ sinh viên. Chuyên viên sai sót mong gửi lỗi sinh viên. Trường ĐH Khoa học Xã hội Nhân văn đề bảo đảm an ninh, trật khuôn viên tôn trọng tư, xu hướng phát triển học. Đây tiếc. Hiệu trưởng trường yêu cầu liên quan báo cáo xử lý nghiêm khắc.  Phản ánh sinh viên Facebook KTX ĐHQG Confessions Trước đó, Facebook KTX ĐHQG Confessions đăng tải viết ẩn danh nam sinh lén điện thoại vệ sinh. Nam sinh ghi chứng phản ánh Phòng Công tác sinh viên trường. Nhưng, tiếp vụ thái độ thờ chất vấn ngược. Sinh viên phản ánh: \"Khi thầy đoạn clip chứng, thầy vặn rằng: \"Em giơ máy vậy, chả nhẽ định vô toilet lén sao?\". Lúc đó, đáp dại đồi bại biến thái vác mặt thú tội cả. Đến thầy thể ngược câu này. Thầy bảo Ban quản lý sở Thủ Đức lầu 3 trích xuất camera. Mình thử cửa phòng khóa chặt trong\". Nguồn: https://nld.com.vn/giao-duc-khoa-hoc/sinh-vien-bi-quay-len-trong-nha-ve-sinh-chuyen-vien-xu-ly-t...Nguồn: https://nld.com.vn/giao-duc-khoa-hoc/sinh-vien-bi-quay-len-trong-nha-ve-sinh-chuyen-vien-xu-ly-trinh-bao-chua-hop-ly-2022071419433742.htm \n",
            "This is \"['Pháp luật']\" news, you predicted it is \"['Giáo dục']\" news\n",
            "------------------------------------------------------------\n",
            "------------------------------------------------------------\n",
            "3 hình thức công Social Engineering Social Engineering (tấn công phi kỹ thuật) hình thức công đối tượng công tác động trực tiếp tâm lý đánh cắp thông tin, liệu cá nhân tổ chức. Đối tượng công thể mạo danh nhân viên, kỹ thuật viên, công an, nghiên cứu... đề nghị cung thông xác thực thực hiện đó. Nhóm tặc câu thu thập thông dùng, thu thập thông nguồn, đối tượng thể liên hệ tổ chức dựa thông đánh cắp độ cậy. Theo chuyên gia Trung tâm Giám sát an toàn gian mạng quốc gia (NCSC), Cục An toàn thông tin, Bộ Thông Truyền thông, hình thức công Social Engineering tiêu biểu thể Phishing, Vishing Smishing. Phishing hình thức công phổ biến nhất. Các công Phishing sử dụng email trang web độc hại thu thập thông cá nhân giả mạo quan, tổ chức, ngân hàng, công ty cung dịch vụ thiết yếu điện, đại diện quan chức năng... Đối tượng thể gửi email giả mạo thông báo nguy hại yêu cầu cung thông thể thông đánh cắp tài khoản. Các công Phishing thể bắt nguồn, lợi dụng uy tín hình tổ chức nhau: tổ chức thiện, ngân hàng, chứng khoán kiện bầu cử trị, lo ngại kinh tế, dịch bệnh thiên tai... Theo ghi NCSC, đầu 2022 nay, 2.624 công Phishing cảnh báo trang canhbao.ncsc.gov.vn Vishing hình thức công sử dụng giọng nói, kết hợp hình thức đánh lừa nạn nhân gọi điện thoại cung sẵn tiết lộ thông cá nhân. Nhóm công lợi dụng tưởng lỗ hổng năng bảo mật điện thoại thực hiện công. Tấn công Vishing nâng thể thực hiện thông gọi Internet Protocol (VoIP) phép đối tượng dàng mạo danh gọi. Smishing hình thức công thông SMS. Tin nhắn văn thể chứa liên kết trang web độc hại, địa chỉ, email điện thoại. Khi nhấn liên kết thể động cửa sổ trình duyệt. Việc kết hợp gọi, email, SMS website khả năng trở thành nạn nhân hoạt động lừa đảo. Để giúp phòng hình thức công Social Engineering, đặc biệt công Phishing, chuyên gia NCSC hướng thức thư điện tử nhắn lừa đảo . Với thư điện tử lừa đảo, đối tượng sử dụng địa email email quan, tổ chức hợp pháp thay đổi ký địa email. Bên cạnh đó, công sử dụng chào \"Kính gửi Quý hàng\" \"Thưa Ông/Bà\", thông liên hệ dấu hiệu giúp email lừa đảo. Một quan, tổ chức cậy gọi cụ thể cung thông liên hệ họ. Người thể thư điện điện tử lừa đảo liên kết giả mạo. Các email liên kết liên kết đính kèm khớp nội dung email buộc nhấn link cung thông khả năng dấu hiệu trang web giả mạo. Đối tượng thể sử dụng dịch vụ rút ngắn URL thay đổi ký liên kết đó. Về file đính kèm, email chứa file đính kèm yêu cầu tải file thể chứa mềm độc hại. Đối tượng lợi dụng cảm giác hoang thuyết phục tải file đính kèm kiểm tra trước. Lỗi tả, cấu trúc ngữ pháp định dạng quán dấu hiệu email lừa đảo. Tương thư điện tử giả mạo, nhắn lừa đảo phiền toái. Các đối tượng gửi nhắn SMS nội dung như: thông báo trúng thưởng, thông báo tài khoản ngân hàng cố giải quyết thời gian ngắn. Đối tượng thể sử dụng thương hiệu, ngân hàng (SMS brandname) gắn kèm liên kết trang web giả mạo, liên kết trang web thức thương hiệu, ngân hàng. Không thế, đối tượng công thể giả mạo công an gửi nhắn truy nã, lệnh bắt yêu cầu cung cước công dân, điện thoại… thực hiện hướng chúng. Chuyên gia NCSC lưu ý, quan chức năng liên hệ thông nhắn, gọi bất kỳ hình thức online nào. Do đó, gọi giả nhân viên bưu điện gọi điện thông báo bưu phẩm; nhân viên viễn thông gọi điện thông báo nợ cước; nhân viên điện lực gọi điện thông báo nợ cước, dọa cắt điện… tuyệt đối cung thông cá nhân, điện thoại, địa ở… Đặc biệt, đối tượng tiền tài khoản định.\n",
            "This is \"['Giáo dục']\" news, you predicted it is \"['Pháp luật']\" news\n",
            "------------------------------------------------------------\n",
            "------------------------------------------------------------\n",
            "Nguồn: https://baogiaothong.vn/trac-nghiem-thong-minh-den-may-cung-chua-chac-tra-loi-dung-tron-bo-cau-h...Nguồn: https://baogiaothong.vn/trac-nghiem-thong-minh-den-may-cung-chua-chac-tra-loi-dung-tron-bo-cau-hoi-nay-d556840.html \n",
            "This is \"['Giáo dục']\" news, you predicted it is \"['Pháp luật']\" news\n",
            "------------------------------------------------------------\n",
            "------------------------------------------------------------\n",
            "Sau tra cứu kỳ thi nghiệp THPT 2022, thí sinh lưu quan trọng đảm bảo quyền lợi quy định. Cụ thể, phản ánh thi mình, thí sinh thể đơn phúc khảo gửi đơn vị đăng ký dự thi. Thời gian nộp đơn phúc khảo 24/7 - 3/8/2022. Các Hội đồng thi tổ chức phúc khảo thi, hoàn thành chậm 14/8/2022. Đối chấm phúc khảo thi luận, Bộ GD&ĐT quy định Ban Làm phách cử tối thiểu 03 thực hiện phách thi thí sinh đơn phúc khảo. Người phách ly triệt thực hiện nhiệm vụ phách hoàn thành chấm phúc khảo. Việc phách thi Ban Làm phách thực hiện quy trình phách 1 vòng Phần mềm Hỗ trợ chấm thi Bộ GD&ĐT cung phách thủ công; dán kín phách cũ đánh phách bàn giao túi thi phách Ban Thư ký Hội đồng thi. Ban Phúc khảo thi luận tổ chức chấm thi hướng chấm, bảo đảm nguyên tắc 02 cán chấm thi chấm độc lập thi. Bộ GD&ĐT biết, chấm phúc khảo thi trắc nghiệm thực hiện khoản 5 Điều 33 Quy chế thi. Ban Phúc khảo thi trắc nghiệm thông tài khoản phúc khảo mềm Bộ GD&ĐT gửi email qlthi@moet.gov.vn (việc email Bộ GDĐT thực hiện khu vực chấm phúc khảo). Ban Phúc khảo thi trắc nghiệm CD chứa liệu phúc khảo (tệp Excel chứa danh sách thí sinh đề nghị phúc khảo môn thi), CD chứa thông chấm (của Ban Chấm thi trắc nghiệm bàn giao Hội đồng thi), máy quét, máy chủ máy trạm, … Hội đồng thi. Ban Phúc khảo thi trắc nghiệm nhập liệu phúc khảo Phần mềm, thực hiện kiểm tra thi thí sinh đề nghị phúc khảo đối chiếu câu Phiếu TLTN thí sinh ảnh quét kết dạng sửa lỗi Phần mềm Chấm thi trắc nghiệm lưu trình chấm thi. Nếu phát hiện sai sót thực hiện chỉnh mềm chấm thi trắc nghiệm chấm xuất báo cáo phúc khảo. Sau chấm xong, Ban Phúc khảo thi trắc nghiệm thực hiện xuất liệu báo cáo (CD4). Thời hạn gửi đĩa liệu kết phúc khảo thi trắc nghiệm CD4 hoàn thành công tác phúc khảo thi trắc nghiệm thực hiện Lịch Công tác Kỳ thi nghiệp THPT 2022. Khi hoàn thành công tác chấm phúc khảo, niêm phong ổ đĩa máy chủ chứa liệu chấm thi trắc nghiệm giám sát Trưởng ban Phúc khảo thi trắc nghiệm, tra, công an; niêm phong thi trắc nghiệm, thi luận phúc khảo kèm phách. KL\n",
            "This is \"['Pháp luật']\" news, you predicted it is \"['Giáo dục']\" news\n",
            "------------------------------------------------------------\n",
            "------------------------------------------------------------\n",
            "Thời gian qua, Bắc Giang quan tâm nghiên cứu, ứng dụng KH&CN nâng năng suất, chất lượng, giá trị sản phẩm, lĩnh vực nông nghiệp, tập trung vải. Tại Bắc Giang, diện tích trồng vải thiều trì  trì hằng 29.000 ha. Năm thời tiết thuận lợi vải thiều sinh trưởng phát triển tốt, tỉ lệ hoa đậu cao, kiểm soát chặt chẽ mã trồng chất sản ước (trên 180.000 tấn. Tuy nhiên, Nguyễn Thanh Bình, Giám đốc Sở KH&CN Bắc Giang, sản xuất tiêu thụ vải thiều Bắc Giang hạn chế vải thiều mùa vụ cao, sản lớn, thời gian thu hoạch ngắn, chất vải thiều đồng địa phương công tác bảo quản, đóng gói, vận tiêu thụ tương đối khăn. Hiện nay, vải thiều bảo quản dạng khô, tươi, đóng hộp. Tuy nhiên, bảo quản vải khô mẫu mã đẹp (mới sấy khô phương pháp sấy thủ công, sấy truyền thống sử dụng nhiệt than, củi). Do đó, vải thiều Bắc Giang chủ yếu xuất thị trường Trung Quốc, thị trường Việt Nam mặt địa lý thị trường quốc tế châu Âu, châu Mỹ... vải thiều Bắc Giang dần tiếp cận rộng, phân khúc hàng. Đối chế biến cùi vải đóng lon, hiện địa bàn tỉnh 2 công ty đầu tư công nghệ chế biến cùi vải đóng lon, chế biến ép sản hạn chế, 2.000-3.000 nguyên liệu/năm (cấp đông sản xuất quanh năm). Việc nâng công suất khăn công đoạn sơ chế ban đầu hoàn toàn thủ công (bóc vỏ, tách cùi, cắt cuống) công nghệ, thiết thay doanh nghiệp hàng trăm công nhân thủ công công đoạn này. Tại tọa đàm, kiến thảo luận giải pháp KH&CN, giới thiệu công nghệ bảo quản khắc phục hạn chế hiện nay. Một công nghệ giới thiệu công nghệ sấy lạnh đa năng chế biến, bảo quản thực phẩm. Nhờ hệ thống UV diệt khuẩn khí buồng sấy công nghệ tuần hoàn kín, công nghệ giúp tối đa khả năng nhiễm khuẩn, nấm mốc khí, môi trường, thiểu tối đa tổn thất năng lượng. Hệ thống tách ẩm dàn ngưng tụ độc lập, hiệu suất cao, phụ kiện môi trường kiện sấy giúp nguyên màu, mùi vị sản phẩm thể áp dụng nông sản... Theo PGS.TS. Nguyễn Đình Tùng, Viện Nghiên cứu thiết kế, chế máy nông nghiệp (Bộ Công Thương), sấy công nghệ tiết kiệm năng yếu tố quan trọng, quyết định giá trị gia tăng. Do quan chuyên môn, địa phương nghiên cứu, lựa mô hình phù hợp lực lao động địa phương. Với chất vải thiều Bắc Giang hiện nay, dân sử dụng phương pháp sấy đối lưu cưỡng sử dụng lò đốt gián tiếp nhiên liệu sinh khối tác nhân sấy tiết kiệm nhiên liệu, tận dụng lá, cành thu hoạch nhiệt. Ông Phạm Thế Dũng, Phó Cục trưởng phụ trách Cục Ứng dụng Phát triển công nghệ rằng, Bắc Giang xác định khâu bảo quản chế biến nghĩa quan trọng chủ động sản xuất tiêu thụ; giải quyết toán sản lượng, áp lực thu hoạch rộ; rủi ro sản xuất, khắc phục hiện tượng mùa rớt giá. Đây tiền đề quan trọng phát huy chuỗi liên kết sản xuất, tiêu thụ phát triển thương hiệu sản phẩm. Trong thời gian tới, Cục Ứng dụng Phát triển công nghệ phối hợp Sở KH&CN Bắc Giang xây dựng mô hình công nghệ sấy tiên tiến đa dạng công nghệ phù hợp đối tượng sở triển khai nhân rộng mô hình. Đồng thời đề nghị tỉnh Bắc Giang xét hàng khoa học nghiên cứu cứu giải pháp, công nghệ cụ thể giải quyết tồn nâng giá trị vải thiều, nghiên cứu, lai vải trái vụ kéo thời gian thu hoạch vải; nghiên cứu công nghệ, thiết phụ trợ phục vụ dây chuyền sản xuất cùi vải đóng lon, vải như: Công nghệ bóc vỏ quả; thiết bóc cùi vải... Tiếp tục nghiên cứu cải tiến công nghệ bảo quản vải tươi nâng công suất, thời gian bảo quản đáp ứng xuất khẩu đường biển. Hoàng Giang\n",
            "This is \"['Pháp luật']\" news, you predicted it is \"['Giáo dục']\" news\n",
            "------------------------------------------------------------\n",
            "------------------------------------------------------------\n",
            "Một 1972, trụ sở Trans World Airlines (TWA) thành phố New York điện thoại đe dọa đánh bom. Kẻ giấu đòi 2 triệu USD, nhét túi du lịch tủ khóa sân bay JFK, bốn máy bay TWA nổ tung. Không dám máy bay nguy hiểm, hãng hàng bắt đầu hạ cánh tất chuyến bay kiếm bom. Chuyến bay 7, New York Los Angeles, cất cánh 15 phút phi công nhắn. Cơ trưởng máy bay trở New York vội vàng 45 hành 7 thành viên phi hành đoàn máy bay. Đến đường băng, máy bay dừng bom. Cảnh sát thành phố New York Brandy, chó chăn cừu Đức, chạy tới. Trong buồng lái, Brandy đánh hơi cặp màu đen cạnh. Chiếc cặp đánh dấu \"Phi hành đoàn\", đựng sách hướng phi công. Nhưng này, cảnh sát chất nổ C-4 phá hủy máy bay. Một thám tử Sở Cảnh sát Thành phố New York bom máy bay vô hiệu phút kích nổ. Không chuyến bay bom. Cuộc khủng hoảng ngăn chặn. Bước ngoặt câu chó hùng Brandy. Thời đó, sân bay lực cảnh sát chó đánh hơi bom. Qua chiến công Brandy, Tổng thống Richard Nixon Cục Quản lý Hàng Liên bang đơn vị chó đánh hơi bom 1972. Đầu tiên, Brandy đánh hơi. Mũi động khí, bao mùi bom, chạm quan cảm thụ mùi. Tín hiệu truyền mũi não. \"Brandy phân tích mùi quyết định ngửi chất nổ\", chức trách hay. Lawrence Myers, Phó giáo sư giải phẫu, sinh lý dược học Đại học Thú y Đại học Auburn, Brandy quyết định dựa mùi đặc trưng bom. Loài chó quan cảm thụ mùi mũi người, gấp 20-40 lần. Chó mũi nhạy cảm - nghĩa thể ngửi mùi phân tử mùi khí. Chó đánh hơi bom hoạt động bất thể chất nổ. Tại quan Hải quan Bảo vệ Biên giới Mỹ (CBP), chó giúp dõi vũ khí chất nổ thể xâm nhập quốc gia. Đội chó CBP đánh hơi kho hàng hóa cảng, hành hành lý tàu. Chó đánh hơi mặt cửa khẩu biên giới đường bộ, ngửi quanh ôtô. Nhiều chó Cục An ninh Vận tải Mỹ (TSA) sân bay. Nếu báo cáo gói hàng ngờ cố máy bay, chó đánh hơi máy bay, hành hàng hóa. Những chó TSA giám sát lối đi phà, tàu hỏa tàu điện ngầm thành phố. Cảnh sát địa phương sử dụng chó đánh hơi bom. Họ tuần tra kiện công cộng đông đúc, Thế vận hội, kiểm tra trường học vụ đánh bom. Chó quân đội TSA học đánh hơi Căn Không quân Lackland Texas. Chó bắt đầu huấn luyện 1-3 sàng lọc chụp X-quang kiểm tra. Chỉ chó ôn hòa, tòi chạy tiếng súng nhận. Theo Greg Soule, phát ngôn TSA, TSA quan hầu sử dụng chó chăn cừu Đức, chó Malinois (một chó chăn cừu Bỉ), chó Vizsla (một chó săn gốc Hungary) chó tha mồi Labrador đánh hơi bom. Bốn chó mũi thính, đánh hơi tốt, bình tĩnh đám đông lạ, đùa. Chó học kiến thức đánh hơi bom vòng hai bốn tháng. Tuy nhiên, kiểm tra đào đảm bảo kỹ năng mài giũa. Mỗi quan chương trình phong đào riêng. Ví dụ, sở đào TSA, chó học trình tự: đánh hơi khu vực, bom, đồ hoàn thành tốt. Chúng thực hiện tất môi trường giả lập ga sân bay, máy bay, tàu hỏa, tàu điện ngầm, bãi đậu xe ôtô. Huấn luyện viên mùi chất nổ mũi chó, đánh hơi thưởng. Điều lặp đi lặp lần. Tiếp theo, cún học mùi. Nếu chất nổ giấu đi chó mùi cất giấu, thưởng nữa. Mô hình tiếp tục hình thành thói quen. Chi phí đào học phí đại học. TSA 218.000 USD chi phí ban đầu chó trình huấn luyện, 158.000 USD tiếp theo. Số tiền bao lương khiển, phí đào tạo, chứng nhận, dịch vụ thú y, thức chó. Chó tập trung TSA giới hạn ca ngắn dựa khiển vật nghỉ ngơi. Khi việc, thực hành chất nổ ẩn giấu quên mùi quan trọng. Khi chó đánh hơi bom sân bay, im lặng, tiếng sủa trao đổi chó khiển. Vậy hai xảy ra? Nhờ ga sân bay máy bay giả lập sở huấn luyện TSA, sân bay chó kiếm chất nổ. Ngoài ra, giao tiếp diễn thông dây xích. Khi chó phát hiện mùi, khiển gốc mùi đó. Khi xuống, khiển mục tiêu. Việc đánh hơi bom nguy tử vong, may mắn tỷ lệ thấp. Quân đội bảo vệ chó dạy chạy khiển bom. Cũng người, chó đánh hơi bom thể nghỉ đáp ứng tiêu chuẩn công ốm già (8-9 tuổi). Huấn luyện viên tiếp \"học viên mới\". Và chó nghỉ hưu yêu động vật nuôi, sống thú cưng bình thường. Tuệ Anh (Theo Howstuffworks)\n",
            "This is \"['Pháp luật']\" news, you predicted it is \"['Giáo dục']\" news\n",
            "------------------------------------------------------------\n",
            "------------------------------------------------------------\n",
            "Từ 22/7 17h 20/8, thí sinh thực hiện đăng ký nguyện vọng trực tuyến Hệ thống hỗ trợ tuyển sinh Bộ GD&ĐT. Trong giai đoạn này, thí sinh đăng ký, chỉnh nguyện vọng giới hạn nguyện vọng đăng ký. Tuy nhiên, kết trúng tuyển nguyện vọng lọc tuyển. Từ 21/8 28/8, thí sinh xác nguyện vọng tiến hành nộp phí dựa nguyện vọng đăng ký. Thí sinh tra cứu hướng đăng ký nguyện vọng đại học trực tuyến 2022 Hệ thống Bộ GD&ĐT sau. Bước 1: Thí sinh truy cập hệ thống hỗ trợ tuyển sinh Bộ GDĐT địa chỉ: https://thisinh.thithptquocgia.edu.vn/ Bước 2: Tại giao diện trang chủ, thí sinh nhập thông CMND/CCCD; mật khẩu mã xác thực \"ĐĂNG NHẬP\" hệ thống. Bước 3: Tại giao diện Hệ thống, thí sinh \"ĐĂNG KÝ THÔNG TIN XÉT TUYỂN SINH\" (Hiện hệ thống thí sinh đăng ký thử nghiệm). Bước 4: Thí sinh kiểm tra thông mục \"Đối tượng ưu tiên\", xác chỉnh sửa. Bước 5: Thí sinh kéo bấm mục \"THÊM NGUYỆN VỌNG\". Bước 6: Thí sinh bắt đầu điền thông ô tương ứng. Ở mục \"Thứ NV\", thí sinh NV1, NV2, NV3. Ví dụ, thí sinh Trường Đại học FPT NV1 nhập 1 ô NV, nhập FPT ô trường. Thí sinh ngành học đăng ký ô ngành. Ví dụ: Thí sinh học ngành công nghệ thông (Mã ngành 7480202). Thí sinh tiếp tục phương thức xét tuyển. Ví dụ: Thí sinh xét học bạ Trường Đại học FPT \"Xét kết học tập THPT\" (xét học bạ) mục \"Phương thức xét tuyển\". Ở mục tổ hợp môn, thí sinh lựa tổ hợp xét tuyển KHTN KHXH. Bước 7: Thí sinh kiểm tra thông bấm \"CHỌN\". Bước 8: Ở màn hình hiển thị kết Thêm nguyện vọng, thí sinh kiểm tra thông bấm \"LƯU THÔNG TIN\". Tương tự, thí sinh thực hiện đăng ký nguyện vọng 2, 3, 4 (nếu thiết) tương tự. Phương Liên\n",
            "This is \"['Pháp luật']\" news, you predicted it is \"['Giáo dục']\" news\n",
            "------------------------------------------------------------\n",
            "------------------------------------------------------------\n",
            "Ngày 27/7, đạo Bộ KH&CN, Báo VnExpress tổ chức họp báo giới thiệu kiện Ngày hội Trí tuệ nhân Việt Nam 2022. Theo Ban Tổ chức, Ngày hội Trí tuệ nhân Việt Nam kiện niên, tổ chức đầu tiên 2018. Sau 4 năm, hội trở thành kiện khoa học cậy, thu hút quan tâm đông đảo quan ban hành sách, quản lý, tập đoàn công nghệ, đơn vị nghiên cứu... thúc đẩy phát triển hệ sinh thái trí tuệ nhân Việt Nam. Năm nay, hội chủ đề \"AI phục hồi kinh tế, định hình tương lai\" dự kiến tổ chức 22/9 Hà Nội, tham dự lãnh đạo Chính phủ, đại diện bộ, ban, ngành, hiệp hội, viện, trường, start-up, tập đoàn, doanh nghiệp lĩnh vực công nghệ, chuyên gia đầu tư quốc tế. Trả câu Báo Điện tử Chính phủ sở pháp lý AI, Lý Hoàng Tùng, Phó Vụ trưởng Vụ Công nghệ (Bộ KH&CN) biết, thời gian qua, Chính phủ đạo bộ, ngành chuẩn hành lang pháp lý kiện phát triển công nghệ AI Việt Nam. Cuối 2020, Thủ tướng Chính phủ ký Quyết định 2117/QĐ-TTg ban hành danh mục công nghệ ưu tiên nghiên cứu, phát triển ứng dụng chủ động tham gia Cách mạng công nghiệp tư. Ở lĩnh vực công nghệ số, danh mục công nghệ ưu tiên gồm: Trí tuệ nhân tạo; Internet vạn vật; công nghệ phân tích liệu lớn; công nghệ chuỗi khối; điện toán đám mây… Trong đó, Bộ KH&CN xác định AI công nghệ ưu tiên hàng đầu. Tháng 1/2021, Bộ KH&CN tham mưu Chính phủ ban hành Chiến lược quốc gia nghiên cứu, phát triển ứng dụng Trí tuệ nhân 2030. Việc xây dựng liệu nhân lực Chính phủ giao Bộ: Quốc phòng, Công an, GD&ĐT, KH&CN, Viện Hàn lâm KH&CN Việt Nam... sẵn sàng đáp ứng nhu cầu phát triển thực tế. Về mình, Chiến lược ban hành, Bộ KH&CN ban hành kế hoạch triển khai phát triển công nghệ AI quốc gia. Đến quảng bá, truyền thông AI triển khai rộng rãi, giúp dân AI đóng góp sống. \"Trong thời gian tới, Bộ KH&CN tiếp tục triển khai chiến lược tập trung phát triển nhân lực chất AI Việt Nam, xây dựng sở hạ tầng liệu đạo Chính phủ\", Lý Hoàng Tùng hay. Ông Lý Hoàng Tùng báo cáo sẵn sàng AI phủ (Government AI Readiness Index) Oxford Insights (Vương quốc Anh) kết hợp Trung tâm nghiên cứu phát triển quốc tế Canada (IDRC) thực hiện thấy, Chiến lược ban hành, 2021, Việt Nam xếp hạng 62/160 toàn cầu (tăng 14 bậc xếp hạng 2020) xếp 6/10 ASEAN. Tại Ngày hội trí tuệ nhân Việt Nam 2022, chủ đề nóng liên quan áp dụng Al lĩnh vực sống thảo luận gợi ý, đề xuất giải pháp doanh nghiệp, quan nghiên cứu, quản lý định hướng sách phù hợp, góp hình thành phát triển hệ sinh thái AI bền vững Việt Nam. Sự kiện bao 3 hội thảo thềm phiên toàn thể chủ đề giải pháp Al lĩnh vực tài - ngân hàng, nhân lực sản xuất. Phiên toàn thể bàn thảo nội dung nổi bật phát triển hệ sinh thái AI ứng dụng nâng chất sống, giải pháp giúp doanh nghiệp bứt phá công nghệ Al... Đặc biệt, hoạt động biệt nổi bật kiện Ngày hội trí tuệ nhân Việt Nam 2022 Giải thưởng Sản phẩm ứng dụng Trí tuệ nhân 2022 (AI Awards 2022) vinh danh sản phẩm, giải pháp ứng dụng trí tuệ nhân nổi trội doanh nghiệp sống. Cùng thi như: \"Quy Nhơn AI Hackathon 2022\" kiếm giải pháp ứng dụng AI thúc đẩy du lịch; \"Air quality forecasting challenge\" kiếm giải pháp AI dự đoán chất khí; \"VAIPE: Medicine Pill Image Recognition Challenge\" kiếm thuật toán AI dạng xác thuốc uống hình ảnh viên thuốc… Hoàng Giang\n",
            "This is \"['Pháp luật']\" news, you predicted it is \"['Giáo dục']\" news\n",
            "------------------------------------------------------------\n",
            "------------------------------------------------------------\n",
            "Bộ trưởng Bộ Giáo dục Đào (GD-ĐT) Nguyễn Kim Sơn ký quyết định thi hành kỷ luật hình thức cảnh cáo Nguyễn Đức Thái, Chủ tịch Hội đồng thành viên Công ty TNHH thành viên NXB Giáo dục Việt Nam. Theo đó, Nguyễn Đức Thái kỷ luật vi phạm sách pháp luật Nhà đạo NXB Giáo dục Việt Nam tổ chức thực hiện sản xuất, kinh doanh, biên soạn, in ấn, kê khai, phát hành sách giáo khoa mới. Bên cạnh đó, Nguyễn Đức Thái trách nhiệm lãnh đạo, đạo Đảng ủy, Ủy ban Kiểm tra Đảng ủy kiểm tra, giám sát tổ chức thực hiện nghị quyết. Trước đó, báo cáo kết kinh doanh công bố, 2021, NXB Giáo dục Việt Nam in 164 triệu quyển sách giáo khoa 2021, 40% kế hoạch. Tổng doanh thu 1.828 tỉ đồng, 97% hoạt động phát hành sách. Lãi thuế NXB Giáo dục Việt Nam 287 tỉ đồng, 250% kế hoạch quan chủ quản Bộ GD-ĐT giao. Đây lãi đơn vị này. Những trước, lợi nhuận 120-150 tỉ đồng.\n",
            "This is \"['Giáo dục']\" news, you predicted it is \"['Pháp luật']\" news\n",
            "------------------------------------------------------------\n",
            "------------------------------------------------------------\n",
            "Mục tiêu cụ thể giới hóa nông nghiệp đối lĩnh vực sản xuất: Sản xuất trồng chủ lực 90% 2025, giới hóa đồng 70% 2030; sản xuất chăn nuôi gia súc, gia cầm 80% 2025, giới hóa đồng 60% 2030; giới hóa sản xuất nuôi trồng thủy sản 70% 2025, 90% 2030; đánh bắt, bảo quản tàu cá 85% 2025 95% 2030. Về phát triển chế biến, bảo quản nông sản, tốc độ giá trị gia công nghiệp chế biến nông sản 8,0%/năm 2025 10,0%/năm 2030; 70% sở chế biến, bảo quản nông sản chủ lực trình độ năng lực công nghệ trung bình tiên tiến trở lên; tổn thất thu hoạch nông sản chủ lực 0,5% 1,0 %/năm; tỷ trọng giá trị xuất khẩu nông sản chủ lực 60% sản phẩm chế biến. Hình thành tập đoàn, doanh nghiệp chế biến nông sản hiện đại, tiềm lực kinh tế trình độ quản lý ngang tầm giới; cụm công nghiệp chế biến nông sản gắn phát triển sản xuất nguyên liệu tập trung giới hóa đồng kết nối tiêu thụ nông sản. Giải pháp thực hiện Chiến lược hoàn thiện thể chế, sách, đó, hoàn thiện sách, pháp luật đất đai hướng khuyến khích kiện tích tụ đất đai chế phối hợp ngành, địa phương công tác tổ chức sản xuất nông nghiệp hàng hóa giới hóa đồng kết nối cụm ngành chế biến, thị trường tiêu thụ, phù hợp kiện vùng, ngành hàng. Nghiên cứu xây dựng sách thúc đẩy xã hội hóa nghiên cứu giao, áp dụng tiến khoa học kỹ thuật giới hóa nông nghiệp chế biến nông sản; sách hỗ trợ nâng chất nhân lực lao động quản lý phục vụ giới hóa nông nghiệp chế biến nông sản. Đẩy triển khai sách tín dụng phục vụ phát triển nông nghiệp, nông thôn sách tín dụng hỗ trợ phát triển giới hóa nông nghiệp chế biến nông sản, phát triển mô hình trung tâm, cụm liên kết sản xuất - chế biến, bảo quản - tiêu thụ nông sản gắn nguyên liệu tập trung. Rà soát, đề xuất sửa đổi sách ưu đãi thuế đối lĩnh vực chế biến nông sản máy móc, thiết bị, công nghệ phục vụ nông nghiệp sửa đổi Luật thuế. Giải pháp Chiến lược phát triển kết cấu hạ tầng nông nghiệp, nông thôn; tổ chức sản xuất nông nghiệp. Cụ thể, tổ chức sản xuất nông nghiệp tập trung định hướng phát triển 3 sản phẩm (sản phẩm chủ lực quốc gia, sản phẩm chủ lực tỉnh sản phẩm đặc sản địa phương) giới hóa đồng bộ, phù hợp lợi vùng, đảm bảo cung nguyên liệu kết nối khu chế biến nông sản dịch vụ thương mại nông nghiệp. Đổi mới, phát triển hình thức tổ chức sản xuất phù hợp hướng nâng năng lực vai trò tổ chức hợp tác nông dân, đẩy tập trung đất đai, quy mô kiện thuận lợi áp dụng giới hóa phát triển chế biến nông sản; phát triển tổ chức hợp tác, trung tâm nghiên cứu, giao khoa học, công nghệ kinh doanh dịch vụ giới nông nghiệp; đẩy hợp tác, liên kết sản xuất, chế biến tiêu thụ nông sản, doanh nghiệp vai trò \"trụ cột\" chuỗi giá trị. Phát triển cụm liên kết sản xuất - chế biến - tiêu thụ nông sản giới hóa đồng sản xuất nông nghiệp tập trung; trọng phát triển doanh nghiệp chế biến, bảo quản năng lực vốn, công nghệ thị trường tiêu thụ dắt chuỗi giá trị nông sản, vận hành thông suốt, hiệu quả; khuyến khích phát triển cụm liên kết động lực vùng.\n",
            "This is \"['Pháp luật']\" news, you predicted it is \"['Giáo dục']\" news\n",
            "------------------------------------------------------------\n",
            "------------------------------------------------------------\n",
            "Ngày 11/7/2022, Cơ quan CSĐT, Công an TP Chí Linh đơn cháu H., SN 2007 Th. bố đẻ cháu H. tố giác Nguyễn Văn Hồng (SN 1975, giáo viên Trường THCS Lê Lợi) hành vi xâm hại thân thể. Ngay tiếp đơn, công an TP Chí Linh phối hợp Viện Kiểm sát nhân dân TP Chí Linh khẩn trương tra. Quá trình tra, Nguyễn Văn Hồng khai hành động hôn, sờ, chạm nhạy cảm 2 nữ sinh học Ngữ văn lớp. Căn tài liệu thu thập được, 11/7, công an Lệnh Quyết định tạm trường hợp khẩn đối Hồng tra Tội Dâm ô đối 16 tuổi. Ngày 12/7/2022, công an TP Chí Linh Lệnh bắt trường hợp khẩn đối Hồng Viện Kiểm sát nhân dân TP Chí Linh phê chuẩn. Ngày 15/7/2022, công an khởi tố vụ án, khởi tố can bắt tạm giam đối tượng Nguyễn Văn Hồng tội \"Dâm ô đối 16 tuổi\".\n",
            "This is \"['Giáo dục']\" news, you predicted it is \"['Pháp luật']\" news\n",
            "------------------------------------------------------------\n",
            "------------------------------------------------------------\n",
            "Trao đổi báo chí, lãnh đạo Công an TP Chí Linh, tỉnh Hải Dương đơn vị tiếp thông triển khai xác minh nội dung tố giác trường hợp nam giáo viên Trường THCS Lê Lợi, xã Lê Lợi (TP Chí Linh, Hải Dương) hành vi sàm sỡ nữ sinh lớp 9. Theo đó, gia đình T. (51 tuổi, trú xã Lê Lợi, TP Chí Linh) đơn tố cáo nội dung học 2021 - 2022, cháu H. (15 tuổi, học sinh lớp 9 Trường THCS Lê Lợi) thầy giáo dạy ngữ văn trường N.V.H. hành vi xâm hại. Theo T., thầy giáo H. thực hiện hành vi sờ ngực, sờ đùi nhạy cảm mình, cháu ảnh hưởng tâm lý nghiêm trọng, dao cứa tay, đùi mình. Ngay tiếp thông việc, Ban giám hiệu Trường THCS Lê Lợi tổ chức bên. Tại việc, nữ sinh H. hành vi thầy giáo cưỡng ép hôn, sờ ngực mình. Trong nội dung tường trình 8/7, giáo viên H. thừa 10/2021 26/5/2022 sờ nắn ngực hai học sinh H. A. Ông Vũ Huy Tới, Hiệu trưởng Trường THCS Lê Lợi biết, độ nghiêm trọng trên, trường quan chức năng tra xử lý.\n",
            "This is \"['Giáo dục']\" news, you predicted it is \"['Pháp luật']\" news\n",
            "------------------------------------------------------------\n",
            "------------------------------------------------------------\n",
            "Bộ trưởng Bộ GD&ĐT Nguyễn Kim Sơn hôm (5/7) ký quyết định thi hành kỷ luật hình thức cảnh cáo Nguyễn Đức Thái, Chủ tịch Hội đồng thành viên Công ty TNHH thành viên NXB Giáo dục Việt Nam. Theo tin, Nguyễn Đức Thái khuyết điểm, vi phạm sách pháp luật Nhà đạo Nhà xuất Giáo dục Việt Nam tổ chức thực hiện sản xuất, kinh doanh, biên soạn, in ấn, kê khai, phát hành sách giáo khoa mới. Đồng thời, trách nhiệm lãnh đạo, đạo Đảng ủy, Ủy ban Kiểm tra Đảng ủy kiểm tra, giám sát tổ chức thực hiện nghị quyết, kịp thời phát hiện nghị quyết ban hành trái pháp luật Nhà nước.\n",
            "This is \"['Giáo dục']\" news, you predicted it is \"['Pháp luật']\" news\n",
            "------------------------------------------------------------\n",
            "------------------------------------------------------------\n",
            "Hội thảo mục đích cung thông sách hỗ trợ tổ chức, cá nhân hoạt động kiếm, kết nối, đổi công nghệ đổi tạo; nắm bắt nhu cầu giao, đổi công nghệ doanh nghiệp khả năng đáp ứng viện nghiên cứu, trường ĐH, tổ chức, cá nhân liên quan nước. Hội thảo hội kết nối, hợp tác doanh nghiệp đơn vị nghiên cứu giải quyết toán quốc gia, cường đóng góp KHCN phát triển kinh tế-xã hội. Bộ trưởng Bộ KH&CN Huỳnh Thành Đạt nhấn mạnh, ta hiện giai đoạn phát triển kinh tế, tập trung năng suất, hiệu quả, đòi tập trung nâng năng suất lao động thông đổi công nghệ đổi tạo. Theo đó, phát triển KHCN đổi quốc sách hàng đầu, đóng vai trò đột phá chiến lược giai đoạn mới, động lực thúc đẩy trưởng, bứt phá năng suất, chất lượng, hiệu quả. Đến 2030, đóng góp năng suất nhân tố tổng hợp (TFP) trưởng kinh tế 50%, đổi toàn cầu (GII) ngừng cải thiện, 40 quốc gia hàng đầu giới, đóng góp phát triển (HDI) trì 0,7. Bộ trưởng Huỳnh Thành Đạt chia sẻ, triết lý doanh nghiệp trung tâm hoạt động đổi tạo, Bộ KH&CN thực hiện tái cấu chương trình, nhiệm vụ KHCN mục tiêu cung hỗ trợ đồng bộ, hoạt động kiếm, xác định nhu cầu công nghệ hoạt động giao, ứng dụng, đổi công nghệ đổi tạo. Cùng đó, Bộ ban hành sách cường hỗ trợ doanh nghiệp thông Quỹ Đổi công nghệ quốc gia, Quỹ Phát triển KHCN quốc gia, đồng thời phối hợp đơn vị liên quan tập trung tháo gỡ vướng mắc trích lập, sử dụng Quỹ Phát triển KHCN doanh nghiệp nhiệm vụ gắn nhu cầu xã hội, chuỗi giá trị sản phẩm, hỗ trợ, thuận lợi doanh nghiệp đổi công nghệ đổi tạo. Giám đốc ĐHQGHN Lê Quân biết, trung tâm đào tạo, nghiên cứu KHCN hàng đầu đất nước, ĐHQGHN trọng mục tiêu chủ, giao ứng dụng công nghệ phục vụ trưởng kinh tế phát triển văn hóa, xã hội. Những đây, ĐHQGHN xác lập vị trí hàng đầu hệ thống giáo dục đại học Việt Nam, khẳng định vị đối trường đại học khu vực châu Á giới. Chỉ đổi tác động xã hội ĐHQGHN liên tục đứng hàng đầu Việt Nam 500 giới. ĐHQGHN Đảng, Nhà Chính phủ giao chương trình, nhiệm vụ KHCN trọng điểm: Chương trình KHCN trọng phục vụ phát triển kinh tế-xã hội Tây Bắc, dự án Dịch thuật phát huy tinh hoa giá trị tác phẩm kinh điển phương Đông, nhiệm vụ xây dựng Bộ Địa chí quốc gia Việt Nam. Mới nhất, ĐHQGHN phê duyệt chương trình trọng \"KHCN phục vụ thu hút đầu tư, phát triển kinh tế-xã hội tỉnh ven biển\". Đây điển hình mô hình hợp tác phát triển sản phẩm ứng dụng trường ĐH-doanh nghiệp-địa phương. Ông Lê Quân rằng, xây dựng hoàn thiện hệ thống sách kiện sản phẩm KHCN trở thành hàng hóa, chóng giao ứng dụng tiến khoa học kỹ thuật sản xuất, kinh doanh nhiệm vụ trọng tâm chiến lược phát triển kinh tế-xã hội đất nước. Giám đốc ĐHQGHN thêm, tiềm lực hạ tầng, nhân lực mạng lưới đối tác rộng khắp quốc tế, ĐHQGHN triển khai sách tiêu biểu như: Ưu tiên đầu tư kinh phí nhiệm vụ phát triển sản phẩm ứng dụng trọng điểm, phát triển phòng thí nghiệm, trung tâm nghiên cứu trọng điểm, nghiên cứu kiện thuận lợi tổ chức hoạt động. Đến nay, ĐHQGHN 175 sản phẩm KHCN tiềm năng khả năng giao thương mại hóa. Tháng 2/2022, ĐHQGHN ban hành Chiến lược phát triển KHCN đổi giai đoạn 2021-2030 quan KHCN đổi tảng, động lực phát triển ĐHQGHN. Mới đây, ĐHQGHN thành lập Kênh hợp tác phát triển doanh nghiệp. Đây kết nối cung-cầu KHCN ĐHQGHN doanh nghiệp nước, khu công nghệ khu đô thị Hà Nội. Hội thảo lắng kiến đóng góp hoàn thiện chế sách, tháo gỡ khăn, vướng mắc triển khai hiệu hoạt động hỗ trợ doanh nghiệp đổi công nghệ đổi Chia sẻ sách hỗ trợ kiếm, kết nối, đổi công nghệ đổi tạo, Phạm Thế Dũng, Phó Cục trưởng phụ trách Cục Ứng dụng phát triển công nghệ (Bộ KH&CN) biết, khuôn khổ đề án \"Thúc đẩy giao, chủ phát triển công nghệ Việt Nam ngành, lĩnh vực ưu tiên giai đoạn 2025, định hướng 2030\", Bộ KH&CN xây dựng triển khai Chương trình kiếm giao công nghệ 2030 Chương trình đổi công nghệ quốc gia 2030. Các chương trình, đề án hình thành hành lang pháp lý chuỗi hỗ trợ hệ thống, tập hợp lực thiết hỗ trợ doanh nghiệp riêng, phát triển hệ sinh thái đổi quốc gia chung. Theo Phạm Thế Dũng, chương trình, đề án đi thực tiễn, tham gia phối hợp bộ, ngành, địa phương, đơn vị nghiên cứu doanh nghiệp triển khai hiệu chế, sách, đáp ứng nhu cầu thiết doanh nghiệp kinh tế. Hoạt động hỗ trợ, kiếm, giao, đổi công nghệ đổi thiết quan trọng, giúp doanh nghiệp phát triển nâng năng lực cạnh tranh, hội nhập quốc tế. Ngày 19/7, Giám đốc ĐHQGHN ký quyết định phê duyệt Chương trình trọng ĐHQGHN \"KHCN phục vụ thu hút đầu tư, phát triển kinh tế-xã hội tỉnh ven biển\". Chương trình thực hiện 7 năm, 2023 2030. Trưởng Ban Khoa học-Công nghệ ĐHQGHN Vũ Văn Tích đánh giá, đối 28 địa phương ven biển, kinh tế biển hội tỉnh bứt phá, nắm bắt hội thời phát triển vươn mẽ. Chương trình tập trung nghiên cứu sở khoa học thực tiễn đề xuất giải pháp, quy trình, công nghệ thu hút đầu tư lĩnh vực lợi tỉnh ven biển, gắn nhu cầu doanh nghiệp nước. Nghiên cứu ứng dụng giao công nghệ đề án, dự án địa phương doanh nghiệp phục vụ phát triển sản phẩm giá trị gia khả năng thương mại hóa lớn. Chương trình nghiên cứu xây dựng sở liệu luận chứng kinh tế-kỹ thuật hỗ trợ xúc tiến đầu tư dự án quy mô địa phương ven biển; nghiên cứu giải pháp khoa học phát triển đội ngũ đào nhân lực chất cao, ứng dụng KHCN đáp ứng yêu cầu ngành kinh tế biển thông tư vấn doanh nghiệp đầu tư. Phương Liên\n",
            "This is \"['Pháp luật']\" news, you predicted it is \"['Giáo dục']\" news\n",
            "------------------------------------------------------------\n",
            "------------------------------------------------------------\n",
            "Để chuẩn đăng ký nguyện vọng xét tuyển đại học, đẳng giáo dục mầm non 2022, hướng Bộ GD&ĐT, thí sinh (trừ thí sinh nghiệp THPT trước) rà soát kết học bạ, hạn 18/7. Cụ thể, học sinh rà soát kết học tập 3 học THPT (lớp 10, 11, 12) hệ thống hỗ trợ tuyển sinh phản ánh thầy, trách nhiệm thí sinh học THPT chỉnh, bổ sung (nếu có). Thí sinh nghiệp THPT, trung (thí sinh do) thực hiện đăng ký thông cá nhân hệ thống thực hiện đăng ký tài khoản sử dụng đăng ký nguyện vọng xét tuyển đại học, đẳng giáo dục mầm non. Theo quy định Bộ GD&ĐT, thời gian đăng ký nguyện vọng xét tuyển đại học, đẳng giáo dục mầm non 2022 áp dụng thống tất đối tượng thí sinh nước, bắt đầu 22/7 17h 20/8. Hình thức đăng ký trực tuyến hệ thống hỗ trợ tuyển sinh Bộ GD&ĐT Cổng Dịch vụ công quốc gia. Các nguyện vọng thí sinh đăng ký xét tuyển ngành, phương thức tuyển sinh tất sở đào xếp 1 hết, nguyện vọng 1 nguyện vọng nhất. Thí sinh lưu ý, trình đăng ký nguyện vọng xét tuyển, thí sinh nộp lệ phí chấp nhận. Lệ phí đăng ký xét tuyển 20.000 đồng/nguyện vọng, 5.000 đồng 2021. Khi thí sinh xác lượng, nguyện vọng, nộp lệ phí xét tuyển hệ thống chấp đăng ký nguyện vọng thí sinh. Năm 2022, 879.000 thí sinh đăng ký xét tuyển đại học. Số thí sinh đăng ký xét tuyển đại học 2021 790.000 em. Năm nay, sở giáo dục đại học tiếp tục thực hiện quyền chủ, đa dạng phương thức tuyển sinh, phương thức sử dụng kết thi nghiệp THPT. Phương Liên\n",
            "This is \"['Pháp luật']\" news, you predicted it is \"['Giáo dục']\" news\n",
            "------------------------------------------------------------\n",
            "------------------------------------------------------------\n",
            "Mới đây, Google cảnh báo mềm gián điệp âm thầm công iOS Android. Theo đó, phân tích an ninh mạng Google biết, mềm gián điệp xâm nhập điện thoại cách. Trong đó, điển hình thông lượt tải động điện thoại ta. Phần mềm gián điệp RCS Lab. Đây công ty, sản xuất công nghệ dịch vụ thu thập giọng nói, liệu cá nhân... Nhóm phân tích an ninh mạng Google gọi mềm \"Hermit\". Dựa Hermit, tặc thể giành quyền kiểm soát điện thoại thông minh, ghi âm, hướng gọi thu thập liệu danh bạ, nhắn, ảnh vị trí thiết bị. Trong trường hợp phát hiện, mềm gián điệp tác lợi dụng cung dịch vụ internet (ISP) vô hiệu hóa kết nối liệu di động thiết bị. Sau vô hiệu hóa thiết kết nối Internet, tặc gửi liên kết độc hại SMS yêu cầu cài ứng dụng khôi phục kết nối liệu Google biết, hãng thông báo cảnh cáo hàng loạt điện thoại sử dụng hệ hành Android mềm gián điệp xâm nhập cường công cụ bảo vệ mềm. Trong đó, Apple thực hiện bảo vệ iPhone sử dụng hệ hành iOS. Được biết, hiện đội giám sát nguy mạng Google dõi hoạt động mua mềm gián điệp 30 quốc gia giới.\n",
            "This is \"['Giáo dục']\" news, you predicted it is \"['Pháp luật']\" news\n",
            "------------------------------------------------------------\n",
            "------------------------------------------------------------\n",
            "Mục tiêu Đề án dựng cụm liên kết ngành kinh tế biển phát triển hiệu quả, sức cạnh tranh hội nhập gắn xây dựng trung tâm kinh tế biển quốc gia, động lực thúc đẩy phát triển nhanh, bền vững kinh tế biển khu vực biển ven biển tất mặt kinh tế, văn hóa xã hội, môi trường, quốc phòng an ninh hướng Việt Nam trở thành quốc gia biển thời kỳ 2030. Đề án phấn đấu dựng cụm liên kết ngành kinh tế biển khu vực biển ven biển lợi thế, phấn đấu hình thành 7 cụm liên kết ngành kinh tế biển 2030; phát triển cụm liên kết ngành kinh tế biển khu vực trọng gắn xây dựng thành trung tâm kinh tế biển quốc gia, phát triển 3-4 trung tâm kinh tế biển hàng đầu Đông Nam Á. Các khu vực trọng phát triển cụm liên kết ngành kinh tế biển gắn xây dựng thành trung tâm kinh tế biển quốc gia phấn đấu tốc độ trưởng kinh tế trưởng 1,2 trở lên. Theo phương hướng phát triển phát triển cụm liên kết ngành kinh tế biển thành chủ yếu doanh nghiệp nước, doanh nghiệp ngoài, tổ chức, sở cung ứng dịch vụ, hạ tầng chuyên dụng kinh tế biển, tổ chức hiệp hội doanh nghiệp, thương mại, hội ngành nghề liên quan tham gia cấp, ngành địa phương ven biển; phát triển sở nhu cầu hoạt động, hợp tác doanh nghiệp, tổ chức, sở kinh tế yêu cầu phát triển bền vững phụ ranh giới hành chính; liên kết ngành, doanh nghiệp, sở hoạt động ven biển biển đảo gắn kết nối mạng lưới sở liên quan nội địa, kết nối liên kết cụm liên kết ngành quốc tế. Phát triển cụm liên kết ngành ngành ưu tiên Chiến lược phát triển bền vững kinh tế biển Việt Nam lợi phát triển biển ven biển ngành sản phẩm, dịch vụ kinh tế biển chuỗi giá trị gia lớn, ứng dụng công nghệ cao, đóng góp trưởng xanh, bảo vệ môi trường sinh thái biển, ngành nghề kinh tế biển góp củng cố cường quốc phòng, an ninh biển đảo. Trong đó, phát triển du lịch biển, đảo trọng tâm ưu tiên sở liên kết phát triển khai thác hiệu tiềm năng, tài nguyên du lịch toàn dải ven biển Việt Nam. Đặc biệt phát triển kinh tế du lịch trung tâm, khu tổ hợp du lịch sinh thái, giải trí, nghỉ dưỡng biển, đảo chất cao, tầm quốc tế cụm liên kết ngành kinh tế biển miền Trung, khu vực biển Tây Nam (Kiên Giang - Cà Mau) khu vực biển kiện phù hợp. Phát triển cụm liên kết ngành kinh tế biển khu vực trọng điểm, lợi gắn xây dựng thành trung tâm kinh tế biển đa ngành quốc gia sức cạnh tranh hội nhập quốc tế rộng toàn vùng; trọng phát triển, liên kết ngành gắn xây dựng trung tâm kinh tế biển lưỡng dụng kết hợp kinh tế quốc phòng khu vực trọng quốc phòng an ninh biển đảo đất nước; tập trung dựng, hình thành khu vực thu hút phát triển doanh nghiệp, sở hoạt động kinh tế biển liên quan hoạt động liên kết hợp tác sản xuất kinh doanh thành trung tâm kinh tế biển quốc gia ngành, đa ngành kinh tế biển gắn khu cảng biển quốc tế, khu kinh tế, thành phố ven biển, du lịch, khai thác sản xuất ven biển, biển; khuyến khích thu hút doanh nghiệp lớn, dự án đầu tư quy mô lớn, ứng dụng, giao công nghệ tiên tiến khu vực trọng hạt nhân, động lực phát triển lan tỏa rộng cụm liên kết ngành kinh tế biển… Vũ Phương Nhi\n",
            "This is \"['Pháp luật']\" news, you predicted it is \"['Giáo dục']\" news\n",
            "------------------------------------------------------------\n",
            "------------------------------------------------------------\n",
            "Cơ quan Cảnh sát tra - Công an Cầu Giấy, Hà Nội tra hai trường hợp thi hộ kỳ thi đánh giá năng lực trường Đại học Ngoại Ngữ - Đại học Quốc gia Hà Nội trường THPT chuyên Sư phạm Hà Nội. Thông thấy, 9h 3-7, phòng thi 200, thi đánh giá năng lực tiếng Nhật trường THPT chuyên Sư phạm Hà Nội, lực An ninh - Công an Cầu Giấy phối hợp Hội đồng thi phát hiện thí sinh báo danh 36145 Phạm Văn T., sinh 28-4-1979 dấu hiệu sử dụng giấy chứng minh nhân dân giả thi. Ngay phát hiện vụ việc, quan công an Phạm Văn T. Vũ Duy H., SN 1990, trú Hoàng Mai, Hà Nội. H. thuê thi hộ Phạm Văn T. giá 4.000.000 đồng. Trước đó, 14 15-2, lực công an phát hiện 1 trường hợp sử dụng cước công dân Nguyễn Thị P.A, SN 2000 thi hộ. Thực tế, Nguyễn Thị Q.N, SN 2002, hiện sinh viên trường đại học ngoại ngữ. Hiện hai trường hợp tra, xử lý quy định pháp luật. Liên quan công tác đảm bảo an ninh an toàn Kỳ thi THPT Quốc gia 2022 diễn 2 7 8-7, Thượng tá Nguyễn Hào Hùng - Phó trưởng Công an Cầu Giấy thông tin, đơn vị đặc biệt trọng công tác an ninh, phòng chống, ngăn chặn hành vi gian lận thi cử. \"Chúng giao Đội An ninh chuẩn phương án đặc biệt trọng phòng chống, ngăn chặn gian lận trình diễn Kỳ thi THPT Quốc gia 2022. Bởi hiện nay, đối tượng sử dụng thiết công nghệ tinh vi. Vì vậy, kỳ thi diễn an toàn, phân đanh giá thực chất năng lực thí sinh, công tác đấu tranh hành vi gian lận\". Đại úy Đỗ Hoàng Thắng – Phó đội trưởng Đội An ninh, Công an Cầu Giấy biết, thi hộ Kỳ thi THPT Quốc gia thấp, thí sinh kiểm tra nhân thân, chủ yếu hành vi gian lận liên quan sử dụng thiết công nghệ tai siêu nhỏ, máy gắn sim thiết liên lạc truyền phát thông ngược lại, camera siêu gắn kính… Do vậy, thời gian diễn Kỳ thi THPT Quốc gia 2022, Đội An ninh quán triệt 100% cán chiến sĩ diện thiết công nghệ thể phục vụ gian lận thi cử; tập huấn cán chiến sĩ tuyên truyền cán coi thi dấu hiệu nghi vấn sử dụng thiết gian lận; Tăng cường nắm tình hình gian mạng, phát hiện hội mua thiết công nghệ phục vụ gian lận thi cử; rà soát tòa tầng khu vực thi phòng ngừa đối tượng sử dụng thiết soi chiếu xa, lộ lọt đề thi ngoài, giúp đỡ thí sinh phòng thi… Trong trình diễn kỳ thi, đơn vị thành lập tổ công tác hóa trang, mật phục thi, phát hiện cá nhân, giúp sức gian lận thi cử. \"Chúng trao đổi Hội đồng thi, phát hiện trường hợp nghi vấn gian lận thi cử thí sinh thi tiếp, ảnh hưởng thí sinh phòng. Vì thực tế tuổi, xử lý trường hợp thể tâm lý khác, ảnh hưởng kết kỳ thi. Mặt khác, đảm bảo công tác bí mật, thông phát tán đối tượng giúp sức khả năng tiêu hủy vật chứng. Do vậy, trường hợp nghi vấn này, bóc tách tra, xác minh thi\" - Đại úy Đỗ Hoàng Thắng biết. Thượng tá Nguyễn Hào Hùng khẳng định, tất trường hợp gian lận thi cử quan tra xác minh, xử lý tùy độ chí thể khởi tố hình răn đe. * Các thiết công nghệ thể sử dụng gian lận thi cử\n",
            "This is \"['Pháp luật']\" news, you predicted it is \"['Giáo dục']\" news\n",
            "------------------------------------------------------------\n",
            "------------------------------------------------------------\n",
            "Xem xét thuế bảo vệ môi trường đối xăng dầu sàn Hôm 6-7, Ủy ban Thường vụ Quốc hội họp phiên bất xét, thông dự thảo nghị quyết thuế bảo vệ môi trường xăng, dầu, mỡ nhờn, đề nghị Chính phủ. Trước đó, Chính phủ trình chỉnh thuế bảo vệ môi trường đối xăng, dầu, mỡ nhờn sàn khung thuế 31-12-2022. Trong đó, xăng sàn 1.000 đồng/lít; nhiên liệu bay sàn 1.000 đồng/lít; dầu diesel sàn 500 đồng/lít; dầu mazut, dầu nhờn sàn 300 đồng/lít; mỡ nhờn sàn 300 đồng/kg; dầu hỏa 300 đồng/lít. Tuy vậy, chuyên gia, đại biểu Quốc hội, tiêu miễn thuế giúp giá xăng \"hạ nhiệt\", Chính phủ hai trình Ủy ban Thường vụ Quốc hội thuế. Nhiều kiến đề nghị thuế tiêu thụ đặc biệt đối xăng dầu giúp giá kể. Việc thẩm quyền Quốc hội. Hơn 1 triệu thí sinh thủ tục dự thi nghiệp THPT 2022 Hôm nay, 1 triệu thí sinh mặt thi thủ tục dự thi phổ biến quy chế thi nghiệp THPT 2022. Trong này, 83.000 thí sinh dự thi xét nghiệp, chiếm 8,29%. Số thí sinh dự thi sử dụng kết tuyển sinh đại học 39.000, chiếm 3,91%. Số thí sinh dự thi xét nghiệp, sử dụng kết thi tuyển sinh 880.000, chiếm 87,8%. Cả 63 hội đồng thi, 2.243 thi, 42.293 phòng thi. Kỳ thi nghiệp THPT 2022 ổn định cường biện pháp phòng chống gian lận thiết công nghệ cao. Năm Bộ Giáo dục đào phép thí sinh nhiễm COVID-19 (F0) sức khỏe nguyện dự thi phòng thi đảm bảo an toàn phòng dịch. Thí sinh diện F0 trị, sức khỏe dự thi xét đặc nghiệp. HĐND TP.HCM họp quyết nghị vấn đề quan trọng Hôm nay, HĐND TP khóa X họp 6 bàn, quyết nghị vấn đề quan trọng. Cụ thể 3 kỳ họp, HĐND TP UBND TP.HCM báo cáo tình hình kinh tế - văn hóa - xã hội 6 đầu nhiệm vụ, giải pháp 6 2022; kết giải quyết kiến nghị cử tri kỳ họp 4 kỳ họp 6 tờ trình. HĐND TP.HCM tờ trình chương trình giám sát HĐND 2023, Ủy ban MTTQ Việt Nam TP thông báo hoạt động tham gia xây dựng quyền TP 6 đầu 2022… Trong 2, đại biểu HĐND TP chất vấn sở ngành, lãnh đạo TP; UBND TP báo cáo tình hình triển khai thực hiện nghị quyết 54 Quốc hội thí chế, sách đặc thù phát triển TP.HCM nghị quyết 25 HĐND TP triển khai thực hiện nghị quyết 54. Ngày 2 3, đại biểu HĐND thảo luận, kiến biểu quyết thông dự thảo nghị quyết. Trong đó, 6-7, 7-7 8-7 truyền hình phát trực tiếp dân. Ít 80% rác thải TP.HCM đốt phát điện tái chế Theo Sở Tài nguyên môi trường TP.HCM, 2025, 80% rác thải TP.HCM đốt phát điện tái chế. Hiện TP.HCM đề xuất 6 dự án đốt rác phát điện, công suất xử lý 10.500 tấn. Năm 2019, dự án máy công nghệ đốt rác phát điện TP.HCM khởi công, dự kiến xử lý 6.000 rác/ngày phân rác nguồn. Cả máy dự kiến vận hành 2021 hoàn thành. Ba dự án gồm: máy tích hợp xử lý chất thải rắn Vietstar, máy xử lý 2.000 rác/ngày Công ty cổ đầu tư - phát triển Tâm Sinh Nghĩa (cùng nằm khu liên hợp xử lý chất thải rắn Tây Bắc, huyện Củ Chi) máy đốt rác phát điện Công ty cổ Môi trường Tasco Củ Chi (ở xã Phước Hiệp, huyện Củ Chi). TP.HCM họp chuẩn thực hiện dự án rạch Xuyên Tâm Theo kế hoạch, chiều 6-7, Chủ tịch UBND TP.HCM Phan Văn Mãi họp tổ công tác nghiên cứu chuẩn thực hiện dự án rạch Xuyên Tâm. Rạch Xuyên Tâm chiều 8,2km, hệ thống rạch Cầu Bông, Cầu Sơn, Long Vân Tự, rạch Lăng đi hai Bình Thạnh Gò Vấp. Được phê duyệt 2002 kinh phí 123 tỉ đồng, 20 năm, vốn dự án cải rạch 9.353 tỉ đồng triển khai. Ngày 14-6 qua, Chủ tịch UBND TP.HCM thống chủ trương thành lập tổ công tác nghiên cứu chuẩn thực hiện dự án. Buổi họp hôm bàn công tác chuẩn chủ trương đầu tư nạo vét, cải môi trường, xây dựng hạ tầng ven rạch. Viettel, FPT, VNPT doanh nghiệp CNTT - viễn thông uy tín Việt Nam 2022 Theo kết báo cáo nghiên cứu đánh giá độc lập chuẩn mực quốc tế Công ty CP Báo cáo đánh giá Việt Nam (Vietnam Report), Viettel, FPT, VNPT đầu danh sách top 10 công ty công nghệ thông - viễn thông uy tín 2022. Trong đó, Viettel đứng đầu danh sách 5 liên tiếp. Với 40.000 lao động, Viettel doanh nghiệp kết kinh doanh ngành 2021 doanh thu 274.000 tỉ đồng, trưởng 3,3%, lợi nhuận 40.000 tỉ, nộp ngân sách 32.000 tỉ. Đầu 2022, Viettel công ty tư vấn định giá thương hiệu hàng đầu giới Brand Finance định giá 8,758 tỉ USD, vươn vị trí 227 Top 250 thương hiệu đắt giá toàn cầu. Theo Viettel Tập đoàn công nghệ FPT, Tập đoàn bưu viễn thông Việt Nam VNPT, Tổng công ty dịch vụ viễn thông VinaPhone Tổng công ty dịch vụ viễn thông MobiFone. Người Việt mua sắm trực tuyến thời trang, đẹp chăm sóc sức khỏe Người tiêu Việt tiếp tục trì thói quen mua sắm trực tuyến. Đó kết ghi liệu xuyên suốt lễ hội mua sắm chương trình khuyến mãi diễn quý 1 nửa đầu quý 2 2022 sàn thương mại điện tử Lazada Việt Nam. Đặc biệt, hành vi kiếm mua sắm tiêu sàn ngành hàng phục vụ nhu cầu đẹp, du lịch, thời trang chăm sóc sức khỏe dự báo thời gian tới. Cụ thể, ngành hàng sức khỏe đẹp vững vị đầu trưởng. Trong đó, doanh thu ngành hàng sức khỏe ghi trưởng toàn sàn tỉ lệ trưởng 3 chữ số. Nhờ phạt nặng, tử vong tai nạn giao thông Bộ Y tế Tổ chức Y tế giới Việt Nam thực hiện khảo sát thông báo kết quả, 2 thực hiện Luật phòng chống tác hại lạm dụng rượu bia, quy định luật thực hiệu sống. Cụ thể, quy định phạt hành vi lái xe uống rượu bia, khảo sát 2015 45% nam giới lái xe 2 uống rượu bia, khảo sát 2021 tỉ lệ 27%. Ông Nguyễn Tuấn Lâm (Tổ chức Y tế giới Việt Nam) tử vong tai nạn giao thông 1.000 ca/năm 2020-2021 nguyên nhân, nguyên nhân uống rượu bia tham gia giao thông bớt. Theo Cục Y tế dự phòng, Bộ Y tế, 548.000 ca tử vong/năm nguyên nhân liên quan rượu bia 40.000 ca (trên 7%).\n",
            "This is \"['Giáo dục']\" news, you predicted it is \"['Pháp luật']\" news\n",
            "------------------------------------------------------------\n",
            "------------------------------------------------------------\n",
            "Ngày 27-7, Chi cục Kiểm lâm TP.HCM tiếp gấu ngựa Nguyễn Thanh Tùng xã Tân Thông Hội (huyện Củ Chi, TP.HCM) nguyện giao. Con gấu ngựa gấu cái, ước 20 tuổi, 100kg (tên khoa học Ursus thibetanus), IB danh mục động vật rừng nguy quý hiếm (theo nghị định 84/2021/NĐ-CP). Trao đổi Tuổi Trẻ Online, Tùng gấu ngựa gắn chip giấy tờ, nuôi chuồng 15 - 16 năm. Từ nuôi nay, gấu sổng chuồng hại ai. Ông Nguyễn Quang Hoàng - phó trạm trưởng Trạm cứu hộ động vật hoang dã Chi cục Kiểm lâm TP.HCM - Tùng nuôi 4 gấu ngựa gắn chip quản lý quan chức năng, 3 chết bệnh, hiện 1 con. Ông Tùng nguyện giao gấu ngựa Chi cục Kiểm lâm TP.HCM. Lực kiểm lâm phối hợp Công ty TNHH MTV Thảo cầm viên Sài Gòn mê gấu Trạm cứu hộ động vật hoang dã Củ Chi cứu hộ, chăm sóc sức khỏe. Tiếp Chi cục Kiểm lâm TP.HCM lập hồ sơ trình UBND TP.HCM xác lập quyền sở hữu toàn dân đối cá thể gấu phê duyệt phương án giao trung tâm cứu hộ gấu. Ông Nguyễn Quang Hoàng 2016 nay, trường hợp đầu tiên Chi cục Kiểm lâm TP.HCM tiếp cá thể gấu cá nhân nguyện giao. Sau trường hợp trên, hiện TP.HCM 3 cá nhân 3 tổ chức nuôi tổng cộng 46 gấu gắn chip quản lý quan chức năng.\n",
            "This is \"['Giáo dục']\" news, you predicted it is \"['Pháp luật']\" news\n",
            "------------------------------------------------------------\n",
            "------------------------------------------------------------\n",
            "Phát biểu lễ, Thứ trưởng Bộ Tư pháp Đặng Hoàng Oanh nêu bật thành tựu to quan hệ đối tác chiến lược sâu rộng Việt Nam – Nhật Bản suốt 50 qua, lĩnh vực hợp tác pháp luật tư pháp phát triển mới, đóng góp thành tựu Việt Nam trình phát triển KT-XH, xây dựng Nhà pháp quyền Việt Nam xã hội chủ nghĩa. Theo Thứ trưởng Đặng Hoàng Oanh, hỗ trợ xây dựng, hoàn thiện tổ chức thi hành pháp luật đào nhân lực pháp luật chất hợp tác pháp luật tư pháp Việt Nam Nhật Bản. Trong thời gian qua, Chính phủ sở đào luật Nhật Bản, Trường Đại học Nagoya cung học bổng đào hạn bậc đại học, thạc sĩ, tiến sĩ tổ chức khóa đào tạo, bồi dưỡng ngắn hạn học viên, cán pháp luật tư pháp Việt Nam chung, Bộ Tư pháp riêng. Nhiều trở phát huy kiến thức tích lũy thời gian học tập bổ nhiệm vị trí trọng trách, chủ chốt Bộ Tư pháp quan pháp luật, tư pháp Việt Nam. \"Những thành tựu hợp tác đào luật Việt Nam Nhật Bản nêu đóng góp Giáo sư Aikyo Masanori - kiến chương trình hợp tác giáo dục Việt Nam, trình quan thẩm quyền Nhật Bản phê duyệt trực tiếp đạo thực hiện dự án đào nhân lực Việt Nam\", Thứ trưởng Đặng Hoàng Oanh nhấn mạnh. TS. Đoàn Trung Kiên, Hiệu trưởng Đại học Luật Hà Nội đánh giá kiện nghĩa, ghi đóng góp to Giáo sư Masanori Aikyo - kiến chương trình hợp tác Việt Nam, trình Bộ Giáo dục, Văn hóa, Thể thao, Khoa học Công nghệ (MEXT) quan thẩm quyền Nhật Bản phê duyệt trực tiếp đạo thực hiện dự án đào nhân lực Việt Nam. Giáo sư quan hệ hợp tác chặt chẽ quan pháp luật Việt Nam Bộ Tư pháp, Tòa án nhân dân Tối cao, Ủy ban Pháp luật Quốc hội, Đại học Quốc gia Hà Nội, tham gia chuyên gia Nhật Bản hỗ trợ Việt Nam nghiên cứu xây dựng đạo luật quan trọng Bộ luật Dân sự, Bộ luật Hình sự, Luật Thương mại… Trong thời gian tới, Trường Đại học Luật Hà Nội mong tiếp tục quan tâm Giáo sư Masanori Aikyo, lãnh đạo Bộ Tư pháp quan, tổ chức, cá nhân liên quan hoạt động hợp tác hai trường thực chất hiệu hơn. Lê Sơn\n",
            "This is \"['Pháp luật']\" news, you predicted it is \"['Giáo dục']\" news\n",
            "------------------------------------------------------------\n",
            "------------------------------------------------------------\n",
            "Chuyên mục Ngày xưa số 23-7-2022 được Báo Quân đội nhân dân Điện tử thực hiện hình thức tác phẩm phát podcast tại đây và video clip trên Chuyên trang Media Báo Quân đội nhân dân Điện tử, trân trọng mời đọc thêm. Một kiện quốc tế 23-7 Sự kiện - Ngày 23-7-1910, sinh Giáo sư Tạ Quang Bửu, sinh thôn Hoành Sơn, xã Nam Hoành (nay xã Khánh Sơn), huyện Nam Đàn, tỉnh Nghệ An, gia đình truyền thống hiếu học. Ngay nhỏ, nổi tiếng thông minh, học giỏi. Ông học trường nổi tiếng như: Quốc học Huế, Trường Bưởi học bổng du học Pháp 1929. Sau đó, tiếp tục học ngành Vật lý học bổng Trường Đại học Oxford Anh (1930-1934). Sau thời gian học tập ngoài, 1934 trở nước, chối mời quan nghề dạy học Trường tư thục Phú Xuân, Trường Thiên Hựu Thừa Thiên Huế. Tháng 8-1945, luật sư Phan Anh Hà Nội tham gia mạng. Và đây, cống hiến to nghiệp mạng giải phóng dân tộc khoa học nhà, góp nghiệp phát triển giáo dục Việt Nam. Từ 1945 1976, phân công Tham nghị trưởng Bộ Ngoại giao phụ trách quan hệ Anh, Mỹ, đại diện Việt Nam ký Hiệp định Geneve, Thứ trưởng Bộ Quốc phòng, Bộ trưởng Bộ Quốc phòng, Chủ nhiệm Ủy ban Khoa học Nhà nước, Bộ trưởng Bộ Đại học Trung học chuyên nghiệp, Hiệu trưởng đầu tiên trường Đại học Bách khoa Hà Nội. Ông đại biểu Quốc hội khoá I khoá VI… Với cống hiến lao đối đất nhân dân, Giáo sư Tạ Quang Bửu Đảng, Nhà nước, quân đội tặng thưởng Huân chương Hồ Chí Minh huân, huy chương quý khác… Giáo sư Tạ Quang Bửu đời 21-8-1986, thọ 76 tuổi. Tên 30 phố, trường học, thư viện, công trình tỉnh, thành phố nước. - Ngày 23-7-1951, hoạt động mạng Hồ Tùng Mậu. Đồng chí Hồ Tùng Mậu khai sinh Hồ Bá Cự, sinh 15-6-1896, Quỳnh Đôi, Quỳnh Lưu, Nghệ An. Trọn đời tham gia mạng 31 ngừng nghỉ, đồng chí Hồ Tùng Mậu yêu trở thành chiến sĩ cộng sản, cán lão luyện nghiệp mạng giải phóng dân tộc. Ngày 23-7-1951, đường đi công tác Khu IV, đồng chí hy sinh trúng đạn máy bay Pháp. (Theo: TTXVN; dbndnghean.vn; hcmcpv.org.vn) Sự kiện quốc tế - Ngày 23-7-1962, Hiệp định Geneve Lào ký, hai văn kiện: Tuyên bố trung lập Lào Nghị định thư kèm theo. Hiệp định Geneve Lào 1962 hiệp định quốc tế xác phát triển Hiệp định Geneve Đông Dương 1954. Ký Hội nghị quốc tế Lào Geneve, 5-1961 7-1962. Hiệp định Geneve Lào đánh dấu thất bại quân phái hữu Lào đế quốc Mỹ (giai đoạn 1960-1962), đặc biệt thất bại Chiến dịch Nậm Thà (từ 2 8-5-1962). Các tham dự Hội nghị thỏa thuận nội dung tuyên bố, công tôn trọng chủ quyền, độc lập, trung lập, thống toàn vẹn lãnh thổ Lào; cam kết tuân thủ nguyên tắc kiện liên quan độc lập trung lập Lào. Nghị định thư nêu quy định cụ thể bảo đảm trung lập Lào, bao rút quân đội nhân viên quân 30 đội kiểm tra Ủy ban Quốc tế thiết lập, thả tù binh, quy định tổ chức chức năng, quyền hạn Ủy ban Quốc tế. Tuy nhiên, đế quốc Mỹ phái hữu Lào phá hoại (bằng ném bom 1964, tiến công giải phóng 1969), Hiệp định Geneve Lào 1962 thực tế thực hiện. - Ngày 23-7-1980, Anh hùng Lực vũ trang nhân dân, Trung tướng, phi công Phạm Tuân du hành vũ trụ Liên Xô Viktor Vassilyevich Gorbatko thực hiện chuyến bay vũ trụ tàu Liên hợp 37. Ông trở thành Việt Nam, châu Á đầu tiên bay vũ trụ. Trên chuyến bay Lá cờ Tổ quốc, Tuyên ngôn Độc lập, Di chúc Bác… Trong 8 gian, thực hiện 142 vòng quỹ đạo quanh Trái Đất, chụp ảnh Việt Nam quỹ đạo Trái Đất, tiến hành hàng chục thí nghiệm khoa học giá trị như: Thí nghiệm Hạ Long 1, Hạ Long 2, thí nghiệm hồ quang, thí nghiệm phân cực... Ngoài ra, tiến hành thí nghiệm hòa tan mẫu khoáng chất tình trạng trọng lực… Chuyến bay trở thành kiện lịch sử đời sống nhân dân hai nước, ghi mốc son phát triển tình hữu nghị truyền thống hợp tác toàn diện Việt Nam - Liên Xô đây, Việt Nam - Liên bang Nga nay. Chuyến bay đầu tiên sở ban đầu hợp tác khoa học - công nghệ lĩnh vực vũ trụ khoa học Việt Nam. (Theo vietnamnet.vn; vtv.vn; tuyengiao.vn; dangcongsan.vn) Theo dấu chân Người - Ngày 23-7-1946, Paris Chủ tịch Hồ Chí Minh tiếp tục tiếp xúc báo chí, đi thăm \"Bảo tàng tượng sáp\" Paris, lưu tượng sáp nhân vật nổi tiếng giới. - Ngày 23-7-1959, tiếp tục chuyến thăm hữu nghị Liên Xô, Chủ tịch Hồ Chí Minh Đoàn đại biểu Chính phủ Việt Nam rời Yerevan, thủ đô Cộng hòa Armenia thành phố Baku, thủ đô Cộng hoà Azerbaijan thăm quan khu mỏ khai thác dầu nổi tiếng Bắc thành phố. - Ngày 23-7-1961, Bác tham dự mít tinh 25 vạn nhân dân Thủ đô Hà Nội Quảng trường Ba Đình, nhân kỷ niệm 7 ký kết Hiệp định Geneve lập hòa bình Đông Dương. Phát biểu đây, Bác dặn: \"Đoàn kết sức mạnh, đồng bào đoàn kết, ta đoàn kết nhân dân xã hội chủ nghĩa, nhân dân châu Á, châu Phi, châu Mỹ Latinh nhân dân yêu chuộng hòa bình giới, định ta thắng đế quốc Mỹ bọn sai\". Sau đó, Người bắt nhịp hát ca \"Kết đoàn\". (Theo Sách \"Chủ tịch Hồ Chí Minh - Ngày xưa\"; \"Hồ Chí Minh - Biên niên tiểu sử\" \"Hồ Chí Minh toàn tập\", NXB Chính trị quốc gia-Sự thật) Lời Bác dạy xưa \"Chúng ta học tinh thần lập cường, tinh thần hăng hái thi đua sản xuất tiết kiệm nhân dân bạn… Chúng ta bồi dưỡng nồng nàn yêu tinh thần quốc tế chân chính\" Lời dạy Chủ tịch Hồ Chí Minh Người Báo cáo đoàn đại biểu Chính phủ ta đi thăm Liên Xô Trung Quốc, 23-7-1955 Quảng trường Thụy Khuê (Hà Nội). Chủ tịch Hồ Chí Minh nhấn thắng lợi kháng chiến chống thực dân Pháp xâm lược kết đoàn kết, dũng chiến đấu nhân dân ta lãnh đạo Đảng; ủng hộ, giúp đỡ bè quốc tế, Liên Xô Trung Quốc. Qua đó, Người khích lệ, động viên toàn thể cán bộ, đảng viên nhân dân ta khắc phục tâm lý trông chờ, ỉ lại, dựa dẫm giúp đỡ bạn; nêu độc lập, chủ, cường, yêu tinh thần quốc tế tiếp tục phấn đấu giành thắng lợi mạng nhà. Vận dụng tư tưởng Hồ Chí Minh trình lãnh đạo mạng Việt Nam, Đảng ta nêu tinh thần lực, cường, chủ động, tạo, khởi xướng lãnh đạo công đổi toàn diện đất nước, thu thành tựu to lớn, nghĩa lịch sử, lực tiếp tục đẩy công nghiệp hóa, hiện đại hóa hội nhập quốc tế mục tiêu dân giàu, mạnh, dân chủ, công bằng, văn minh. Lời dạy Chủ tịch Hồ Chí Minh giá trị to đối trình xây dựng, chiến đấu trưởng thành Quân đội ta; đầu thành lập, 34 cán bộ, chiến sĩ, vũ khí thô sơ, tinh thần lực, cường, yêu nồng nàn, tinh thần chiến đấu kiên cường, dũng cảm; thi đua giết giặc lập công; đùm bọc, giúp đỡ nhân dân đặc biệt, lãnh đạo, giáo dục, rèn luyện Đảng Bác Hồ, Quân đội nhân dân Việt Nam ngừng mạnh, toàn Đảng, toàn dân đánh thắng đế quốc, thực dân xâm lược, giải phóng đất nước, lập truyền thống vẻ vang \"quyết chiến, quyết thắng\", chỗ dựa cậy Đảng, Nhà Nhân dân, xứng danh hiệu quý Bộ đội Cụ Hồ. Hiện nay, toàn quân tiếp tục nỗ lực phấn đấu xây dựng hướng mạng, quy, tinh nhuệ, hiện đại, lực nòng cốt thực hiện nhiệm vụ bảo vệ vững Tổ quốc Việt Nam tình hình mới. Dấu ấn Bác Hồ Báo Quân đội nhân dân Trang Báo Quân đội nhân dân 765 23-7-1960 đăng tiêu đề \"Hồ Chủ tịch thăm khen ngợi Đại hội kết quả\". Trên trang Báo Quân đội nhân dân 1575 23-7-1965 đăng tiêu đề \"Hồ Chủ tịch thăm đội Phòng không\".  HOÀNG TRƯỜNG (tổng hợp) \n",
            "This is \"['Pháp luật']\" news, you predicted it is \"['Giáo dục']\" news\n",
            "------------------------------------------------------------\n",
            "------------------------------------------------------------\n",
            "Phó Thủ tướng Chính phủ Lê Văn Thành ký Quyết định số 876/QĐ-TTg ngày 22/7/2022 phê duyệt Chương trình hành động đổi năng xanh, phát thải khí các-bon khí mê-tan ngành giao thông vận tải. Mục tiêu tổng quát Chiến lược phát triển hệ thống giao thông vận tải xanh hướng mục tiêu phát thải ròng khí kính \"0\" 2050. Mục tiêu cụ thể giai đoạn 2030, nâng hiệu sử dụng năng lượng, đẩy đổi sử dụng điện, năng xanh đối lĩnh vực ngành giao thông vận tải sẵn sàng mặt công nghệ, thể chế, lực thực hiện cam kết Đóng góp quốc gia quyết định (NDC) mục tiêu phát thải khí mê-tan Việt Nam. Giai đoạn 2050, phát triển hợp lý phương thức vận tải, thực hiện mẽ đổi toàn phương tiện, trang thiết bị, hạ tầng giao thông vận tải sử dụng điện, năng xanh, hướng phát thải ròng khí kính \"0\" 2050. Về lộ trình đổi năng xanh giai đoạn 2022 - 2030, đó, đường bộ, thúc đẩy sản xuất, lắp ráp, nhập khẩu đổi sử dụng phương tiện giao thông giới đường sử dụng điện; rộng phối trộn, sử dụng 100% xăng E5 đối phương tiện giao thông giới đường bộ; phát triển hạ tầng sạc điện đáp ứng nhu cầu dân, doanh nghiệp; khuyến khích bến xe, trạm dừng nghỉ xây dựng hiện hữu đổi tiêu chí xanh. Với đường sắt, nghiên cứu thí sử dụng phương tiện đường sắt sử dụng điện, năng xanh tuyến đường sắt hiện tại. Đầu tư xây dựng tuyến đường sắt định hướng điện khí hóa; xây dựng kế hoạch đầu tư lộ trình thay phương tiện đường sắt cũ niên hạn phương tiện thể đổi sử dụng điện, năng xanh; khuyến khích đổi trang thiết bốc, xếp ga thiết sử dụng điện, năng xanh. Với đường thủy nội địa, khuyến khích đầu tư đóng mới, nhập khẩu, đổi phương tiện thủy nội địa sử dụng nhiên liệu hóa thạch sử dụng dụng điện, năng xanh; nghiên cứu, xây dựng tiêu chí cảng xanh, tuyến vận tải xanh sở xây dựng chế, sách khuyến khích đầu tư cảng thủy nội địa xanh. Áp dụng thí cảng thủy nội địa; nghiên cứu, tuyến vận tải thủy trở thành tuyến vận tải xanh. Còn giao thông đô thị, 2025, 100% xe buýt thay thế, đầu tư sử dụng điện, năng xanh. Tỷ lệ đảm vận tải hành công cộng Hà Nội 45% -50%; Thành phố Hồ Chí Minh 25%; Đà Nẵng 25% - 35%; Cần Thơ 20%; Hải Phòng 10% - 15%; đô thị I 5%. Từ 2030, tỷ lệ phương tiện sử dụng điện, năng xanh tối thiểu 50%; 100% xe taxi thay thế, đầu tư sử dụng điện, năng xanh. Đến 2050, 100% xe buýt, xe taxi sử dụng điện, năng xanh; tỷ lệ đảm vận tải hành công cộng đô thị đặc biệt, đô thị I lượt 40% 10%. Chí Kiên\n",
            "This is \"['Pháp luật']\" news, you predicted it is \"['Giáo dục']\" news\n",
            "------------------------------------------------------------\n",
            "------------------------------------------------------------\n",
            "Sếp xấu Lãnh đạo quản lý trực tiếp cầu nối quan trọng nhân viên nghiệp họ. Đôi công lương thể chân nhân viên lãnh đạo cư xử chuẩn mực thiết. Ví dụ xét nhân viên uống; đánh giá khác; chê bai liên quan công việc; trêu chọc nhân bình nhiên thay đổi phong cách; phán xét sử dụng thời gian riêng… Các biểu hiện định kiến cá nhân, ranh giới chuyên môn cá nhân lãnh đạo, văn hóa công ty yếu. Lãnh đạo bất ổn Cũng lãnh đạo thực nhân viên phát triển quyền mình: sợ nhân viên thăng chức o ép nhân kiến thức kinh nghiệm: giao việc, khăn vận hành, đánh giá sai kết công việc; Thể hiện quyền lực đối xử nhân viên đứa trẻ, bắt kiểm tra IQ kiến thức; Đổ lỗi xảy sai phạm; Phủ định phạm vi công nhân viên quyền giới hạn nhân làm, quyền phê duyệt quy định thực tế, phủ tước quyền nhân viên khăn công việc, nhún lãnh đạo. Lãnh đạo chuyên nghiệp Không thực định kiến xấu tính, yếu kém chuyên môn quản lý lãnh đạo nhân viên thành công. Đâu lãnh đạo nắm công chuyên môn: đề tiêu thực tế, yêu cầu nhân viên hiệu chi phí nhất; yêu cầu nhân viên phục vụ chuyên môn: mua đồ cá nhân, phục vụ bàn tiệc, đón… Cũng lãnh đạo đánh giá nhân viên dựa thời gian mặt công ty hiệu công thực tế, chí đánh giá cao; xấu nhân viên 3 (về hiệu công việc, ứng xử…) thay xét góp trực tiếp; chí giận dữ, la hét, mắng nhiếc ý; can thiệp quyền lợi hợp pháp nhân viên ngăn cản tỏ thái độ nhân viên sử dụng nghỉ phép, hạn chế thời gian nghỉ thai sản… Đồng nghiệp xấu Ngoài ra, môi trường công sở độc hại, tình trạng bắt nạt diễn xuyên dung nhân viên đàng hoàng muốn. Bạn thể đồng nghiệp cười nhạo vấn đề: ngoại hình, phát âm, giọng địa phương, quê gốc…; dựng cá nhân đơn lẻ; đẩy công nhân viên mới; chối trao đổi, đối thoại công việc… Đồng nghiệp định kiến giới Biểu hiện bắt nạt đôi xuất phát cố hạ vai trò (không phân biệt giới), nghèo nàn quyền bình đẳng giới. Bạn thể đồng nghiệp nam đùa cợt \"nhạy cảm\" đồng nghiệp nữ đồng nghiệp nữ giới đùa cợt \"quyền lực giới\" đồng nghiệp nam; đồng nghiệp nam giới ngăn trở đồng nghiệp nữ sử dụng sở vật chất thăng tiến, học công việc/ phận nam giới… Các tâm lý học nguyên nhân sâu biểu hiện ti sâu sắc, hạ thoải mái thân. Điều quan trọng giải quyết vấn đề tâm lý (vài) cá nhân, - chuyên tâm công - bầu khí chịu. Công sở khốn khổ không? Họ thể cố gắng rời đi hội mới. Vĩnh Phú\n",
            "This is \"['Giáo dục']\" news, you predicted it is \"['Pháp luật']\" news\n",
            "------------------------------------------------------------\n",
            "------------------------------------------------------------\n",
            "Theo báo cáo thực trạng quản trị cấu tổ chức 2021 công khai website NXB Giáo dục 30/6, thời này, Nguyễn Đức Thái, Chủ tịch Hội đồng thành viên NXB Giáo dục Việt Nam lương thưởng NXB Giáo dục Việt Nam. Ở vị trí 2 Lê Hoàng Bách, Ủy viên Hội đồng thành viên, Tổng Giám đốc Nhà xuất lương 538 triệu đồng 80 triệu đồng tiền thưởng, tổng thu nhập 600 triệu đồng/năm. Tương tự, phó tổng giám đốc Lê Hoàng Hải, Phùng Ngọc Hồng, Nguyễn Chí Bính thu nhập 550 triệu đồng/năm lương tương ứng 463 triệu đồng thưởng 70-80 triệu đồng. Trước đó, 5/7, Bộ trưởng Bộ GD-ĐT Nguyễn Kim Sơn ký quyết định 1886/QĐ-BGDĐT, thi hành kỷ luật Nguyễn Đức Thái, Chủ tịch Hội đồng thành viên Công ty TNHH thành viên NXB Giáo dục Việt Nam. Theo của Dân trí, Thái xác định có khuyết điểm trong đạo sản xuất, kinh doanh, biên soạn, phát hành sách giáo khoa. Đồng thời, trách nhiệm lãnh đạo, đạo Đảng ủy, Ủy ban Kiểm tra Đảng ủy kiểm tra, giám sát tổ chức thực hiện nghị quyết... Bộ trưởng Bộ GD-ĐT Nguyễn Kim Sơn quyết định thi hành kỷ luật đối Nguyễn Đức Thái hình thức cảnh cáo. Theo \"Báo cáo đánh giá tình hình hoạt động sản xuất, kinh doanh 2021\" NXB Giáo dục Việt Nam, xuất phát hành 164,6 triệu quyển sách giáo khoa, 40% kế hoạch đề ra. Kết quả, lãi thuế Nhà xuất Giáo dục 287 tỷ đồng, 150% kế hoạch giao. Theo toán, phát hành quyển sách giáo khoa, Nhà xuất Giáo dục thu 11.100 đồng lãi 1.750 đồng. Mặc lãi kỷ lục đơn vị kêu trăm bề.\n",
            "This is \"['Giáo dục']\" news, you predicted it is \"['Pháp luật']\" news\n",
            "------------------------------------------------------------\n",
            "------------------------------------------------------------\n",
            "Thanh tra Gò Vấp, TPHCM kết luận trách nhiệm đứng đầu thực hiện quy định pháp luật phòng, chống tham nhũng trường Tiểu học Hanh Thông. Quá trình tra thực hiện 20/4 2/6. Kết kiểm tra, xác minh đơn vị công khai lựa tổ chức cung ứng thực phẩm ký kết hợp đồng đủ, ký kết hợp đồng cung 2 đơn vị, lưu trữ phiếu đề xuất sổ giao bảng kê hàng hóa kèm chứng kế toán, chứng hóa đơn thất lạc, toán hóa đơn. Không quy định trách nhiệm xác khối thực phẩm hóa đơn, kiểm tra hóa đơn ký duyệt chi, toán tiền, khối thực phẩm mua. Đơn vị giải trình chênh lệch thừa, ủy nhiệm chi hóa đơn tổng tiền chi đơn vị cung ứng 48 triệu đồng. Một ủy nhiệm chi toán tiền mặt chứng hồ sơ kế toán tiền 28 triệu đồng. Sử dụng thỏa thuận thu hộ chi hộ thu sáng, trú tiền 358 triệu đồng. Nhà trường mua thực phẩm khô vật dụng vệ sinh phù hợp nhu cầu sử dụng hàng tổng tiền 482 triệu đồng, sử dụng hóa đơn lập khống hộ kinh doanh quyết toán. Đơn vị giải trình hóa đơn thực mua quyết toán hoạt động bánh kẹo phục vụ họp mặt, lễ hội, quà tặng thăm viên chức nghỉ hưu dịp lễ tết... Mua hoa tươi phúc lợi tiền 69 triệu đồng quy chế chi tiêu nội bộ. Hiệu trưởng, kế toán bếp trưởng trường tiền hàng đơn vị cung thực phẩm tổng tiền 436 triệu đồng vi phạm quy định khoản 2 22 luật phòng chống tham nhũng. Trong đó, Võ Minh Thông, hiệu trưởng trường 100 triệu đồng, Huỳnh Thị Thúy bếp trưởng 312 triệu đồng. Theo Thanh tra Gò Vấp, Thúy nhân viên hợp đồng thời hạn trường. Với kết luận sai phạm, Chánh Thanh tra Gò Vấp ban hành 4 quyết định thu hồi tiền nộp ngân sách Nhà nước. Trong quyết định thu hồi tiền 436 triệu đồng hiệu trưởng, bếp trưởng, kế toán trường Tiểu học Hanh Thông quà sai quy định.\n",
            "This is \"['Giáo dục']\" news, you predicted it is \"['Pháp luật']\" news\n",
            "------------------------------------------------------------\n",
            "------------------------------------------------------------\n",
            "Sở LĐ-TB&XH tỉnh Quảng Ngãi quyết định đình hoạt động giáo dục nghề nghiệp trường Trung Đông Á. Theo đó, trường đình tuyển sinh 2022 đối ngành, nghề Sở LĐ-TB&XH tỉnh Quảng Ngãi giấy chứng đăng ký hoạt động giáo dục nghề nghiệp. Trường Trung Đông Á đình hoạt động bảo đảm kiện hoạt động quy định Nghị định 24 Chính phủ. Đây Nghị định sửa đổi, bổ sung Nghị định quy định kiện đầu tư hoạt động lĩnh vực giáo dục nghề nghiệp. Theo Sở LĐ-TB&XH tỉnh Quảng Ngãi, trường Trung Đông Á đình hoạt động 24/7/2022. Nếu thời trường Trung Đông Á bổ sung kiện hoạt động quy định dừng hoạt động. Trước đó, 5/2022, Cơ quan An ninh tra Công an tỉnh Quảng Ngãi quyết định khởi tố can thực hiện lệnh bắt tạm giam đối Phạm Minh Trí, Hiệu trưởng Trường Trung Đông Á tra hành vi \"Giả mạo công tác\", quy định khoản 2 359 Bộ luật Hình sự. Ngoài ra, Cơ quan An ninh tra Công an tỉnh quyết định khởi tố can lệnh tạm giam đối Nguyễn Văn Minh (sinh 1993), Phó Trưởng phòng Đào trường Trung Đông Á tra hành vi trên. Cơ quan tra xác định, Trí Minh lợi dụng chức vụ quyền hạn trái quy định Trung nhu cầu. * Mời quý độc giả dõi chương trình phát sóng Đài Truyền hình Việt Nam TV Online VTVGo! Từ khóa:\n",
            "This is \"['Giáo dục']\" news, you predicted it is \"['Pháp luật']\" news\n",
            "------------------------------------------------------------\n",
            "------------------------------------------------------------\n",
            "Theo kênh truyền hình CNN, 14.000 xe trượt điện (scooter) thủ đô Italy lấn chiếm vỉa hè, lái xe vụ tai nạn thương vong. Là giải pháp thay phương tiện công cộng đại dịch COVID-19, dịch vụ thuê xe trượt trở phổ biến Italy. Tuy nhiên, sử dụng nay, giới chức ghi 4 thiệt mạng. Cơ quan y tế 3 ca chấn thương liên quan xe trượt điện. Số đội mũ bảo hiểm chạy xe hiếm trường hợp vi phạm lỗi phạt. Chỉ 2% xe, 270 chiếc, thuê ngày. Những xe đến, xếp vỉa hè thách thức đối tham gia giao thông, đặc biệt đối khuyết tật. Chủ tịch Hiệp hội mù khiếm thị Italy Giuliano Frittelli chứng kiến cảnh tượng xe trượt xếp hỗn độn vỉa hè văn phòng ông. Ông chia sẻ CNN đối khiếm thị, bẫy chết chóc. \"Vấn đề đầu tiên tình trạng đỗ xe bừa bãi\", Frittelli giải hình dạng đặc biệt xe khiếm thị vấp ngã đi khu vực này. Vì xe chạy điện tiếng động, khăn hướng khiếm thị. Không khuyết tật, già phụ huynh đẩy xe nôi vất vả né vỉa hè rẫy xe trượt điện. Hiệp hội mù khiếm thị Italy Tòa thị Rome quy định bắt buộc vị trí đậu xe trượt điện. Frittelli chỉnh độ ồn tối thiểu xe 30 decibel cảnh báo dân gần. Để giải quyết tình trạng tràn lan xe trượt điện đường phố, Ủy viên Hội đồng giao thông Tòa thị Rome Eugenio Patanè 1/1/2023, thành phố gia hạn giấy phép 9.000 xe cắt 3 công ty thuê. Đồng thời, thành phố giới hạn tỷ lệ trăm xe trượt định ngoại ô khu vực lân cận dân thể xuyên sử dụng. Không nguy hại dân, xe trượt điện vấn nạn mỹ quan thành phố lịch sử này. Đầu 6, hai du Mỹ phạt 800 USD tội ném xe trượt điện bậc thang Tây Ban Nha, thiệt hại 26.000 USD đá cẩm thạch.\n",
            "This is \"['Giáo dục']\" news, you predicted it is \"['Pháp luật']\" news\n",
            "------------------------------------------------------------\n",
            "------------------------------------------------------------\n",
            "Liên hiệp Hội Khoa học Kỹ thuật Việt Nam phối hợp UBND thành phố Hà Nội tổ chức Hội thảo khoa học: \"Giải pháp tổng thể cải sông Tô Lịch thành công viên lịch sử - văn hóa - tâm linh (Công viên hữu nghị Việt - Nhật) thiết chế văn hóa, hệ thống hầm ngầm chống ngập kết hợp tốc ngầm dọc sông Tô Lịch\". Tại đây, Nguyễn Tuấn Anh, Chủ tịch HĐQT JVE Group (đơn vị đề xuất dự án) biết, dự án tổng chiều 12,6km, bắt đầu hợp lưu 5 trục đường giao là: Hoàng Quốc Việt - Lạc Long Quân - Võ Chí Công (đường cao) - Hoàng Hoa Thám - Chợ Bưởi (thượng lưu), chạy dọc sông đập Thanh Liệt (hạ lưu). Quy mô dự án 2 hạng mục: Hợp hệ thống hầm ngầm chống ngập kết hợp tốc ngầm (ở mặt đất) cải sông Tô Lịch thành \"Công viên lịch sử - văn hóa - tâm linh\" (ở sông Tô Lịch). Phương án tài dự kiến đề xuất chủ yếu sử dụng vốn vay ưu đãi ODA Cơ quan Hợp tác quốc tế Nhật Bản (JICA) vốn đối ứng nước... Mới nghiên cứu Phó Chủ tịch UBND thành phố Hà Nội Dương Đức Tuấn JVE đề xuất giải pháp gian kiến trúc, cảnh quan thoát ranh giới sông Tô Lịch nghiên cứu liên hệ tổng thể sông Tô Lịch sông Lừ, sông Sét hệ thống thoát nước, tưới tiêu, thu gom thải… thành phố. Về đề xuất hầm thoát kết hợp đường tốc 11 km dọc sông Tô Lịch, lãnh đạo Hà Nội giải pháp tương đối kỹ thuật công nghệ, xét. Bên cạnh lực thực hiện đề xuất lớn, phương án toán kinh phí xây dựng, hình thức đầu tư xét chứng minh khả thi đề xuất. Lãnh đạo thành phố đề nghị JVE tiếp tục nghiên cứu, hoàn thiện đề xuất cải sông Tô Lịch sở kiến chuyên gia, quan quản lý nước, kiến quan thẩm quyền. Trao đổi PV Tiền Phong, lãnh đạo Sở Xây dựng Hà Nội biết, thành phố giao Sở Xây dựng sở ngành liên quan nghiên cứu đề xuất trên. Có thể tưởng thời gian chuẩn bị, lực lớn. \"Ngoài ra, hiện sông Tô Lịch thực hiện tuyến cống gom thải máy xử lý thải Yên Xá. Do thể triển khai giai đoạn này\", lãnh đạo Sở Xây dựng Hà Nội thông tin. Phó Chủ tịch Hội Quy hoạch phát triển đô thị Việt Nam, TS.KTS Đào Ngọc Nghiêm định: Sông Tô Lịch yếu tố cảnh quan thành phố yếu tố văn hóa truyền thống. Dự án triển khai góp giải quyết tình trạng ô nhiễm môi trường, sạch khí, sạch dòng nước… góp quan trọng nâng tầm giá trị truyền thống, văn hóa Hà Nội. Theo KTS Đào Ngọc Nghiêm, 2011, thành phố Hà Nội phê duyệt nhiệm vụ Quy hoạch chi tiết tỷ lệ 1/500 hai bờ tuyến sông Tô Lịch, yêu cầu lập phát huy vai trò mặt nước, cảnh quan hai bờ sông, kết nối trục gian hai bên… Tuy nhiên, quy hoạch thực hiện xử lý ô nhiễm dòng sông giải quyết được. \"Vấn đề hiện sạch sông khai thác,\" Nghiêm định. Đối tưởng xây đường tốc ngầm kết hợp hầm chống ngập dọc sông Tô Lịch, KTS Nghiêm bàn vội xác định mục tiêu vốn. KTS Nguyễn Anh Tuấn (Cty CP ATH Homes) thêm, sông Tô Lịch Hội Quy hoạch phát triển đô thị Việt Nam đề xuất cống hóa 1,2km sông Kim Ngưu sạch môi trường, kết hợp thương mại dịch vụ công cộng. Về lý tưởng triển khai, vị chuyên gia rằng: Ở toán lực đầu tư. Nhà đầu tư kinh doanh hồi vốn đề xuất khối dịch vụ 3 tầng khu vực cống hóa, tưởng chí xác định vốn, tổng đầu tư. \"Tôi tưởng đi thực hiện lớn\", KTS Tuấn nói.\n",
            "This is \"['Giáo dục']\" news, you predicted it is \"['Pháp luật']\" news\n",
            "------------------------------------------------------------\n",
            "------------------------------------------------------------\n",
            "Theo Samsung, mẫu chip 3 nm hệ đầu tiên áp dụng công nghệ bóng Gate-All-Around (GAA) tiết kiệm điện 45%, diện tích bề mặt 16%, đồng thời cải thiện hiệu suất 23% công nghệ FinFET hiện có. Thế hệ tiếp chip 3 nm GAA mong chờ phép tiêu thụ điện năng 50%, diện tích bề mặt 35% cung hiệu suất 30%. Sự đột phá công nghệ sản xuất chip tiên tiến diễn đối thủ TSMC Đài Loan (Trung Quốc), dự kiến Samsung hàng kiếm sản phẩm chip mẽ, phép sản phẩm công nghệ hơn, hiệu hơn. \"Samsung chương lĩnh vực kinh doanh chế chip hiện nay, bắt đầu sản xuất hàng loạt chip 3 nm\", Kyung Kye-hyun, Giám đốc hành mảng giải pháp thiết Samsung, giám sát hoạt động kinh doanh chip, lễ xuất xưởng sở sản xuất thành phố Hwaseong (tỉnh Gyeonggi), Seoul 40 k m nam. \"Sự phát triển công nghệ GAA dự kiến thay quy trình FinFET đột phá tạo\", Kyung nói. Samsung họ đã bắt đầu phát triển công nghệ GAA 2000 thành công áp dụng chip 3 nm 2017. Người khổng lồ công nghệ máy hiệu suất sản phẩm đầu tiên sản xuất dựa công nghệ GAA 3 nm kế hoạch rộng danh mục sản phẩm khác. Từ quý III/2021, sản xuất chip giới hợp tác đối tác mình, bao công ty công nghệ Đức Siemens công ty thiết kế silicon Synopsys Mỹ thành viên Hệ sinh thái chế chip tiên tiến Samsung (SAFETM), cung hàng thiết kế tảng chip dịch vụ khác. Người khổng lồ công nghệ Hàn Quốc giới thiệu chip 3 nm Tổng thống Mỹ Joe Biden 5 thăm khu phức hợp Pyeongtaek Samsung, sở giới nằm Seoul 70 km nam. TSMC, sản xuất chip hợp đồng giới, bắt đầu sản xuất hàng loạt chip 3 nm nửa nay. TSMC Samsung cạnh tranh gay gắt liên tục chip tiên tiến hiệu thị trường, giành hợp đồng sản xuất chip. Là sản xuất chip sản xuất chip hợp đồng hai giới, Samsung công nghệ chip 2 nm giai đoạn phát triển ban đầu dự kiến sản xuất hàng loạt 2025. Theo công ty nghiên cứu thị trường TrendForce, quý đầu tiên nay, TSMC chiếm 53,5% thị trường sản xuất chip hợp đồng toàn cầu, tiếp Samsung 16,3%. Năm 2019, Samsung công bố kế hoạch đầu tư khổng lồ trị giá 171.000 tỷ won (151 tỷ USD) lĩnh vực sản xuất vi xử lý sản xuất chip hợp đồng 2030, rộng vai trò tiên phong lĩnh vực kinh doanh nhớ. Tháng trước, Samsung tiết lộ kế hoạch đầu tư bổ sung lĩnh vực kinh doanh chip, cam kết củng cố vị trí hàng đầu nỗ lực nâng hoạt động kinh doanh sản xuất chip hợp đồng hệ sinh thái thiết kế tảng chip dịch vụ liên quan Hàn Quốc. Nguyễn Đức (theo Yonhap)\n",
            "This is \"['Pháp luật']\" news, you predicted it is \"['Giáo dục']\" news\n",
            "------------------------------------------------------------\n",
            "------------------------------------------------------------\n",
            "Cùng đi đoàn kiểm tra Thứ trưởng Bộ Giáo dục Đào Nguyễn Hữu Độ Phó Chủ tịch UBND TP. Hà Nội Chử Xuân Dũng. Các sinh viên tiếp sức mùa thi Trường THCS Nghĩa Tân bất ngờ Phó Thủ tướng. Sau 3 tham gia hoạt động tiếp sức mùa thi, Mai Thị Trang, sinh viên 3, Học viện Tài \"Tiếp sức mùa thi\" tổ chức bản, chu đáo hơn, hỗ trợ thí sinh vấn đề liên quan thủ tục thi, uống, đồ nhẹ… Theo Trịnh Thị Dung, Phó Chủ tịch UBND Cầu Giấy, Trưởng Ban Chỉ đạo thi nghiệp THPT Quận, kỳ thi THPT 2022, Cầu Giấy 181 thi 6.313 thí sinh. Trong đó, thi trường THCS Nghĩa Tân đông 36 phòng thi, 814 thí sinh. Điểm thi bố trí phụ huynh chờ trường tiểu học Nghĩa Tân cạnh bảo đảm thi thông thoáng, tập trung đông người, ùn tắc giao thông. Báo cáo Phó Thủ tướng, Vũ Thị Xuân Dung, Trưởng thi Trường THCS Nghĩa Tân cán coi thi thực hiện nghiêm túc quy chế thi bốc thăm giám thị, hướng dẫn, nhắc nhở thí sinh vật dụng quy định phòng thi, bố trí khu đồ phòng thi tối thiểu 25 m, bố trí phòng thi thí sinh nhiễm COVID-19… \"So trước, tổ chức kỳ thi THPT nhẹ nhàng, thuận lợi thí sinh; quy định chặt chẽ, ràng trách nhiệm cán coi thi\", Vũ Thị Xuân Dung bày tỏ đề xuất tổ chức thi, thời gian tổ chức họp phân công công tác chuẩn kỳ thi chu đáo, an toàn, đồng thời kiện thầy trường trường trông thi. Phó Thủ tướng Vũ Đức Đam đánh giá công tác tổ chức kỳ thi THPT 2022 TP. Hà Nội địa phương nước. Sau thời gian thực hiện lộ trình đổi mới, giao địa phương tổ chức, nay, kỳ thi THPT thực nhẹ nhàng đối thí sinh, dân, xã hội bảo đảm trung thực, quan, quan trọng trường đại học, đẳng xét tuyển. Phó Thủ tướng lưu ý, thực hiện quy chế thi sức nghiêm túc song đồng thời kiện tối đa thí sinh. Cụ thể, thi nhắc nhở thí sinh vòng, thiết bị, vật dụng phép phòng thi; đối trường hợp muộn vi phạm quy chế phòng thi xét kỹ càng, thực tế, cháu thiệt thòi lỗi vô mắc phải. Cùng bắt đầu thực hiện xét tuyển đại học, đẳng hệ thống, thời gian Bộ GD&ĐT tiếp tục đổi mới, phong phú ngân hàng đề thi, bảo đảm đánh giá chất giáo dục phổ thông đáp ứng yêu cầu phân hoá trường đại học, đẳng xét tuyển. Phó Chủ tịch UBND TP. Hà Nội Chử Xuân Dũng, Trưởng Ban Chỉ đạo thi THPT TP. Hà Nội kỳ thi nay, Thành phố tiến hành đánh giá, dựa năng lực ngân hàng đề thi Bộ GD&ĐT đề xuất tổ chức thi máy tính, kết hợp thi trực tiếp kỳ thi THPT khu vực kiện. Tại thi Trường THCS Nghĩa Tân, Thứ trưởng Bộ GD&ĐT Nguyễn Hữu Độ 989.000 thí sinh đăng ký dự thi (đạt tỉ lệ 98%), 38 trường hợp thí sinh nhiễm COVID-19 bố trí phòng thi riêng. Môn thi Văn diễn an toàn, nghiêm túc, trường thi yên tĩnh. Cán tham gia kỳ thi thực hiện quy chế, phòng, chống gian lận công nghệ cao; bảo đảm an toàn dịch bệnh thí sinh. Tuy nhiên, Thứ trưởng Nguyễn Hữu Độ yêu cầu tất thi tiếp tục rút kinh nghiệm, chủ quan thi tiếp theo. \"Đây kỳ thi quan trọng đối học sinh. Cả xã hội kiện thuận lợi em. Hy vọng kết kỳ thi\", Thứ trưởng Nguyễn Hữu Độ nói. Đình Nam\n",
            "This is \"['Pháp luật']\" news, you predicted it is \"['Giáo dục']\" news\n",
            "------------------------------------------------------------\n",
            "------------------------------------------------------------\n",
            "Ngày 7-7, Công an Cầu Giấy (Hà Nội) tra hai hành vi đi thi hộ trong kỳ thi đánh giá năng lực tiếng Nhật Trường đại học Ngoại ngữ (Đại học Quốc gia Hà Nội). Theo đó, 3-7, phòng thi 200, lực công an phối hợp hội đồng thi phát hiện thí sinh báo danh 361.xx P.V.T. dấu hiệu sử dụng CMND giả thi. Làm lực chức năng, khai V.D.H. (32 tuổi, trú Hà Nội), thuê thi hộ P.V.T. giá 4 triệu đồng. Trước đó, lực công an phát hiện nữ sinh viên học trường đại học ngoại ngữ địa bàn Hà Nội sử dụng thẻ CCCD đi thi hộ. Theo lãnh đạo Công an Cầu Giấy, đơn vị đặc biệt trọng công tác an ninh, phòng chống, ngăn chặn hành vi gian lận thi cử, bối cảnh kỳ thi THPT quốc gia 2022 diễn ra. Thực tế, tỉ lệ hành vi đi thi hộ kỳ thi THPT quốc gia thấp, thí sinh kiểm tra nhân thân. Các hành vi gian lận chủ yếu liên quan sử dụng thiết công nghệ tai siêu nhỏ, máy gắn sim thiết liên lạc truyền phát thông ngược lại, camera siêu gắn kính… Do đó, kỳ thi THPT quốc gia 2022 diễn ra, Đội an ninh Công an Cầu Giấy quán triệt 100% cán chiến sĩ diện thiết công nghệ thể sử dụng mục đích gian lận thi cử, đồng thời tuyên truyền cán coi thi dấu hiệu nghi vấn thiết này. Công an thành lập tổ công tác hóa trang, mật phục thi, phát hiện hành vi gian lận thi cử.\n",
            "This is \"['Pháp luật']\" news, you predicted it is \"['Giáo dục']\" news\n",
            "------------------------------------------------------------\n",
            "------------------------------------------------------------\n",
            "Vén màn dịch vụ quái đản núp bóng quán karaoke Nguồn: https://nld.com.vn/video/video-nhung-chieu-tro-cua-karaoke-thac-loan-o-binh-duong-20220617234004...Nguồn: https://nld.com.vn/video/video-nhung-chieu-tro-cua-karaoke-thac-loan-o-binh-duong-20220617234004189.htm \n",
            "This is \"['Pháp luật']\" news, you predicted it is \"['Giáo dục']\" news\n",
            "------------------------------------------------------------\n",
            "------------------------------------------------------------\n",
            "Cụ thể: Không dấu hiệu cảnh báo, phòng ngừa; mặt sàn khu vực lưu chất thải nguy hại kín khít, mưa chảy tràn vào; vật liệu hấp thụ xẻng sử dụng trường hợp rò rỉ, rơi vãi, đổ tràn chất thải nguy hại thể lỏng; mái che đảm bảo kín nắng, mưa toàn khu vực lưu chất thải nguy hại… Ngoài ra, 40.000 kg cặn thải phát sinh trình xử lý khí thải lò hơi lò nhiệt, đất, trời…, không phân chất thải nguy hại quản lý quy định chất thải phát sinh, tập kết khu vực lưu chất thải nguy hại thực hiện phân chất thải quản lý quy định…\n",
            "This is \"['Pháp luật']\" news, you predicted it is \"['Giáo dục']\" news\n",
            "------------------------------------------------------------\n",
            "------------------------------------------------------------\n",
            "Ngày 18/7, thông Cục Quản lý chất (Bộ GD&ĐT), đoàn học sinh Việt Nam tham dự Olympic Sinh học quốc tế (IBO) 33 2022 xuất sắc giành 4 huy chương, 1 huy chương Bạc 3 huy chương Đồng. Trong đó, Trương Văn Quốc Đạt, học sinh Trường THPT chuyên Quốc học, Thừa Thiên Huế đoạt huy chương Bạc. 3 học sinh đoạt huy chương Đồng Nguyễn Phúc Lâm, học sinh Trường THPT chuyên Quang Trung, Bình Phước; Võ Tiến Thành, học sinh trường THPT chuyên Hùng Vương, Phú Thọ Đỗ Trọng Phước Nguyên, học sinh Trường THPT chuyên Lý Tự Trọng, TP. Cần Thơ. Kết nổi bật IBO 2022 khẳng định nỗ lực, cố gắng học sinh, giảng viên, giáo viên trường, quản lý. Học sinh giỏi Sinh học Việt Nam tiếp tục khẳng định vị trí đấu trường khu vực quốc tế. IBO 33 Cộng hoà Armenica đăng cai tổ chức 10 18/7, tham dự 231 thí sinh 63 quốc gia lãnh thổ. Phương Liên\n",
            "This is \"['Pháp luật']\" news, you predicted it is \"['Giáo dục']\" news\n",
            "------------------------------------------------------------\n"
          ]
        }
      ]
    },
    {
      "cell_type": "code",
      "execution_count": 102,
      "metadata": {
        "id": "7bBMME_ABT13",
        "outputId": "7c5f3427-f99e-42bb-b7de-53b9a608fc7e",
        "colab": {
          "base_uri": "https://localhost:8080/",
          "height": 472
        }
      },
      "outputs": [
        {
          "output_type": "display_data",
          "data": {
            "text/plain": [
              "<Figure size 640x480 with 1 Axes>"
            ],
            "image/png": "[encoded data removed]"
          },
          "metadata": {}
        }
      ],
      "source": [
        "# Plot learning curve (with costs)\n",
        "costs = np.squeeze(d['costs'])\n",
        "plt.plot(costs)\n",
        "plt.ylabel('cost')\n",
        "plt.xlabel('iterations (per hundreds)')\n",
        "plt.title(\"Learning rate =\" + str(d[\"learning_rate\"]))\n",
        "plt.show()"
      ]
    },
    {
      "cell_type": "markdown",
      "source": [
        "##Further analysis (optional/ungraded exercise) ##\n",
        "\n",
        "Congratulations on building your first text classification model. Let's analyze it further, and examine possible choices for the learning rate $\\alpha$."
      ],
      "metadata": {
        "id": "8vUgKeYWcQul"
      }
    },
    {
      "cell_type": "code",
      "source": [
        "learning_rates = [0.01, 0.1, 0.5]\n",
        "models = {}\n",
        "for i in learning_rates:\n",
        "    print (\"learning rate is: \" + str(i))\n",
        "    models[str(i)] = model(xtrain_tfidf, train_y, xtest_tfidf, test_y, num_iterations = 3000, learning_rate = i, print_cost = False)\n",
        "    print ('\\n' + \"-------------------------------------------------------\" + '\\n')\n",
        "\n",
        "for i in learning_rates:\n",
        "    plt.plot(np.squeeze(models[str(i)][\"costs\"]), label= str(models[str(i)][\"learning_rate\"]))\n",
        "\n",
        "plt.ylabel('cost')\n",
        "plt.xlabel('iterations (hundreds)')\n",
        "\n",
        "legend = plt.legend(loc='upper center', shadow=True)\n",
        "frame = legend.get_frame()\n",
        "frame.set_facecolor('0.90')\n",
        "plt.show()"
      ],
      "metadata": {
        "colab": {
          "base_uri": "https://localhost:8080/",
          "height": 755
        },
        "id": "o8xke55gcCVO",
        "outputId": "59b3e35e-9fb8-47c8-beb5-14da29016e07"
      },
      "execution_count": 105,
      "outputs": [
        {
          "output_type": "stream",
          "name": "stdout",
          "text": [
            "learning rate is: 0.01\n",
            "train accuracy: 84.8993288590604 %\n",
            "test accuracy: 84.57330415754923 %\n",
            "\n",
            "-------------------------------------------------------\n",
            "\n",
            "learning rate is: 0.1\n",
            "train accuracy: 96.08987452582434 %\n",
            "test accuracy: 95.77680525164114 %\n",
            "\n",
            "-------------------------------------------------------\n",
            "\n",
            "learning rate is: 0.5\n",
            "train accuracy: 98.54829296761015 %\n",
            "test accuracy: 98.31509846827133 %\n",
            "\n",
            "-------------------------------------------------------\n",
            "\n"
          ]
        },
        {
          "output_type": "display_data",
          "data": {
            "text/plain": [
              "<Figure size 640x480 with 1 Axes>"
            ],
            "image/png": "[encoded data removed]"
          },
          "metadata": {}
        }
      ]
    },
    {
      "cell_type": "markdown",
      "metadata": {
        "id": "O4VdaM4VBT15"
      },
      "source": [
        "## 6 - Test with your own news\n",
        "\n",
        "\n"
      ]
    },
    {
      "cell_type": "code",
      "execution_count": 103,
      "metadata": {
        "id": "VoZe5DZiBT17"
      },
      "outputs": [],
      "source": [
        "text = \"Người đàn ông quốc tịch Nga đã bị cảnh sát bắt do tình nghi sát hại đồng hương, quấn thi thể trong nylon và nhiều lớp vải, phi tang ở chỗ vắng. Ngày 4/2, Công an Bình Thuận đã tạm giữ hình sự nghi can, song chưa công bố danh tính. Cảnh sát sau đó xác định nạn nhân là\"\n",
        "\n",
        "x_tfidf = tfidf_vect.transform([text]).T.toarray()"
      ]
    },
    {
      "cell_type": "code",
      "execution_count": 104,
      "metadata": {
        "id": "E4YQPNBTBT18",
        "outputId": "383b6742-b04f-49e4-a335-9bc3590ff28c",
        "colab": {
          "base_uri": "https://localhost:8080/"
        }
      },
      "outputs": [
        {
          "output_type": "stream",
          "name": "stderr",
          "text": [
            "/usr/local/lib/python3.10/dist-packages/sklearn/preprocessing/_label.py:155: DataConversionWarning: A column-vector y was passed when a 1d array was expected. Please change the shape of y to (n_samples, ), for example using ravel().\n",
            "  y = column_or_1d(y, warn=True)\n"
          ]
        },
        {
          "output_type": "execute_result",
          "data": {
            "text/plain": [
              "array(['Pháp luật'], dtype=object)"
            ]
          },
          "metadata": {},
          "execution_count": 104
        }
      ],
      "source": [
        "y, _ = predict(d[\"w\"], d[\"b\"], x_tfidf)\n",
        "encoder.inverse_transform(y)"
      ]
    }
  ],
  "metadata": {
    "kernelspec": {
      "display_name": "base",
      "language": "python",
      "name": "python3"
    },
    "language_info": {
      "codemirror_mode": {
        "name": "ipython",
        "version": 3
      },
      "file_extension": ".py",
      "mimetype": "text/x-python",
      "name": "python",
      "nbconvert_exporter": "python",
      "pygments_lexer": "ipython3",
      "version": "3.11.5"
    },
    "orig_nbformat": 4,
    "colab": {
      "provenance": []
    }
  },
  "nbformat": 4,
  "nbformat_minor": 0
}